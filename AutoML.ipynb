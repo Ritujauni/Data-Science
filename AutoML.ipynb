{
  "nbformat": 4,
  "nbformat_minor": 0,
  "metadata": {
    "colab": {
      "name": "Final_AutoML.ipynb",
      "provenance": [],
      "collapsed_sections": [
        "vHbBwqbP8UYP",
        "Xycmf9gw8mFh",
        "6mZFwFCb6Yei",
        "COUsdWKJBKJy",
        "7J53RRsbENqj",
        "ZNBB77PgCPZH",
        "JIAoCNofDK7i",
        "-RXy8QGGEcUq",
        "Xl6uHyhX75FO",
        "Z2j7kNdBhebH",
        "nwFy5pHzMpJT"
      ]
    },
    "kernelspec": {
      "name": "python3",
      "display_name": "Python 3"
    },
    "language_info": {
      "name": "python"
    }
  },
  "cells": [
    {
      "cell_type": "markdown",
      "source": [
        "#**Data Science Engineering Methods and Tools**\n",
        "\n",
        "## **Assignment 2** – Auto ML\n",
        "\n",
        "**Name** - Rituja Lolam\n",
        "\n",
        "**Nuid** - 002146428\n",
        "\n",
        "# **Abstract**\n",
        "\n",
        "\n",
        "\n",
        "**Columns:**\n",
        "\n",
        "age: age of primary beneficiary\n",
        "\n",
        "sex: insurance contractor gender: female(0), male(1)\n",
        "\n",
        "bmi: Body mass index, providing an understanding of body, weights that are relatively high or low relative to height,\n",
        "objective index of body weight (kg / m ^ 2) using the ratio of height to weight, ideally 18.5 to 24.9\n",
        "\n",
        "children: Number of children covered by health insurance \n",
        "\n",
        "smoker: Smoker(1),Non-smoker(0)\n",
        "\n",
        "region: the beneficiary's residential area in the US: southwest(1)\n",
        "southeast(2),northwest(3),northeast(4)\n",
        "\n",
        "charges: Individual medical costs billed by health insurance\n",
        "       \n",
        "     \n"
      ],
      "metadata": {
        "id": "c4IxfdYPwaGs"
      }
    },
    {
      "cell_type": "markdown",
      "source": [
        "## **Installing H2O** "
      ],
      "metadata": {
        "id": "UG9SbuPY4lFT"
      }
    },
    {
      "cell_type": "code",
      "source": [
        "!pip install requests\n",
        "!pip install tabulate\n",
        "!pip install \"colorama>=0.3.8\"\n",
        "!pip install future\n",
        "\n",
        "\n",
        "!pip install -f http://h2o-release.s3.amazonaws.com/h2o/latest_stable_Py.html h2o"
      ],
      "metadata": {
        "colab": {
          "base_uri": "https://localhost:8080/"
        },
        "id": "0iBP7TnY4dNn",
        "outputId": "d639121c-2e33-4efa-9968-737bb4cd90e8"
      },
      "execution_count": 1,
      "outputs": [
        {
          "output_type": "stream",
          "name": "stdout",
          "text": [
            "Requirement already satisfied: requests in /usr/local/lib/python3.7/dist-packages (2.23.0)\n",
            "Requirement already satisfied: certifi>=2017.4.17 in /usr/local/lib/python3.7/dist-packages (from requests) (2021.10.8)\n",
            "Requirement already satisfied: chardet<4,>=3.0.2 in /usr/local/lib/python3.7/dist-packages (from requests) (3.0.4)\n",
            "Requirement already satisfied: urllib3!=1.25.0,!=1.25.1,<1.26,>=1.21.1 in /usr/local/lib/python3.7/dist-packages (from requests) (1.24.3)\n",
            "Requirement already satisfied: idna<3,>=2.5 in /usr/local/lib/python3.7/dist-packages (from requests) (2.10)\n",
            "Requirement already satisfied: tabulate in /usr/local/lib/python3.7/dist-packages (0.8.9)\n",
            "Requirement already satisfied: colorama>=0.3.8 in /usr/local/lib/python3.7/dist-packages (0.4.4)\n",
            "Requirement already satisfied: future in /usr/local/lib/python3.7/dist-packages (0.16.0)\n",
            "Looking in links: http://h2o-release.s3.amazonaws.com/h2o/latest_stable_Py.html\n",
            "Requirement already satisfied: h2o in /usr/local/lib/python3.7/dist-packages (3.36.0.2)\n",
            "Requirement already satisfied: future in /usr/local/lib/python3.7/dist-packages (from h2o) (0.16.0)\n",
            "Requirement already satisfied: tabulate in /usr/local/lib/python3.7/dist-packages (from h2o) (0.8.9)\n",
            "Requirement already satisfied: requests in /usr/local/lib/python3.7/dist-packages (from h2o) (2.23.0)\n",
            "Requirement already satisfied: idna<3,>=2.5 in /usr/local/lib/python3.7/dist-packages (from requests->h2o) (2.10)\n",
            "Requirement already satisfied: urllib3!=1.25.0,!=1.25.1,<1.26,>=1.21.1 in /usr/local/lib/python3.7/dist-packages (from requests->h2o) (1.24.3)\n",
            "Requirement already satisfied: chardet<4,>=3.0.2 in /usr/local/lib/python3.7/dist-packages (from requests->h2o) (3.0.4)\n",
            "Requirement already satisfied: certifi>=2017.4.17 in /usr/local/lib/python3.7/dist-packages (from requests->h2o) (2021.10.8)\n"
          ]
        }
      ]
    },
    {
      "cell_type": "code",
      "source": [
        "# Import libraries\n",
        "import h2o\n",
        "from h2o.automl import H2OAutoML\n",
        "import random, os, sys\n",
        "from datetime import datetime\n",
        "import pandas as pd\n",
        "import logging\n",
        "import csv\n",
        "import optparse\n",
        "import time\n",
        "import json\n",
        "from distutils.util import strtobool\n",
        "import psutil\n",
        "import numpy as np\n",
        "import matplotlib.pyplot as plt"
      ],
      "metadata": {
        "id": "mANghqgB5WfR"
      },
      "execution_count": 2,
      "outputs": []
    },
    {
      "cell_type": "code",
      "source": [
        "# Set a minimum memory size and a run time in seconds\n",
        "min_mem_size=6 \n",
        "run_time=222"
      ],
      "metadata": {
        "id": "FBiNiyWy5bCk"
      },
      "execution_count": 3,
      "outputs": []
    },
    {
      "cell_type": "code",
      "source": [
        "# Use 50% of availible resources\n",
        "pct_memory=0.5\n",
        "virtual_memory=psutil.virtual_memory()\n",
        "min_mem_size=int(round(int(pct_memory*virtual_memory.available)/1073741824,0))\n",
        "print(min_mem_size)"
      ],
      "metadata": {
        "colab": {
          "base_uri": "https://localhost:8080/"
        },
        "id": "y4As4w5d5dMT",
        "outputId": "95f9aa0c-0ba6-4b6b-d259-7d5cd28026c2"
      },
      "execution_count": 4,
      "outputs": [
        {
          "output_type": "stream",
          "name": "stdout",
          "text": [
            "6\n"
          ]
        }
      ]
    },
    {
      "cell_type": "markdown",
      "source": [
        "## **Starting H2O server** "
      ],
      "metadata": {
        "id": "1JzLIISe6UX7"
      }
    },
    {
      "cell_type": "code",
      "source": [
        "# 65535 Highest port no\n",
        "# Start the H2O server on a random port\n",
        "port_no=random.randint(5555,55555)\n",
        "\n",
        "#  h2o.init(strict_version_check=False,min_mem_size_GB=min_mem_size,port=port_no) # start h2o\n",
        "try:\n",
        "  h2o.init(strict_version_check=False,min_mem_size_GB=min_mem_size,port=port_no) # start h2o\n",
        "except:\n",
        "  logging.critical('h2o.init')\n",
        "  h2o.download_all_logs(dirname=logs_path, filename=logfile)      \n",
        "  h2o.cluster().shutdown()\n",
        "  sys.exit(2)"
      ],
      "metadata": {
        "colab": {
          "base_uri": "https://localhost:8080/",
          "height": 554
        },
        "id": "9Vh3E5qp5iBh",
        "outputId": "c594a960-8826-4985-b27e-4cab6729170c"
      },
      "execution_count": 5,
      "outputs": [
        {
          "output_type": "stream",
          "name": "stdout",
          "text": [
            "Checking whether there is an H2O instance running at http://localhost:21649 ..... not found.\n",
            "Attempting to start a local H2O server...\n",
            "  Java Version: openjdk version \"11.0.13\" 2021-10-19; OpenJDK Runtime Environment (build 11.0.13+8-Ubuntu-0ubuntu1.18.04); OpenJDK 64-Bit Server VM (build 11.0.13+8-Ubuntu-0ubuntu1.18.04, mixed mode, sharing)\n",
            "  Starting server from /usr/local/lib/python3.7/dist-packages/h2o/backend/bin/h2o.jar\n",
            "  Ice root: /tmp/tmpu973x0qe\n",
            "  JVM stdout: /tmp/tmpu973x0qe/h2o_unknownUser_started_from_python.out\n",
            "  JVM stderr: /tmp/tmpu973x0qe/h2o_unknownUser_started_from_python.err\n",
            "  Server is running at http://127.0.0.1:21649\n",
            "Connecting to H2O server at http://127.0.0.1:21649 ... successful.\n"
          ]
        },
        {
          "output_type": "display_data",
          "data": {
            "text/html": [
              "<div style=\"overflow:auto\"><table style=\"width:50%\"><tr><td>H2O_cluster_uptime:</td>\n",
              "<td>06 secs</td></tr>\n",
              "<tr><td>H2O_cluster_timezone:</td>\n",
              "<td>Etc/UTC</td></tr>\n",
              "<tr><td>H2O_data_parsing_timezone:</td>\n",
              "<td>UTC</td></tr>\n",
              "<tr><td>H2O_cluster_version:</td>\n",
              "<td>3.36.0.2</td></tr>\n",
              "<tr><td>H2O_cluster_version_age:</td>\n",
              "<td>19 days </td></tr>\n",
              "<tr><td>H2O_cluster_name:</td>\n",
              "<td>H2O_from_python_unknownUser_aqv0uy</td></tr>\n",
              "<tr><td>H2O_cluster_total_nodes:</td>\n",
              "<td>1</td></tr>\n",
              "<tr><td>H2O_cluster_free_memory:</td>\n",
              "<td>6 Gb</td></tr>\n",
              "<tr><td>H2O_cluster_total_cores:</td>\n",
              "<td>2</td></tr>\n",
              "<tr><td>H2O_cluster_allowed_cores:</td>\n",
              "<td>2</td></tr>\n",
              "<tr><td>H2O_cluster_status:</td>\n",
              "<td>locked, healthy</td></tr>\n",
              "<tr><td>H2O_connection_url:</td>\n",
              "<td>http://127.0.0.1:21649</td></tr>\n",
              "<tr><td>H2O_connection_proxy:</td>\n",
              "<td>{\"http\": null, \"https\": null}</td></tr>\n",
              "<tr><td>H2O_internal_security:</td>\n",
              "<td>False</td></tr>\n",
              "<tr><td>H2O_API_Extensions:</td>\n",
              "<td>Amazon S3, XGBoost, Algos, Infogram, AutoML, Core V3, TargetEncoder, Core V4</td></tr>\n",
              "<tr><td>Python_version:</td>\n",
              "<td>3.7.12 final</td></tr></table></div>"
            ],
            "text/plain": [
              "--------------------------  ----------------------------------------------------------------------------\n",
              "H2O_cluster_uptime:         06 secs\n",
              "H2O_cluster_timezone:       Etc/UTC\n",
              "H2O_data_parsing_timezone:  UTC\n",
              "H2O_cluster_version:        3.36.0.2\n",
              "H2O_cluster_version_age:    19 days\n",
              "H2O_cluster_name:           H2O_from_python_unknownUser_aqv0uy\n",
              "H2O_cluster_total_nodes:    1\n",
              "H2O_cluster_free_memory:    6 Gb\n",
              "H2O_cluster_total_cores:    2\n",
              "H2O_cluster_allowed_cores:  2\n",
              "H2O_cluster_status:         locked, healthy\n",
              "H2O_connection_url:         http://127.0.0.1:21649\n",
              "H2O_connection_proxy:       {\"http\": null, \"https\": null}\n",
              "H2O_internal_security:      False\n",
              "H2O_API_Extensions:         Amazon S3, XGBoost, Algos, Infogram, AutoML, Core V3, TargetEncoder, Core V4\n",
              "Python_version:             3.7.12 final\n",
              "--------------------------  ----------------------------------------------------------------------------"
            ]
          },
          "metadata": {}
        }
      ]
    },
    {
      "cell_type": "markdown",
      "source": [
        "## **Importing dataset** "
      ],
      "metadata": {
        "id": "2gA_fe5B6pqJ"
      }
    },
    {
      "cell_type": "code",
      "source": [
        "# Import the dataset from Github\n",
        "url = \"https://github.com/Ritujauni/Data-Science/raw/main/insurance.csv\"\n",
        "df = h2o.import_file(path = url)"
      ],
      "metadata": {
        "colab": {
          "base_uri": "https://localhost:8080/"
        },
        "id": "5bX5dNZ65mOI",
        "outputId": "6ec8d30f-3867-4ae4-958f-cec5ce1a2a2f"
      },
      "execution_count": 6,
      "outputs": [
        {
          "output_type": "stream",
          "name": "stdout",
          "text": [
            "Parse progress: |████████████████████████████████████████████████████████████████| (done) 100%\n"
          ]
        }
      ]
    },
    {
      "cell_type": "code",
      "source": [
        "df.head()"
      ],
      "metadata": {
        "colab": {
          "base_uri": "https://localhost:8080/",
          "height": 254
        },
        "id": "35a-4Ua96JOQ",
        "outputId": "974c0fdc-f2b6-4a3f-adbc-95b5dc3713fe"
      },
      "execution_count": 7,
      "outputs": [
        {
          "output_type": "display_data",
          "data": {
            "text/html": [
              "<table>\n",
              "<thead>\n",
              "<tr><th style=\"text-align: right;\">  age</th><th style=\"text-align: right;\">  sex</th><th style=\"text-align: right;\">   bmi</th><th style=\"text-align: right;\">  children</th><th style=\"text-align: right;\">  smoker</th><th style=\"text-align: right;\">  region</th><th style=\"text-align: right;\">  charges</th></tr>\n",
              "</thead>\n",
              "<tbody>\n",
              "<tr><td style=\"text-align: right;\">   19</td><td style=\"text-align: right;\">    0</td><td style=\"text-align: right;\">27.9  </td><td style=\"text-align: right;\">         0</td><td style=\"text-align: right;\">       1</td><td style=\"text-align: right;\">       1</td><td style=\"text-align: right;\"> 16884.9 </td></tr>\n",
              "<tr><td style=\"text-align: right;\">   18</td><td style=\"text-align: right;\">    1</td><td style=\"text-align: right;\">33.77 </td><td style=\"text-align: right;\">         1</td><td style=\"text-align: right;\">       0</td><td style=\"text-align: right;\">       2</td><td style=\"text-align: right;\">  1725.55</td></tr>\n",
              "<tr><td style=\"text-align: right;\">   28</td><td style=\"text-align: right;\">    1</td><td style=\"text-align: right;\">33    </td><td style=\"text-align: right;\">         3</td><td style=\"text-align: right;\">       0</td><td style=\"text-align: right;\">       2</td><td style=\"text-align: right;\">  4449.46</td></tr>\n",
              "<tr><td style=\"text-align: right;\">   33</td><td style=\"text-align: right;\">    1</td><td style=\"text-align: right;\">22.705</td><td style=\"text-align: right;\">         0</td><td style=\"text-align: right;\">       0</td><td style=\"text-align: right;\">       3</td><td style=\"text-align: right;\"> 21984.5 </td></tr>\n",
              "<tr><td style=\"text-align: right;\">   32</td><td style=\"text-align: right;\">    1</td><td style=\"text-align: right;\">28.88 </td><td style=\"text-align: right;\">         0</td><td style=\"text-align: right;\">       0</td><td style=\"text-align: right;\">       3</td><td style=\"text-align: right;\">  3866.86</td></tr>\n",
              "<tr><td style=\"text-align: right;\">   31</td><td style=\"text-align: right;\">    0</td><td style=\"text-align: right;\">25.74 </td><td style=\"text-align: right;\">         0</td><td style=\"text-align: right;\">       0</td><td style=\"text-align: right;\">       2</td><td style=\"text-align: right;\">  3756.62</td></tr>\n",
              "<tr><td style=\"text-align: right;\">   46</td><td style=\"text-align: right;\">    0</td><td style=\"text-align: right;\">33.44 </td><td style=\"text-align: right;\">         1</td><td style=\"text-align: right;\">       0</td><td style=\"text-align: right;\">       2</td><td style=\"text-align: right;\">  8240.59</td></tr>\n",
              "<tr><td style=\"text-align: right;\">   37</td><td style=\"text-align: right;\">    0</td><td style=\"text-align: right;\">27.74 </td><td style=\"text-align: right;\">         3</td><td style=\"text-align: right;\">       0</td><td style=\"text-align: right;\">       3</td><td style=\"text-align: right;\">  7281.51</td></tr>\n",
              "<tr><td style=\"text-align: right;\">   37</td><td style=\"text-align: right;\">    1</td><td style=\"text-align: right;\">29.83 </td><td style=\"text-align: right;\">         2</td><td style=\"text-align: right;\">       0</td><td style=\"text-align: right;\">       4</td><td style=\"text-align: right;\">  6406.41</td></tr>\n",
              "<tr><td style=\"text-align: right;\">   60</td><td style=\"text-align: right;\">    0</td><td style=\"text-align: right;\">25.84 </td><td style=\"text-align: right;\">         0</td><td style=\"text-align: right;\">       0</td><td style=\"text-align: right;\">       3</td><td style=\"text-align: right;\"> 28923.1 </td></tr>\n",
              "</tbody>\n",
              "</table>"
            ]
          },
          "metadata": {}
        },
        {
          "output_type": "execute_result",
          "data": {
            "text/plain": [
              ""
            ]
          },
          "metadata": {},
          "execution_count": 7
        }
      ]
    },
    {
      "cell_type": "code",
      "source": [
        "df.types"
      ],
      "metadata": {
        "colab": {
          "base_uri": "https://localhost:8080/"
        },
        "id": "v3wG9jCf6_zp",
        "outputId": "048f8dd0-481a-496a-da74-062f6c26ac8a"
      },
      "execution_count": 8,
      "outputs": [
        {
          "output_type": "execute_result",
          "data": {
            "text/plain": [
              "{'age': 'int',\n",
              " 'bmi': 'real',\n",
              " 'charges': 'real',\n",
              " 'children': 'int',\n",
              " 'region': 'int',\n",
              " 'sex': 'int',\n",
              " 'smoker': 'int'}"
            ]
          },
          "metadata": {},
          "execution_count": 8
        }
      ]
    },
    {
      "cell_type": "code",
      "source": [
        "df.describe()"
      ],
      "metadata": {
        "colab": {
          "base_uri": "https://localhost:8080/",
          "height": 473
        },
        "id": "7pTxwUno7CKA",
        "outputId": "21371f95-d0f8-4d07-89ac-fc1ff96dc6f3"
      },
      "execution_count": 9,
      "outputs": [
        {
          "output_type": "stream",
          "name": "stdout",
          "text": [
            "Rows:1338\n",
            "Cols:7\n",
            "\n",
            "\n"
          ]
        },
        {
          "output_type": "display_data",
          "data": {
            "text/html": [
              "<table>\n",
              "<thead>\n",
              "<tr><th>       </th><th>age               </th><th>sex               </th><th>bmi               </th><th>children          </th><th>smoker             </th><th>region            </th><th>charges           </th></tr>\n",
              "</thead>\n",
              "<tbody>\n",
              "<tr><td>type   </td><td>int               </td><td>int               </td><td>real              </td><td>int               </td><td>int                </td><td>int               </td><td>real              </td></tr>\n",
              "<tr><td>mins   </td><td>18.0              </td><td>0.0               </td><td>15.96             </td><td>0.0               </td><td>0.0                </td><td>1.0               </td><td>1121.8739         </td></tr>\n",
              "<tr><td>mean   </td><td>39.20702541106125 </td><td>0.5052316890881914</td><td>30.663396860986524</td><td>1.0949177877429015</td><td>0.20478325859491778</td><td>2.4843049327354265</td><td>13270.422265141255</td></tr>\n",
              "<tr><td>maxs   </td><td>64.0              </td><td>1.0               </td><td>53.13             </td><td>5.0               </td><td>1.0                </td><td>4.0               </td><td>63770.42801       </td></tr>\n",
              "<tr><td>sigma  </td><td>14.049960379216147</td><td>0.500159569284377 </td><td>6.098186911679012 </td><td>1.205492739781914 </td><td>0.4036940375456173 </td><td>1.10488491858269  </td><td>12110.011236693992</td></tr>\n",
              "<tr><td>zeros  </td><td>0                 </td><td>662               </td><td>0                 </td><td>574               </td><td>1064               </td><td>0                 </td><td>0                 </td></tr>\n",
              "<tr><td>missing</td><td>0                 </td><td>0                 </td><td>0                 </td><td>0                 </td><td>0                  </td><td>0                 </td><td>0                 </td></tr>\n",
              "<tr><td>0      </td><td>19.0              </td><td>0.0               </td><td>27.9              </td><td>0.0               </td><td>1.0                </td><td>1.0               </td><td>16884.924         </td></tr>\n",
              "<tr><td>1      </td><td>18.0              </td><td>1.0               </td><td>33.77             </td><td>1.0               </td><td>0.0                </td><td>2.0               </td><td>1725.5523         </td></tr>\n",
              "<tr><td>2      </td><td>28.0              </td><td>1.0               </td><td>33.0              </td><td>3.0               </td><td>0.0                </td><td>2.0               </td><td>4449.462          </td></tr>\n",
              "<tr><td>3      </td><td>33.0              </td><td>1.0               </td><td>22.705            </td><td>0.0               </td><td>0.0                </td><td>3.0               </td><td>21984.47061       </td></tr>\n",
              "<tr><td>4      </td><td>32.0              </td><td>1.0               </td><td>28.88             </td><td>0.0               </td><td>0.0                </td><td>3.0               </td><td>3866.8552         </td></tr>\n",
              "<tr><td>5      </td><td>31.0              </td><td>0.0               </td><td>25.74             </td><td>0.0               </td><td>0.0                </td><td>2.0               </td><td>3756.6216         </td></tr>\n",
              "<tr><td>6      </td><td>46.0              </td><td>0.0               </td><td>33.44             </td><td>1.0               </td><td>0.0                </td><td>2.0               </td><td>8240.5896         </td></tr>\n",
              "<tr><td>7      </td><td>37.0              </td><td>0.0               </td><td>27.74             </td><td>3.0               </td><td>0.0                </td><td>3.0               </td><td>7281.5056         </td></tr>\n",
              "<tr><td>8      </td><td>37.0              </td><td>1.0               </td><td>29.83             </td><td>2.0               </td><td>0.0                </td><td>4.0               </td><td>6406.4107         </td></tr>\n",
              "<tr><td>9      </td><td>60.0              </td><td>0.0               </td><td>25.84             </td><td>0.0               </td><td>0.0                </td><td>3.0               </td><td>28923.13692       </td></tr>\n",
              "</tbody>\n",
              "</table>"
            ]
          },
          "metadata": {}
        }
      ]
    },
    {
      "cell_type": "code",
      "source": [
        "df.shape"
      ],
      "metadata": {
        "colab": {
          "base_uri": "https://localhost:8080/"
        },
        "id": "T_eM5lW27WZY",
        "outputId": "41bcbcae-a092-4bf1-8d8c-88d24ba5a755"
      },
      "execution_count": 10,
      "outputs": [
        {
          "output_type": "execute_result",
          "data": {
            "text/plain": [
              "(1338, 7)"
            ]
          },
          "metadata": {},
          "execution_count": 10
        }
      ]
    },
    {
      "cell_type": "markdown",
      "source": [
        "## **Creating Train/Test split** "
      ],
      "metadata": {
        "id": "FpyceKF77lWa"
      }
    },
    {
      "cell_type": "code",
      "source": [
        "# Create a 80/20 train/test split\n",
        "pct_rows=0.80\n",
        "df_train, df_test = df.split_frame([pct_rows])"
      ],
      "metadata": {
        "id": "PlKl5Tnk7Znq"
      },
      "execution_count": 11,
      "outputs": []
    },
    {
      "cell_type": "code",
      "source": [
        "print(df_train.shape)\n",
        "print(df_test.shape)"
      ],
      "metadata": {
        "colab": {
          "base_uri": "https://localhost:8080/"
        },
        "id": "8PXhn3VA7j_2",
        "outputId": "64e25bac-a194-4c57-9168-1ecd966fa79b"
      },
      "execution_count": 12,
      "outputs": [
        {
          "output_type": "stream",
          "name": "stdout",
          "text": [
            "(1059, 7)\n",
            "(279, 7)\n"
          ]
        }
      ]
    },
    {
      "cell_type": "code",
      "source": [
        "df_train.head()"
      ],
      "metadata": {
        "colab": {
          "base_uri": "https://localhost:8080/",
          "height": 254
        },
        "id": "5JLRZ388736g",
        "outputId": "ccef7a86-e83b-4a8c-a7c1-6a23551c5a3e"
      },
      "execution_count": 13,
      "outputs": [
        {
          "output_type": "display_data",
          "data": {
            "text/html": [
              "<table>\n",
              "<thead>\n",
              "<tr><th style=\"text-align: right;\">  age</th><th style=\"text-align: right;\">  sex</th><th style=\"text-align: right;\">   bmi</th><th style=\"text-align: right;\">  children</th><th style=\"text-align: right;\">  smoker</th><th style=\"text-align: right;\">  region</th><th style=\"text-align: right;\">  charges</th></tr>\n",
              "</thead>\n",
              "<tbody>\n",
              "<tr><td style=\"text-align: right;\">   19</td><td style=\"text-align: right;\">    0</td><td style=\"text-align: right;\">27.9  </td><td style=\"text-align: right;\">         0</td><td style=\"text-align: right;\">       1</td><td style=\"text-align: right;\">       1</td><td style=\"text-align: right;\"> 16884.9 </td></tr>\n",
              "<tr><td style=\"text-align: right;\">   18</td><td style=\"text-align: right;\">    1</td><td style=\"text-align: right;\">33.77 </td><td style=\"text-align: right;\">         1</td><td style=\"text-align: right;\">       0</td><td style=\"text-align: right;\">       2</td><td style=\"text-align: right;\">  1725.55</td></tr>\n",
              "<tr><td style=\"text-align: right;\">   33</td><td style=\"text-align: right;\">    1</td><td style=\"text-align: right;\">22.705</td><td style=\"text-align: right;\">         0</td><td style=\"text-align: right;\">       0</td><td style=\"text-align: right;\">       3</td><td style=\"text-align: right;\"> 21984.5 </td></tr>\n",
              "<tr><td style=\"text-align: right;\">   46</td><td style=\"text-align: right;\">    0</td><td style=\"text-align: right;\">33.44 </td><td style=\"text-align: right;\">         1</td><td style=\"text-align: right;\">       0</td><td style=\"text-align: right;\">       2</td><td style=\"text-align: right;\">  8240.59</td></tr>\n",
              "<tr><td style=\"text-align: right;\">   37</td><td style=\"text-align: right;\">    0</td><td style=\"text-align: right;\">27.74 </td><td style=\"text-align: right;\">         3</td><td style=\"text-align: right;\">       0</td><td style=\"text-align: right;\">       3</td><td style=\"text-align: right;\">  7281.51</td></tr>\n",
              "<tr><td style=\"text-align: right;\">   37</td><td style=\"text-align: right;\">    1</td><td style=\"text-align: right;\">29.83 </td><td style=\"text-align: right;\">         2</td><td style=\"text-align: right;\">       0</td><td style=\"text-align: right;\">       4</td><td style=\"text-align: right;\">  6406.41</td></tr>\n",
              "<tr><td style=\"text-align: right;\">   25</td><td style=\"text-align: right;\">    1</td><td style=\"text-align: right;\">26.22 </td><td style=\"text-align: right;\">         0</td><td style=\"text-align: right;\">       0</td><td style=\"text-align: right;\">       4</td><td style=\"text-align: right;\">  2721.32</td></tr>\n",
              "<tr><td style=\"text-align: right;\">   62</td><td style=\"text-align: right;\">    0</td><td style=\"text-align: right;\">26.29 </td><td style=\"text-align: right;\">         0</td><td style=\"text-align: right;\">       1</td><td style=\"text-align: right;\">       2</td><td style=\"text-align: right;\"> 27808.7 </td></tr>\n",
              "<tr><td style=\"text-align: right;\">   23</td><td style=\"text-align: right;\">    1</td><td style=\"text-align: right;\">34.4  </td><td style=\"text-align: right;\">         0</td><td style=\"text-align: right;\">       0</td><td style=\"text-align: right;\">       1</td><td style=\"text-align: right;\">  1826.84</td></tr>\n",
              "<tr><td style=\"text-align: right;\">   56</td><td style=\"text-align: right;\">    0</td><td style=\"text-align: right;\">39.82 </td><td style=\"text-align: right;\">         0</td><td style=\"text-align: right;\">       0</td><td style=\"text-align: right;\">       2</td><td style=\"text-align: right;\"> 11090.7 </td></tr>\n",
              "</tbody>\n",
              "</table>"
            ]
          },
          "metadata": {}
        },
        {
          "output_type": "execute_result",
          "data": {
            "text/plain": [
              ""
            ]
          },
          "metadata": {},
          "execution_count": 13
        }
      ]
    },
    {
      "cell_type": "markdown",
      "source": [
        "## **Setting target and predictor variables** "
      ],
      "metadata": {
        "id": "vHbBwqbP8UYP"
      }
    },
    {
      "cell_type": "code",
      "source": [
        "# Set the features and target\n",
        "X=df.columns\n",
        "print(X)"
      ],
      "metadata": {
        "colab": {
          "base_uri": "https://localhost:8080/"
        },
        "id": "MdZyzR7O76VA",
        "outputId": "90fecc28-e443-4505-8164-2617d5bd0475"
      },
      "execution_count": 14,
      "outputs": [
        {
          "output_type": "stream",
          "name": "stdout",
          "text": [
            "['age', 'sex', 'bmi', 'children', 'smoker', 'region', 'charges']\n"
          ]
        }
      ]
    },
    {
      "cell_type": "code",
      "source": [
        "y ='charges'\n",
        "X.remove(y) \n",
        "print(X)"
      ],
      "metadata": {
        "colab": {
          "base_uri": "https://localhost:8080/"
        },
        "id": "RwipOuPr8AGE",
        "outputId": "b03619db-0ecf-4adb-f29e-9d17d3a89d20"
      },
      "execution_count": 15,
      "outputs": [
        {
          "output_type": "stream",
          "name": "stdout",
          "text": [
            "['age', 'sex', 'bmi', 'children', 'smoker', 'region']\n"
          ]
        }
      ]
    },
    {
      "cell_type": "markdown",
      "source": [
        "## **Setting up AutoML** "
      ],
      "metadata": {
        "id": "Xycmf9gw8mFh"
      }
    },
    {
      "cell_type": "code",
      "source": [
        "# Set up AutoML\n",
        "aml = H2OAutoML(max_runtime_secs=run_time, seed=1,exclude_algos = [\"StackedEnsemble\"])"
      ],
      "metadata": {
        "id": "1HX4fwAo8gKC"
      },
      "execution_count": 16,
      "outputs": []
    },
    {
      "cell_type": "code",
      "source": [
        "aml.train(x=X,y=y,training_frame=df_train)"
      ],
      "metadata": {
        "colab": {
          "base_uri": "https://localhost:8080/",
          "height": 1000
        },
        "id": "F7umgEmX8vWL",
        "outputId": "5d6465e6-e2ca-409a-fdc0-cd7da0bb5081"
      },
      "execution_count": 17,
      "outputs": [
        {
          "output_type": "stream",
          "name": "stdout",
          "text": [
            "AutoML progress: |███████████████████████████████████████████████████████████████| (done) 100%\n",
            "Model Details\n",
            "=============\n",
            "H2OGradientBoostingEstimator :  Gradient Boosting Machine\n",
            "Model Key:  GBM_grid_1_AutoML_1_20220214_44557_model_2\n",
            "\n",
            "\n",
            "Model Summary: \n"
          ]
        },
        {
          "output_type": "display_data",
          "data": {
            "text/html": [
              "\n",
              "  <div id=\"df-0b7a6bfc-8347-4171-b57c-9d002c722e56\">\n",
              "    <div class=\"colab-df-container\">\n",
              "      <div>\n",
              "<style scoped>\n",
              "    .dataframe tbody tr th:only-of-type {\n",
              "        vertical-align: middle;\n",
              "    }\n",
              "\n",
              "    .dataframe tbody tr th {\n",
              "        vertical-align: top;\n",
              "    }\n",
              "\n",
              "    .dataframe thead th {\n",
              "        text-align: right;\n",
              "    }\n",
              "</style>\n",
              "<table border=\"1\" class=\"dataframe\">\n",
              "  <thead>\n",
              "    <tr style=\"text-align: right;\">\n",
              "      <th></th>\n",
              "      <th></th>\n",
              "      <th>number_of_trees</th>\n",
              "      <th>number_of_internal_trees</th>\n",
              "      <th>model_size_in_bytes</th>\n",
              "      <th>min_depth</th>\n",
              "      <th>max_depth</th>\n",
              "      <th>mean_depth</th>\n",
              "      <th>min_leaves</th>\n",
              "      <th>max_leaves</th>\n",
              "      <th>mean_leaves</th>\n",
              "    </tr>\n",
              "  </thead>\n",
              "  <tbody>\n",
              "    <tr>\n",
              "      <th>0</th>\n",
              "      <td></td>\n",
              "      <td>42.0</td>\n",
              "      <td>42.0</td>\n",
              "      <td>10568.0</td>\n",
              "      <td>4.0</td>\n",
              "      <td>4.0</td>\n",
              "      <td>4.0</td>\n",
              "      <td>12.0</td>\n",
              "      <td>16.0</td>\n",
              "      <td>15.428572</td>\n",
              "    </tr>\n",
              "  </tbody>\n",
              "</table>\n",
              "</div>\n",
              "      <button class=\"colab-df-convert\" onclick=\"convertToInteractive('df-0b7a6bfc-8347-4171-b57c-9d002c722e56')\"\n",
              "              title=\"Convert this dataframe to an interactive table.\"\n",
              "              style=\"display:none;\">\n",
              "        \n",
              "  <svg xmlns=\"http://www.w3.org/2000/svg\" height=\"24px\"viewBox=\"0 0 24 24\"\n",
              "       width=\"24px\">\n",
              "    <path d=\"M0 0h24v24H0V0z\" fill=\"none\"/>\n",
              "    <path d=\"M18.56 5.44l.94 2.06.94-2.06 2.06-.94-2.06-.94-.94-2.06-.94 2.06-2.06.94zm-11 1L8.5 8.5l.94-2.06 2.06-.94-2.06-.94L8.5 2.5l-.94 2.06-2.06.94zm10 10l.94 2.06.94-2.06 2.06-.94-2.06-.94-.94-2.06-.94 2.06-2.06.94z\"/><path d=\"M17.41 7.96l-1.37-1.37c-.4-.4-.92-.59-1.43-.59-.52 0-1.04.2-1.43.59L10.3 9.45l-7.72 7.72c-.78.78-.78 2.05 0 2.83L4 21.41c.39.39.9.59 1.41.59.51 0 1.02-.2 1.41-.59l7.78-7.78 2.81-2.81c.8-.78.8-2.07 0-2.86zM5.41 20L4 18.59l7.72-7.72 1.47 1.35L5.41 20z\"/>\n",
              "  </svg>\n",
              "      </button>\n",
              "      \n",
              "  <style>\n",
              "    .colab-df-container {\n",
              "      display:flex;\n",
              "      flex-wrap:wrap;\n",
              "      gap: 12px;\n",
              "    }\n",
              "\n",
              "    .colab-df-convert {\n",
              "      background-color: #E8F0FE;\n",
              "      border: none;\n",
              "      border-radius: 50%;\n",
              "      cursor: pointer;\n",
              "      display: none;\n",
              "      fill: #1967D2;\n",
              "      height: 32px;\n",
              "      padding: 0 0 0 0;\n",
              "      width: 32px;\n",
              "    }\n",
              "\n",
              "    .colab-df-convert:hover {\n",
              "      background-color: #E2EBFA;\n",
              "      box-shadow: 0px 1px 2px rgba(60, 64, 67, 0.3), 0px 1px 3px 1px rgba(60, 64, 67, 0.15);\n",
              "      fill: #174EA6;\n",
              "    }\n",
              "\n",
              "    [theme=dark] .colab-df-convert {\n",
              "      background-color: #3B4455;\n",
              "      fill: #D2E3FC;\n",
              "    }\n",
              "\n",
              "    [theme=dark] .colab-df-convert:hover {\n",
              "      background-color: #434B5C;\n",
              "      box-shadow: 0px 1px 3px 1px rgba(0, 0, 0, 0.15);\n",
              "      filter: drop-shadow(0px 1px 2px rgba(0, 0, 0, 0.3));\n",
              "      fill: #FFFFFF;\n",
              "    }\n",
              "  </style>\n",
              "\n",
              "      <script>\n",
              "        const buttonEl =\n",
              "          document.querySelector('#df-0b7a6bfc-8347-4171-b57c-9d002c722e56 button.colab-df-convert');\n",
              "        buttonEl.style.display =\n",
              "          google.colab.kernel.accessAllowed ? 'block' : 'none';\n",
              "\n",
              "        async function convertToInteractive(key) {\n",
              "          const element = document.querySelector('#df-0b7a6bfc-8347-4171-b57c-9d002c722e56');\n",
              "          const dataTable =\n",
              "            await google.colab.kernel.invokeFunction('convertToInteractive',\n",
              "                                                     [key], {});\n",
              "          if (!dataTable) return;\n",
              "\n",
              "          const docLinkHtml = 'Like what you see? Visit the ' +\n",
              "            '<a target=\"_blank\" href=https://colab.research.google.com/notebooks/data_table.ipynb>data table notebook</a>'\n",
              "            + ' to learn more about interactive tables.';\n",
              "          element.innerHTML = '';\n",
              "          dataTable['output_type'] = 'display_data';\n",
              "          await google.colab.output.renderOutput(dataTable, element);\n",
              "          const docLink = document.createElement('div');\n",
              "          docLink.innerHTML = docLinkHtml;\n",
              "          element.appendChild(docLink);\n",
              "        }\n",
              "      </script>\n",
              "    </div>\n",
              "  </div>\n",
              "  "
            ],
            "text/plain": [
              "     number_of_trees  ...  max_leaves  mean_leaves\n",
              "0               42.0  ...        16.0    15.428572\n",
              "\n",
              "[1 rows x 10 columns]"
            ]
          },
          "metadata": {}
        },
        {
          "output_type": "stream",
          "name": "stdout",
          "text": [
            "\n",
            "\n",
            "ModelMetricsRegression: gbm\n",
            "** Reported on train data. **\n",
            "\n",
            "MSE: 15613674.422518289\n",
            "RMSE: 3951.4142306923845\n",
            "MAE: 2148.1030087853737\n",
            "RMSLE: 0.3739022071136965\n",
            "Mean Residual Deviance: 15613674.422518289\n",
            "\n",
            "ModelMetricsRegression: gbm\n",
            "** Reported on cross-validation data. **\n",
            "\n",
            "MSE: 20399225.16247999\n",
            "RMSE: 4516.550139484781\n",
            "MAE: 2519.145459134002\n",
            "RMSLE: 0.4313969230688984\n",
            "Mean Residual Deviance: 20399225.16247999\n",
            "\n",
            "Cross-Validation Metrics Summary: \n"
          ]
        },
        {
          "output_type": "display_data",
          "data": {
            "text/html": [
              "\n",
              "  <div id=\"df-21dfb176-b32a-4169-9dd5-7543af642929\">\n",
              "    <div class=\"colab-df-container\">\n",
              "      <div>\n",
              "<style scoped>\n",
              "    .dataframe tbody tr th:only-of-type {\n",
              "        vertical-align: middle;\n",
              "    }\n",
              "\n",
              "    .dataframe tbody tr th {\n",
              "        vertical-align: top;\n",
              "    }\n",
              "\n",
              "    .dataframe thead th {\n",
              "        text-align: right;\n",
              "    }\n",
              "</style>\n",
              "<table border=\"1\" class=\"dataframe\">\n",
              "  <thead>\n",
              "    <tr style=\"text-align: right;\">\n",
              "      <th></th>\n",
              "      <th></th>\n",
              "      <th>mean</th>\n",
              "      <th>sd</th>\n",
              "      <th>cv_1_valid</th>\n",
              "      <th>cv_2_valid</th>\n",
              "      <th>cv_3_valid</th>\n",
              "      <th>cv_4_valid</th>\n",
              "      <th>cv_5_valid</th>\n",
              "    </tr>\n",
              "  </thead>\n",
              "  <tbody>\n",
              "    <tr>\n",
              "      <th>0</th>\n",
              "      <td>mae</td>\n",
              "      <td>2.515401e+03</td>\n",
              "      <td>2.197493e+02</td>\n",
              "      <td>2.468951e+03</td>\n",
              "      <td>2.240193e+03</td>\n",
              "      <td>2.428949e+03</td>\n",
              "      <td>2.608751e+03</td>\n",
              "      <td>2.830161e+03</td>\n",
              "    </tr>\n",
              "    <tr>\n",
              "      <th>1</th>\n",
              "      <td>mean_residual_deviance</td>\n",
              "      <td>2.060663e+07</td>\n",
              "      <td>6.199573e+06</td>\n",
              "      <td>1.758272e+07</td>\n",
              "      <td>1.459573e+07</td>\n",
              "      <td>1.881574e+07</td>\n",
              "      <td>2.118944e+07</td>\n",
              "      <td>3.084952e+07</td>\n",
              "    </tr>\n",
              "    <tr>\n",
              "      <th>2</th>\n",
              "      <td>mse</td>\n",
              "      <td>2.060663e+07</td>\n",
              "      <td>6.199573e+06</td>\n",
              "      <td>1.758272e+07</td>\n",
              "      <td>1.459573e+07</td>\n",
              "      <td>1.881574e+07</td>\n",
              "      <td>2.118944e+07</td>\n",
              "      <td>3.084952e+07</td>\n",
              "    </tr>\n",
              "    <tr>\n",
              "      <th>3</th>\n",
              "      <td>r2</td>\n",
              "      <td>8.613316e-01</td>\n",
              "      <td>3.565665e-02</td>\n",
              "      <td>8.797433e-01</td>\n",
              "      <td>8.796552e-01</td>\n",
              "      <td>8.755759e-01</td>\n",
              "      <td>8.739765e-01</td>\n",
              "      <td>7.977074e-01</td>\n",
              "    </tr>\n",
              "    <tr>\n",
              "      <th>4</th>\n",
              "      <td>residual_deviance</td>\n",
              "      <td>2.060663e+07</td>\n",
              "      <td>6.199573e+06</td>\n",
              "      <td>1.758272e+07</td>\n",
              "      <td>1.459573e+07</td>\n",
              "      <td>1.881574e+07</td>\n",
              "      <td>2.118944e+07</td>\n",
              "      <td>3.084952e+07</td>\n",
              "    </tr>\n",
              "    <tr>\n",
              "      <th>5</th>\n",
              "      <td>rmse</td>\n",
              "      <td>4.501751e+03</td>\n",
              "      <td>6.527505e+02</td>\n",
              "      <td>4.193175e+03</td>\n",
              "      <td>3.820436e+03</td>\n",
              "      <td>4.337711e+03</td>\n",
              "      <td>4.603199e+03</td>\n",
              "      <td>5.554235e+03</td>\n",
              "    </tr>\n",
              "    <tr>\n",
              "      <th>6</th>\n",
              "      <td>rmsle</td>\n",
              "      <td>4.294416e-01</td>\n",
              "      <td>3.812163e-02</td>\n",
              "      <td>4.030859e-01</td>\n",
              "      <td>3.949329e-01</td>\n",
              "      <td>4.100788e-01</td>\n",
              "      <td>4.566242e-01</td>\n",
              "      <td>4.824864e-01</td>\n",
              "    </tr>\n",
              "  </tbody>\n",
              "</table>\n",
              "</div>\n",
              "      <button class=\"colab-df-convert\" onclick=\"convertToInteractive('df-21dfb176-b32a-4169-9dd5-7543af642929')\"\n",
              "              title=\"Convert this dataframe to an interactive table.\"\n",
              "              style=\"display:none;\">\n",
              "        \n",
              "  <svg xmlns=\"http://www.w3.org/2000/svg\" height=\"24px\"viewBox=\"0 0 24 24\"\n",
              "       width=\"24px\">\n",
              "    <path d=\"M0 0h24v24H0V0z\" fill=\"none\"/>\n",
              "    <path d=\"M18.56 5.44l.94 2.06.94-2.06 2.06-.94-2.06-.94-.94-2.06-.94 2.06-2.06.94zm-11 1L8.5 8.5l.94-2.06 2.06-.94-2.06-.94L8.5 2.5l-.94 2.06-2.06.94zm10 10l.94 2.06.94-2.06 2.06-.94-2.06-.94-.94-2.06-.94 2.06-2.06.94z\"/><path d=\"M17.41 7.96l-1.37-1.37c-.4-.4-.92-.59-1.43-.59-.52 0-1.04.2-1.43.59L10.3 9.45l-7.72 7.72c-.78.78-.78 2.05 0 2.83L4 21.41c.39.39.9.59 1.41.59.51 0 1.02-.2 1.41-.59l7.78-7.78 2.81-2.81c.8-.78.8-2.07 0-2.86zM5.41 20L4 18.59l7.72-7.72 1.47 1.35L5.41 20z\"/>\n",
              "  </svg>\n",
              "      </button>\n",
              "      \n",
              "  <style>\n",
              "    .colab-df-container {\n",
              "      display:flex;\n",
              "      flex-wrap:wrap;\n",
              "      gap: 12px;\n",
              "    }\n",
              "\n",
              "    .colab-df-convert {\n",
              "      background-color: #E8F0FE;\n",
              "      border: none;\n",
              "      border-radius: 50%;\n",
              "      cursor: pointer;\n",
              "      display: none;\n",
              "      fill: #1967D2;\n",
              "      height: 32px;\n",
              "      padding: 0 0 0 0;\n",
              "      width: 32px;\n",
              "    }\n",
              "\n",
              "    .colab-df-convert:hover {\n",
              "      background-color: #E2EBFA;\n",
              "      box-shadow: 0px 1px 2px rgba(60, 64, 67, 0.3), 0px 1px 3px 1px rgba(60, 64, 67, 0.15);\n",
              "      fill: #174EA6;\n",
              "    }\n",
              "\n",
              "    [theme=dark] .colab-df-convert {\n",
              "      background-color: #3B4455;\n",
              "      fill: #D2E3FC;\n",
              "    }\n",
              "\n",
              "    [theme=dark] .colab-df-convert:hover {\n",
              "      background-color: #434B5C;\n",
              "      box-shadow: 0px 1px 3px 1px rgba(0, 0, 0, 0.15);\n",
              "      filter: drop-shadow(0px 1px 2px rgba(0, 0, 0, 0.3));\n",
              "      fill: #FFFFFF;\n",
              "    }\n",
              "  </style>\n",
              "\n",
              "      <script>\n",
              "        const buttonEl =\n",
              "          document.querySelector('#df-21dfb176-b32a-4169-9dd5-7543af642929 button.colab-df-convert');\n",
              "        buttonEl.style.display =\n",
              "          google.colab.kernel.accessAllowed ? 'block' : 'none';\n",
              "\n",
              "        async function convertToInteractive(key) {\n",
              "          const element = document.querySelector('#df-21dfb176-b32a-4169-9dd5-7543af642929');\n",
              "          const dataTable =\n",
              "            await google.colab.kernel.invokeFunction('convertToInteractive',\n",
              "                                                     [key], {});\n",
              "          if (!dataTable) return;\n",
              "\n",
              "          const docLinkHtml = 'Like what you see? Visit the ' +\n",
              "            '<a target=\"_blank\" href=https://colab.research.google.com/notebooks/data_table.ipynb>data table notebook</a>'\n",
              "            + ' to learn more about interactive tables.';\n",
              "          element.innerHTML = '';\n",
              "          dataTable['output_type'] = 'display_data';\n",
              "          await google.colab.output.renderOutput(dataTable, element);\n",
              "          const docLink = document.createElement('div');\n",
              "          docLink.innerHTML = docLinkHtml;\n",
              "          element.appendChild(docLink);\n",
              "        }\n",
              "      </script>\n",
              "    </div>\n",
              "  </div>\n",
              "  "
            ],
            "text/plain": [
              "                                   mean  ...    cv_4_valid    cv_5_valid\n",
              "0                     mae  2.515401e+03  ...  2.608751e+03  2.830161e+03\n",
              "1  mean_residual_deviance  2.060663e+07  ...  2.118944e+07  3.084952e+07\n",
              "2                     mse  2.060663e+07  ...  2.118944e+07  3.084952e+07\n",
              "3                      r2  8.613316e-01  ...  8.739765e-01  7.977074e-01\n",
              "4       residual_deviance  2.060663e+07  ...  2.118944e+07  3.084952e+07\n",
              "5                    rmse  4.501751e+03  ...  4.603199e+03  5.554235e+03\n",
              "6                   rmsle  4.294416e-01  ...  4.566242e-01  4.824864e-01\n",
              "\n",
              "[7 rows x 8 columns]"
            ]
          },
          "metadata": {}
        },
        {
          "output_type": "stream",
          "name": "stdout",
          "text": [
            "\n",
            "Scoring History: \n"
          ]
        },
        {
          "output_type": "display_data",
          "data": {
            "text/html": [
              "\n",
              "  <div id=\"df-4c90b00d-7731-4b65-93fb-a1c33cecc0e2\">\n",
              "    <div class=\"colab-df-container\">\n",
              "      <div>\n",
              "<style scoped>\n",
              "    .dataframe tbody tr th:only-of-type {\n",
              "        vertical-align: middle;\n",
              "    }\n",
              "\n",
              "    .dataframe tbody tr th {\n",
              "        vertical-align: top;\n",
              "    }\n",
              "\n",
              "    .dataframe thead th {\n",
              "        text-align: right;\n",
              "    }\n",
              "</style>\n",
              "<table border=\"1\" class=\"dataframe\">\n",
              "  <thead>\n",
              "    <tr style=\"text-align: right;\">\n",
              "      <th></th>\n",
              "      <th></th>\n",
              "      <th>timestamp</th>\n",
              "      <th>duration</th>\n",
              "      <th>number_of_trees</th>\n",
              "      <th>training_rmse</th>\n",
              "      <th>training_mae</th>\n",
              "      <th>training_deviance</th>\n",
              "    </tr>\n",
              "  </thead>\n",
              "  <tbody>\n",
              "    <tr>\n",
              "      <th>0</th>\n",
              "      <td></td>\n",
              "      <td>2022-02-14 04:47:54</td>\n",
              "      <td>2.943 sec</td>\n",
              "      <td>0.0</td>\n",
              "      <td>12186.917781</td>\n",
              "      <td>9159.401135</td>\n",
              "      <td>1.485210e+08</td>\n",
              "    </tr>\n",
              "    <tr>\n",
              "      <th>1</th>\n",
              "      <td></td>\n",
              "      <td>2022-02-14 04:47:55</td>\n",
              "      <td>2.980 sec</td>\n",
              "      <td>5.0</td>\n",
              "      <td>8121.844511</td>\n",
              "      <td>6245.241412</td>\n",
              "      <td>6.596436e+07</td>\n",
              "    </tr>\n",
              "    <tr>\n",
              "      <th>2</th>\n",
              "      <td></td>\n",
              "      <td>2022-02-14 04:47:55</td>\n",
              "      <td>2.993 sec</td>\n",
              "      <td>10.0</td>\n",
              "      <td>5899.804875</td>\n",
              "      <td>4450.760803</td>\n",
              "      <td>3.480770e+07</td>\n",
              "    </tr>\n",
              "    <tr>\n",
              "      <th>3</th>\n",
              "      <td></td>\n",
              "      <td>2022-02-14 04:47:55</td>\n",
              "      <td>3.005 sec</td>\n",
              "      <td>15.0</td>\n",
              "      <td>4845.708614</td>\n",
              "      <td>3406.084099</td>\n",
              "      <td>2.348089e+07</td>\n",
              "    </tr>\n",
              "    <tr>\n",
              "      <th>4</th>\n",
              "      <td></td>\n",
              "      <td>2022-02-14 04:47:55</td>\n",
              "      <td>3.027 sec</td>\n",
              "      <td>20.0</td>\n",
              "      <td>4361.133187</td>\n",
              "      <td>2790.687278</td>\n",
              "      <td>1.901948e+07</td>\n",
              "    </tr>\n",
              "    <tr>\n",
              "      <th>5</th>\n",
              "      <td></td>\n",
              "      <td>2022-02-14 04:47:55</td>\n",
              "      <td>3.039 sec</td>\n",
              "      <td>25.0</td>\n",
              "      <td>4161.585045</td>\n",
              "      <td>2464.424965</td>\n",
              "      <td>1.731879e+07</td>\n",
              "    </tr>\n",
              "    <tr>\n",
              "      <th>6</th>\n",
              "      <td></td>\n",
              "      <td>2022-02-14 04:47:55</td>\n",
              "      <td>3.051 sec</td>\n",
              "      <td>30.0</td>\n",
              "      <td>4064.731276</td>\n",
              "      <td>2300.486431</td>\n",
              "      <td>1.652204e+07</td>\n",
              "    </tr>\n",
              "    <tr>\n",
              "      <th>7</th>\n",
              "      <td></td>\n",
              "      <td>2022-02-14 04:47:55</td>\n",
              "      <td>3.063 sec</td>\n",
              "      <td>35.0</td>\n",
              "      <td>4002.242349</td>\n",
              "      <td>2216.250115</td>\n",
              "      <td>1.601794e+07</td>\n",
              "    </tr>\n",
              "    <tr>\n",
              "      <th>8</th>\n",
              "      <td></td>\n",
              "      <td>2022-02-14 04:47:55</td>\n",
              "      <td>3.077 sec</td>\n",
              "      <td>40.0</td>\n",
              "      <td>3962.477464</td>\n",
              "      <td>2163.506198</td>\n",
              "      <td>1.570123e+07</td>\n",
              "    </tr>\n",
              "    <tr>\n",
              "      <th>9</th>\n",
              "      <td></td>\n",
              "      <td>2022-02-14 04:47:55</td>\n",
              "      <td>3.126 sec</td>\n",
              "      <td>42.0</td>\n",
              "      <td>3951.414231</td>\n",
              "      <td>2148.103009</td>\n",
              "      <td>1.561367e+07</td>\n",
              "    </tr>\n",
              "  </tbody>\n",
              "</table>\n",
              "</div>\n",
              "      <button class=\"colab-df-convert\" onclick=\"convertToInteractive('df-4c90b00d-7731-4b65-93fb-a1c33cecc0e2')\"\n",
              "              title=\"Convert this dataframe to an interactive table.\"\n",
              "              style=\"display:none;\">\n",
              "        \n",
              "  <svg xmlns=\"http://www.w3.org/2000/svg\" height=\"24px\"viewBox=\"0 0 24 24\"\n",
              "       width=\"24px\">\n",
              "    <path d=\"M0 0h24v24H0V0z\" fill=\"none\"/>\n",
              "    <path d=\"M18.56 5.44l.94 2.06.94-2.06 2.06-.94-2.06-.94-.94-2.06-.94 2.06-2.06.94zm-11 1L8.5 8.5l.94-2.06 2.06-.94-2.06-.94L8.5 2.5l-.94 2.06-2.06.94zm10 10l.94 2.06.94-2.06 2.06-.94-2.06-.94-.94-2.06-.94 2.06-2.06.94z\"/><path d=\"M17.41 7.96l-1.37-1.37c-.4-.4-.92-.59-1.43-.59-.52 0-1.04.2-1.43.59L10.3 9.45l-7.72 7.72c-.78.78-.78 2.05 0 2.83L4 21.41c.39.39.9.59 1.41.59.51 0 1.02-.2 1.41-.59l7.78-7.78 2.81-2.81c.8-.78.8-2.07 0-2.86zM5.41 20L4 18.59l7.72-7.72 1.47 1.35L5.41 20z\"/>\n",
              "  </svg>\n",
              "      </button>\n",
              "      \n",
              "  <style>\n",
              "    .colab-df-container {\n",
              "      display:flex;\n",
              "      flex-wrap:wrap;\n",
              "      gap: 12px;\n",
              "    }\n",
              "\n",
              "    .colab-df-convert {\n",
              "      background-color: #E8F0FE;\n",
              "      border: none;\n",
              "      border-radius: 50%;\n",
              "      cursor: pointer;\n",
              "      display: none;\n",
              "      fill: #1967D2;\n",
              "      height: 32px;\n",
              "      padding: 0 0 0 0;\n",
              "      width: 32px;\n",
              "    }\n",
              "\n",
              "    .colab-df-convert:hover {\n",
              "      background-color: #E2EBFA;\n",
              "      box-shadow: 0px 1px 2px rgba(60, 64, 67, 0.3), 0px 1px 3px 1px rgba(60, 64, 67, 0.15);\n",
              "      fill: #174EA6;\n",
              "    }\n",
              "\n",
              "    [theme=dark] .colab-df-convert {\n",
              "      background-color: #3B4455;\n",
              "      fill: #D2E3FC;\n",
              "    }\n",
              "\n",
              "    [theme=dark] .colab-df-convert:hover {\n",
              "      background-color: #434B5C;\n",
              "      box-shadow: 0px 1px 3px 1px rgba(0, 0, 0, 0.15);\n",
              "      filter: drop-shadow(0px 1px 2px rgba(0, 0, 0, 0.3));\n",
              "      fill: #FFFFFF;\n",
              "    }\n",
              "  </style>\n",
              "\n",
              "      <script>\n",
              "        const buttonEl =\n",
              "          document.querySelector('#df-4c90b00d-7731-4b65-93fb-a1c33cecc0e2 button.colab-df-convert');\n",
              "        buttonEl.style.display =\n",
              "          google.colab.kernel.accessAllowed ? 'block' : 'none';\n",
              "\n",
              "        async function convertToInteractive(key) {\n",
              "          const element = document.querySelector('#df-4c90b00d-7731-4b65-93fb-a1c33cecc0e2');\n",
              "          const dataTable =\n",
              "            await google.colab.kernel.invokeFunction('convertToInteractive',\n",
              "                                                     [key], {});\n",
              "          if (!dataTable) return;\n",
              "\n",
              "          const docLinkHtml = 'Like what you see? Visit the ' +\n",
              "            '<a target=\"_blank\" href=https://colab.research.google.com/notebooks/data_table.ipynb>data table notebook</a>'\n",
              "            + ' to learn more about interactive tables.';\n",
              "          element.innerHTML = '';\n",
              "          dataTable['output_type'] = 'display_data';\n",
              "          await google.colab.output.renderOutput(dataTable, element);\n",
              "          const docLink = document.createElement('div');\n",
              "          docLink.innerHTML = docLinkHtml;\n",
              "          element.appendChild(docLink);\n",
              "        }\n",
              "      </script>\n",
              "    </div>\n",
              "  </div>\n",
              "  "
            ],
            "text/plain": [
              "               timestamp  ... training_mae  training_deviance\n",
              "0    2022-02-14 04:47:54  ...  9159.401135       1.485210e+08\n",
              "1    2022-02-14 04:47:55  ...  6245.241412       6.596436e+07\n",
              "2    2022-02-14 04:47:55  ...  4450.760803       3.480770e+07\n",
              "3    2022-02-14 04:47:55  ...  3406.084099       2.348089e+07\n",
              "4    2022-02-14 04:47:55  ...  2790.687278       1.901948e+07\n",
              "5    2022-02-14 04:47:55  ...  2464.424965       1.731879e+07\n",
              "6    2022-02-14 04:47:55  ...  2300.486431       1.652204e+07\n",
              "7    2022-02-14 04:47:55  ...  2216.250115       1.601794e+07\n",
              "8    2022-02-14 04:47:55  ...  2163.506198       1.570123e+07\n",
              "9    2022-02-14 04:47:55  ...  2148.103009       1.561367e+07\n",
              "\n",
              "[10 rows x 7 columns]"
            ]
          },
          "metadata": {}
        },
        {
          "output_type": "stream",
          "name": "stdout",
          "text": [
            "\n",
            "Variable Importances: \n"
          ]
        },
        {
          "output_type": "display_data",
          "data": {
            "text/html": [
              "\n",
              "  <div id=\"df-81af6f98-ae94-4a12-ac46-ef69da0602d5\">\n",
              "    <div class=\"colab-df-container\">\n",
              "      <div>\n",
              "<style scoped>\n",
              "    .dataframe tbody tr th:only-of-type {\n",
              "        vertical-align: middle;\n",
              "    }\n",
              "\n",
              "    .dataframe tbody tr th {\n",
              "        vertical-align: top;\n",
              "    }\n",
              "\n",
              "    .dataframe thead th {\n",
              "        text-align: right;\n",
              "    }\n",
              "</style>\n",
              "<table border=\"1\" class=\"dataframe\">\n",
              "  <thead>\n",
              "    <tr style=\"text-align: right;\">\n",
              "      <th></th>\n",
              "      <th>variable</th>\n",
              "      <th>relative_importance</th>\n",
              "      <th>scaled_importance</th>\n",
              "      <th>percentage</th>\n",
              "    </tr>\n",
              "  </thead>\n",
              "  <tbody>\n",
              "    <tr>\n",
              "      <th>0</th>\n",
              "      <td>smoker</td>\n",
              "      <td>5.149334e+11</td>\n",
              "      <td>1.000000</td>\n",
              "      <td>0.727841</td>\n",
              "    </tr>\n",
              "    <tr>\n",
              "      <th>1</th>\n",
              "      <td>bmi</td>\n",
              "      <td>1.055122e+11</td>\n",
              "      <td>0.204905</td>\n",
              "      <td>0.149138</td>\n",
              "    </tr>\n",
              "    <tr>\n",
              "      <th>2</th>\n",
              "      <td>age</td>\n",
              "      <td>7.590612e+10</td>\n",
              "      <td>0.147410</td>\n",
              "      <td>0.107291</td>\n",
              "    </tr>\n",
              "    <tr>\n",
              "      <th>3</th>\n",
              "      <td>children</td>\n",
              "      <td>7.039439e+09</td>\n",
              "      <td>0.013671</td>\n",
              "      <td>0.009950</td>\n",
              "    </tr>\n",
              "    <tr>\n",
              "      <th>4</th>\n",
              "      <td>region</td>\n",
              "      <td>2.170196e+09</td>\n",
              "      <td>0.004215</td>\n",
              "      <td>0.003067</td>\n",
              "    </tr>\n",
              "    <tr>\n",
              "      <th>5</th>\n",
              "      <td>sex</td>\n",
              "      <td>1.919645e+09</td>\n",
              "      <td>0.003728</td>\n",
              "      <td>0.002713</td>\n",
              "    </tr>\n",
              "  </tbody>\n",
              "</table>\n",
              "</div>\n",
              "      <button class=\"colab-df-convert\" onclick=\"convertToInteractive('df-81af6f98-ae94-4a12-ac46-ef69da0602d5')\"\n",
              "              title=\"Convert this dataframe to an interactive table.\"\n",
              "              style=\"display:none;\">\n",
              "        \n",
              "  <svg xmlns=\"http://www.w3.org/2000/svg\" height=\"24px\"viewBox=\"0 0 24 24\"\n",
              "       width=\"24px\">\n",
              "    <path d=\"M0 0h24v24H0V0z\" fill=\"none\"/>\n",
              "    <path d=\"M18.56 5.44l.94 2.06.94-2.06 2.06-.94-2.06-.94-.94-2.06-.94 2.06-2.06.94zm-11 1L8.5 8.5l.94-2.06 2.06-.94-2.06-.94L8.5 2.5l-.94 2.06-2.06.94zm10 10l.94 2.06.94-2.06 2.06-.94-2.06-.94-.94-2.06-.94 2.06-2.06.94z\"/><path d=\"M17.41 7.96l-1.37-1.37c-.4-.4-.92-.59-1.43-.59-.52 0-1.04.2-1.43.59L10.3 9.45l-7.72 7.72c-.78.78-.78 2.05 0 2.83L4 21.41c.39.39.9.59 1.41.59.51 0 1.02-.2 1.41-.59l7.78-7.78 2.81-2.81c.8-.78.8-2.07 0-2.86zM5.41 20L4 18.59l7.72-7.72 1.47 1.35L5.41 20z\"/>\n",
              "  </svg>\n",
              "      </button>\n",
              "      \n",
              "  <style>\n",
              "    .colab-df-container {\n",
              "      display:flex;\n",
              "      flex-wrap:wrap;\n",
              "      gap: 12px;\n",
              "    }\n",
              "\n",
              "    .colab-df-convert {\n",
              "      background-color: #E8F0FE;\n",
              "      border: none;\n",
              "      border-radius: 50%;\n",
              "      cursor: pointer;\n",
              "      display: none;\n",
              "      fill: #1967D2;\n",
              "      height: 32px;\n",
              "      padding: 0 0 0 0;\n",
              "      width: 32px;\n",
              "    }\n",
              "\n",
              "    .colab-df-convert:hover {\n",
              "      background-color: #E2EBFA;\n",
              "      box-shadow: 0px 1px 2px rgba(60, 64, 67, 0.3), 0px 1px 3px 1px rgba(60, 64, 67, 0.15);\n",
              "      fill: #174EA6;\n",
              "    }\n",
              "\n",
              "    [theme=dark] .colab-df-convert {\n",
              "      background-color: #3B4455;\n",
              "      fill: #D2E3FC;\n",
              "    }\n",
              "\n",
              "    [theme=dark] .colab-df-convert:hover {\n",
              "      background-color: #434B5C;\n",
              "      box-shadow: 0px 1px 3px 1px rgba(0, 0, 0, 0.15);\n",
              "      filter: drop-shadow(0px 1px 2px rgba(0, 0, 0, 0.3));\n",
              "      fill: #FFFFFF;\n",
              "    }\n",
              "  </style>\n",
              "\n",
              "      <script>\n",
              "        const buttonEl =\n",
              "          document.querySelector('#df-81af6f98-ae94-4a12-ac46-ef69da0602d5 button.colab-df-convert');\n",
              "        buttonEl.style.display =\n",
              "          google.colab.kernel.accessAllowed ? 'block' : 'none';\n",
              "\n",
              "        async function convertToInteractive(key) {\n",
              "          const element = document.querySelector('#df-81af6f98-ae94-4a12-ac46-ef69da0602d5');\n",
              "          const dataTable =\n",
              "            await google.colab.kernel.invokeFunction('convertToInteractive',\n",
              "                                                     [key], {});\n",
              "          if (!dataTable) return;\n",
              "\n",
              "          const docLinkHtml = 'Like what you see? Visit the ' +\n",
              "            '<a target=\"_blank\" href=https://colab.research.google.com/notebooks/data_table.ipynb>data table notebook</a>'\n",
              "            + ' to learn more about interactive tables.';\n",
              "          element.innerHTML = '';\n",
              "          dataTable['output_type'] = 'display_data';\n",
              "          await google.colab.output.renderOutput(dataTable, element);\n",
              "          const docLink = document.createElement('div');\n",
              "          docLink.innerHTML = docLinkHtml;\n",
              "          element.appendChild(docLink);\n",
              "        }\n",
              "      </script>\n",
              "    </div>\n",
              "  </div>\n",
              "  "
            ],
            "text/plain": [
              "   variable  relative_importance  scaled_importance  percentage\n",
              "0    smoker         5.149334e+11           1.000000    0.727841\n",
              "1       bmi         1.055122e+11           0.204905    0.149138\n",
              "2       age         7.590612e+10           0.147410    0.107291\n",
              "3  children         7.039439e+09           0.013671    0.009950\n",
              "4    region         2.170196e+09           0.004215    0.003067\n",
              "5       sex         1.919645e+09           0.003728    0.002713"
            ]
          },
          "metadata": {}
        },
        {
          "output_type": "execute_result",
          "data": {
            "text/plain": [
              ""
            ]
          },
          "metadata": {},
          "execution_count": 17
        }
      ]
    },
    {
      "cell_type": "markdown",
      "source": [
        "## **AutoML Model Leaderboard** "
      ],
      "metadata": {
        "id": "6mZFwFCb6Yei"
      }
    },
    {
      "cell_type": "code",
      "source": [
        "#Leaderboard\n",
        "print(aml.leaderboard)"
      ],
      "metadata": {
        "colab": {
          "base_uri": "https://localhost:8080/",
          "height": 271
        },
        "id": "QZ1zvLU48yfm",
        "outputId": "dfaeceb5-2a66-4f6d-c497-22c5144b52bf"
      },
      "execution_count": 18,
      "outputs": [
        {
          "output_type": "display_data",
          "data": {
            "text/html": [
              "<table>\n",
              "<thead>\n",
              "<tr><th>model_id                                       </th><th style=\"text-align: right;\">  mean_residual_deviance</th><th style=\"text-align: right;\">   rmse</th><th style=\"text-align: right;\">        mse</th><th style=\"text-align: right;\">    mae</th><th style=\"text-align: right;\">     rmsle</th></tr>\n",
              "</thead>\n",
              "<tbody>\n",
              "<tr><td>GBM_grid_1_AutoML_1_20220214_44557_model_2     </td><td style=\"text-align: right;\">             2.03992e+07</td><td style=\"text-align: right;\">4516.55</td><td style=\"text-align: right;\">2.03992e+07</td><td style=\"text-align: right;\">2519.15</td><td style=\"text-align: right;\">  0.431397</td></tr>\n",
              "<tr><td>GBM_grid_1_AutoML_1_20220214_44557_model_29    </td><td style=\"text-align: right;\">             2.07075e+07</td><td style=\"text-align: right;\">4550.55</td><td style=\"text-align: right;\">2.07075e+07</td><td style=\"text-align: right;\">2571.12</td><td style=\"text-align: right;\">  0.432533</td></tr>\n",
              "<tr><td>GBM_grid_1_AutoML_1_20220214_44557_model_42    </td><td style=\"text-align: right;\">             2.08396e+07</td><td style=\"text-align: right;\">4565.04</td><td style=\"text-align: right;\">2.08396e+07</td><td style=\"text-align: right;\">2539.78</td><td style=\"text-align: right;\">  0.444562</td></tr>\n",
              "<tr><td>GBM_grid_1_AutoML_1_20220214_44557_model_25    </td><td style=\"text-align: right;\">             2.10667e+07</td><td style=\"text-align: right;\">4589.85</td><td style=\"text-align: right;\">2.10667e+07</td><td style=\"text-align: right;\">2630.82</td><td style=\"text-align: right;\">  0.433214</td></tr>\n",
              "<tr><td>XGBoost_grid_1_AutoML_1_20220214_44557_model_29</td><td style=\"text-align: right;\">             2.12078e+07</td><td style=\"text-align: right;\">4605.19</td><td style=\"text-align: right;\">2.12078e+07</td><td style=\"text-align: right;\">2614.86</td><td style=\"text-align: right;\">  0.438282</td></tr>\n",
              "<tr><td>XGBoost_grid_1_AutoML_1_20220214_44557_model_49</td><td style=\"text-align: right;\">             2.12401e+07</td><td style=\"text-align: right;\">4608.7 </td><td style=\"text-align: right;\">2.12401e+07</td><td style=\"text-align: right;\">2597.67</td><td style=\"text-align: right;\">  0.450323</td></tr>\n",
              "<tr><td>GBM_grid_1_AutoML_1_20220214_44557_model_36    </td><td style=\"text-align: right;\">             2.12706e+07</td><td style=\"text-align: right;\">4612.01</td><td style=\"text-align: right;\">2.12706e+07</td><td style=\"text-align: right;\">2629.67</td><td style=\"text-align: right;\">  0.443956</td></tr>\n",
              "<tr><td>XGBoost_grid_1_AutoML_1_20220214_44557_model_15</td><td style=\"text-align: right;\">             2.13808e+07</td><td style=\"text-align: right;\">4623.94</td><td style=\"text-align: right;\">2.13808e+07</td><td style=\"text-align: right;\">2624.54</td><td style=\"text-align: right;\">  0.45009 </td></tr>\n",
              "<tr><td>XGBoost_grid_1_AutoML_1_20220214_44557_model_23</td><td style=\"text-align: right;\">             2.14194e+07</td><td style=\"text-align: right;\">4628.11</td><td style=\"text-align: right;\">2.14194e+07</td><td style=\"text-align: right;\">2601.92</td><td style=\"text-align: right;\">nan       </td></tr>\n",
              "<tr><td>XGBoost_grid_1_AutoML_1_20220214_44557_model_43</td><td style=\"text-align: right;\">             2.1432e+07 </td><td style=\"text-align: right;\">4629.47</td><td style=\"text-align: right;\">2.1432e+07 </td><td style=\"text-align: right;\">2605.48</td><td style=\"text-align: right;\">  0.451451</td></tr>\n",
              "</tbody>\n",
              "</table>"
            ]
          },
          "metadata": {}
        },
        {
          "output_type": "stream",
          "name": "stdout",
          "text": [
            "\n"
          ]
        }
      ]
    },
    {
      "cell_type": "code",
      "source": [
        "model_index=0\n",
        "glm_index=0\n",
        "glm_model=''\n",
        "aml_leaderboard_df=aml.leaderboard.as_data_frame()\n",
        "models_dict={}\n",
        "for m in aml_leaderboard_df['model_id']:\n",
        "  models_dict[m]=model_index\n",
        "  if 'StackedEnsemble' not in m:\n",
        "    break \n",
        "  model_index=model_index+1  \n",
        "\n",
        "for m in aml_leaderboard_df['model_id']:\n",
        "  if 'GLM' in m:\n",
        "    models_dict[m]=glm_index\n",
        "    break  \n",
        "  glm_index=glm_index+1     \n",
        "models_dict"
      ],
      "metadata": {
        "colab": {
          "base_uri": "https://localhost:8080/"
        },
        "id": "41Cu5u1S_FLA",
        "outputId": "522ab75a-58e6-40f4-a3a7-758fd625130b"
      },
      "execution_count": 19,
      "outputs": [
        {
          "output_type": "execute_result",
          "data": {
            "text/plain": [
              "{'GBM_grid_1_AutoML_1_20220214_44557_model_2': 0,\n",
              " 'GLM_1_AutoML_1_20220214_44557': 114}"
            ]
          },
          "metadata": {},
          "execution_count": 19
        }
      ]
    },
    {
      "cell_type": "markdown",
      "source": [
        "## **Examine the best model**"
      ],
      "metadata": {
        "id": "COUsdWKJBKJy"
      }
    },
    {
      "cell_type": "code",
      "source": [
        "print(model_index)\n",
        "best_model = h2o.get_model(aml.leaderboard[model_index,'model_id'])"
      ],
      "metadata": {
        "colab": {
          "base_uri": "https://localhost:8080/"
        },
        "id": "SLVxVXvC_KdI",
        "outputId": "e193cfef-140e-472c-fd0f-68a9de85b5e7"
      },
      "execution_count": 20,
      "outputs": [
        {
          "output_type": "stream",
          "name": "stdout",
          "text": [
            "0\n"
          ]
        }
      ]
    },
    {
      "cell_type": "code",
      "source": [
        "best_model.algo"
      ],
      "metadata": {
        "colab": {
          "base_uri": "https://localhost:8080/",
          "height": 0
        },
        "id": "SrGlV6QJ_OS5",
        "outputId": "997b54a3-f097-4193-d867-bf5c1188dff4"
      },
      "execution_count": 21,
      "outputs": [
        {
          "output_type": "execute_result",
          "data": {
            "application/vnd.google.colaboratory.intrinsic+json": {
              "type": "string"
            },
            "text/plain": [
              "'gbm'"
            ]
          },
          "metadata": {},
          "execution_count": 21
        }
      ]
    },
    {
      "cell_type": "code",
      "source": [
        "import matplotlib.pyplot as plt\n",
        "%matplotlib inline\n",
        "\n",
        "import warnings\n",
        "import matplotlib.cbook\n",
        "warnings.filterwarnings(\"ignore\", category = matplotlib.cbook.mplDeprecation)"
      ],
      "metadata": {
        "id": "n4cjSafZ_RWc"
      },
      "execution_count": 22,
      "outputs": []
    },
    {
      "cell_type": "markdown",
      "source": [
        "## **Variable Importance Plots**"
      ],
      "metadata": {
        "id": "7J53RRsbENqj"
      }
    },
    {
      "cell_type": "code",
      "source": [
        "if best_model.algo in ['gbm','drf','xrt','xgboost']:\n",
        "  best_model.varimp_plot()"
      ],
      "metadata": {
        "colab": {
          "base_uri": "https://localhost:8080/",
          "height": 629
        },
        "id": "urotsuR4_Vp2",
        "outputId": "4b7f3b76-96a9-415f-8dcd-85a8e6714096"
      },
      "execution_count": 23,
      "outputs": [
        {
          "output_type": "display_data",
          "data": {
            "image/png": "[encoded data removed]",
            "text/plain": [
              "<Figure size 1008x720 with 1 Axes>"
            ]
          },
          "metadata": {
            "needs_background": "light"
          }
        },
        {
          "output_type": "display_data",
          "data": {
            "text/plain": [
              "<Figure size 432x288 with 0 Axes>"
            ]
          },
          "metadata": {}
        }
      ]
    },
    {
      "cell_type": "code",
      "source": [
        "if glm_index is not 0:\n",
        "  print(glm_index)\n",
        "  glm_model=h2o.get_model(aml.leaderboard[glm_index,'model_id'])\n",
        "  print(glm_model.algo) \n",
        "  glm_model.std_coef_plot()"
      ],
      "metadata": {
        "colab": {
          "base_uri": "https://localhost:8080/",
          "height": 647
        },
        "id": "6kk3S3Tn_fqr",
        "outputId": "f560db1e-2b4f-45ac-9fbf-5a4b4e9fdb8a"
      },
      "execution_count": 24,
      "outputs": [
        {
          "output_type": "stream",
          "name": "stdout",
          "text": [
            "114\n",
            "glm\n"
          ]
        },
        {
          "output_type": "display_data",
          "data": {
            "image/png": "[encoded data removed]",
            "text/plain": [
              "<Figure size 1008x720 with 1 Axes>"
            ]
          },
          "metadata": {
            "needs_background": "light"
          }
        }
      ]
    },
    {
      "cell_type": "code",
      "source": [
        "print(best_model.rmse(train = True))"
      ],
      "metadata": {
        "colab": {
          "base_uri": "https://localhost:8080/"
        },
        "id": "tMvZeCsl_kMb",
        "outputId": "afc38554-f994-43a0-e6b7-7d8b6c7fad61"
      },
      "execution_count": 25,
      "outputs": [
        {
          "output_type": "stream",
          "name": "stdout",
          "text": [
            "3951.4142306923845\n"
          ]
        }
      ]
    },
    {
      "cell_type": "code",
      "source": [
        "def model_performance_stats(perf):\n",
        "    d={}\n",
        "    try:    \n",
        "      d['mse']=perf.mse()\n",
        "    except:\n",
        "      pass      \n",
        "    try:    \n",
        "      d['rmse']=perf.rmse() \n",
        "    except:\n",
        "      pass      \n",
        "    try:    \n",
        "      d['null_degrees_of_freedom']=perf.null_degrees_of_freedom()\n",
        "    except:\n",
        "      pass      \n",
        "    try:    \n",
        "      d['residual_degrees_of_freedom']=perf.residual_degrees_of_freedom()\n",
        "    except:\n",
        "      pass      \n",
        "    try:    \n",
        "      d['residual_deviance']=perf.residual_deviance() \n",
        "    except:\n",
        "      pass      \n",
        "    try:    \n",
        "      d['null_deviance']=perf.null_deviance() \n",
        "    except:\n",
        "      pass      \n",
        "    try:    \n",
        "      d['aic']=perf.aic() \n",
        "    except:\n",
        "      pass   \n",
        "    try:\n",
        "      d['logloss']=perf.logloss() \n",
        "    except:\n",
        "      pass    \n",
        "    try:\n",
        "      d['auc']=perf.auc()\n",
        "    except:\n",
        "      pass  \n",
        "    try:\n",
        "      d['gini']=perf.gini()\n",
        "    except:\n",
        "      pass    \n",
        "    return d"
      ],
      "metadata": {
        "id": "S_3gMmJa_pDH"
      },
      "execution_count": 26,
      "outputs": []
    },
    {
      "cell_type": "code",
      "source": [
        "mod_perf=best_model.model_performance(df_test)\n",
        "stats_test={}\n",
        "stats_test=model_performance_stats(mod_perf)\n",
        "stats_test"
      ],
      "metadata": {
        "colab": {
          "base_uri": "https://localhost:8080/"
        },
        "id": "uiNFOXUM_rmb",
        "outputId": "905171c4-c295-4b8d-c6dd-b8970fbea679"
      },
      "execution_count": 27,
      "outputs": [
        {
          "output_type": "execute_result",
          "data": {
            "text/plain": [
              "{'mse': 21808695.909095466,\n",
              " 'null_degrees_of_freedom': None,\n",
              " 'null_deviance': None,\n",
              " 'residual_degrees_of_freedom': None,\n",
              " 'residual_deviance': None,\n",
              " 'rmse': 4669.978148674302}"
            ]
          },
          "metadata": {},
          "execution_count": 27
        }
      ]
    },
    {
      "cell_type": "code",
      "source": [
        "predictions = best_model.predict(df_test)"
      ],
      "metadata": {
        "colab": {
          "base_uri": "https://localhost:8080/"
        },
        "id": "BWDJtGro_uBK",
        "outputId": "a7c6b51b-7009-40a7-cd5c-c6262951d4e3"
      },
      "execution_count": 28,
      "outputs": [
        {
          "output_type": "stream",
          "name": "stdout",
          "text": [
            "gbm prediction progress: |███████████████████████████████████████████████████████| (done) 100%\n"
          ]
        }
      ]
    },
    {
      "cell_type": "code",
      "source": [
        "y_pred=h2o.as_list(predictions)\n",
        "y_pred[0:5]"
      ],
      "metadata": {
        "colab": {
          "base_uri": "https://localhost:8080/",
          "height": 206
        },
        "id": "0zmxjXh2_0s9",
        "outputId": "52b29b33-bbd2-429f-dddd-e9552b590829"
      },
      "execution_count": 29,
      "outputs": [
        {
          "output_type": "execute_result",
          "data": {
            "text/html": [
              "\n",
              "  <div id=\"df-11da3c8c-da73-495b-b690-24f01164a504\">\n",
              "    <div class=\"colab-df-container\">\n",
              "      <div>\n",
              "<style scoped>\n",
              "    .dataframe tbody tr th:only-of-type {\n",
              "        vertical-align: middle;\n",
              "    }\n",
              "\n",
              "    .dataframe tbody tr th {\n",
              "        vertical-align: top;\n",
              "    }\n",
              "\n",
              "    .dataframe thead th {\n",
              "        text-align: right;\n",
              "    }\n",
              "</style>\n",
              "<table border=\"1\" class=\"dataframe\">\n",
              "  <thead>\n",
              "    <tr style=\"text-align: right;\">\n",
              "      <th></th>\n",
              "      <th>predict</th>\n",
              "    </tr>\n",
              "  </thead>\n",
              "  <tbody>\n",
              "    <tr>\n",
              "      <th>0</th>\n",
              "      <td>5605.511680</td>\n",
              "    </tr>\n",
              "    <tr>\n",
              "      <th>1</th>\n",
              "      <td>4924.922951</td>\n",
              "    </tr>\n",
              "    <tr>\n",
              "      <th>2</th>\n",
              "      <td>4507.273074</td>\n",
              "    </tr>\n",
              "    <tr>\n",
              "      <th>3</th>\n",
              "      <td>13863.264523</td>\n",
              "    </tr>\n",
              "    <tr>\n",
              "      <th>4</th>\n",
              "      <td>39836.810514</td>\n",
              "    </tr>\n",
              "  </tbody>\n",
              "</table>\n",
              "</div>\n",
              "      <button class=\"colab-df-convert\" onclick=\"convertToInteractive('df-11da3c8c-da73-495b-b690-24f01164a504')\"\n",
              "              title=\"Convert this dataframe to an interactive table.\"\n",
              "              style=\"display:none;\">\n",
              "        \n",
              "  <svg xmlns=\"http://www.w3.org/2000/svg\" height=\"24px\"viewBox=\"0 0 24 24\"\n",
              "       width=\"24px\">\n",
              "    <path d=\"M0 0h24v24H0V0z\" fill=\"none\"/>\n",
              "    <path d=\"M18.56 5.44l.94 2.06.94-2.06 2.06-.94-2.06-.94-.94-2.06-.94 2.06-2.06.94zm-11 1L8.5 8.5l.94-2.06 2.06-.94-2.06-.94L8.5 2.5l-.94 2.06-2.06.94zm10 10l.94 2.06.94-2.06 2.06-.94-2.06-.94-.94-2.06-.94 2.06-2.06.94z\"/><path d=\"M17.41 7.96l-1.37-1.37c-.4-.4-.92-.59-1.43-.59-.52 0-1.04.2-1.43.59L10.3 9.45l-7.72 7.72c-.78.78-.78 2.05 0 2.83L4 21.41c.39.39.9.59 1.41.59.51 0 1.02-.2 1.41-.59l7.78-7.78 2.81-2.81c.8-.78.8-2.07 0-2.86zM5.41 20L4 18.59l7.72-7.72 1.47 1.35L5.41 20z\"/>\n",
              "  </svg>\n",
              "      </button>\n",
              "      \n",
              "  <style>\n",
              "    .colab-df-container {\n",
              "      display:flex;\n",
              "      flex-wrap:wrap;\n",
              "      gap: 12px;\n",
              "    }\n",
              "\n",
              "    .colab-df-convert {\n",
              "      background-color: #E8F0FE;\n",
              "      border: none;\n",
              "      border-radius: 50%;\n",
              "      cursor: pointer;\n",
              "      display: none;\n",
              "      fill: #1967D2;\n",
              "      height: 32px;\n",
              "      padding: 0 0 0 0;\n",
              "      width: 32px;\n",
              "    }\n",
              "\n",
              "    .colab-df-convert:hover {\n",
              "      background-color: #E2EBFA;\n",
              "      box-shadow: 0px 1px 2px rgba(60, 64, 67, 0.3), 0px 1px 3px 1px rgba(60, 64, 67, 0.15);\n",
              "      fill: #174EA6;\n",
              "    }\n",
              "\n",
              "    [theme=dark] .colab-df-convert {\n",
              "      background-color: #3B4455;\n",
              "      fill: #D2E3FC;\n",
              "    }\n",
              "\n",
              "    [theme=dark] .colab-df-convert:hover {\n",
              "      background-color: #434B5C;\n",
              "      box-shadow: 0px 1px 3px 1px rgba(0, 0, 0, 0.15);\n",
              "      filter: drop-shadow(0px 1px 2px rgba(0, 0, 0, 0.3));\n",
              "      fill: #FFFFFF;\n",
              "    }\n",
              "  </style>\n",
              "\n",
              "      <script>\n",
              "        const buttonEl =\n",
              "          document.querySelector('#df-11da3c8c-da73-495b-b690-24f01164a504 button.colab-df-convert');\n",
              "        buttonEl.style.display =\n",
              "          google.colab.kernel.accessAllowed ? 'block' : 'none';\n",
              "\n",
              "        async function convertToInteractive(key) {\n",
              "          const element = document.querySelector('#df-11da3c8c-da73-495b-b690-24f01164a504');\n",
              "          const dataTable =\n",
              "            await google.colab.kernel.invokeFunction('convertToInteractive',\n",
              "                                                     [key], {});\n",
              "          if (!dataTable) return;\n",
              "\n",
              "          const docLinkHtml = 'Like what you see? Visit the ' +\n",
              "            '<a target=\"_blank\" href=https://colab.research.google.com/notebooks/data_table.ipynb>data table notebook</a>'\n",
              "            + ' to learn more about interactive tables.';\n",
              "          element.innerHTML = '';\n",
              "          dataTable['output_type'] = 'display_data';\n",
              "          await google.colab.output.renderOutput(dataTable, element);\n",
              "          const docLink = document.createElement('div');\n",
              "          docLink.innerHTML = docLinkHtml;\n",
              "          element.appendChild(docLink);\n",
              "        }\n",
              "      </script>\n",
              "    </div>\n",
              "  </div>\n",
              "  "
            ],
            "text/plain": [
              "        predict\n",
              "0   5605.511680\n",
              "1   4924.922951\n",
              "2   4507.273074\n",
              "3  13863.264523\n",
              "4  39836.810514"
            ]
          },
          "metadata": {},
          "execution_count": 29
        }
      ]
    },
    {
      "cell_type": "markdown",
      "source": [
        "## **Calculating P-value using OLS**"
      ],
      "metadata": {
        "id": "JIAoCNofDK7i"
      }
    },
    {
      "cell_type": "code",
      "source": [
        "import pandas as pd\n",
        "# Import the processed data from notebook One\n",
        "url = \"https://github.com/Ritujauni/Data-Science/raw/main/insurance.csv\"\n",
        "df1 = pd.read_csv(url)"
      ],
      "metadata": {
        "id": "IkotvXK-CLl1"
      },
      "execution_count": 30,
      "outputs": []
    },
    {
      "cell_type": "code",
      "source": [
        "#OLS model Library\n",
        "import statsmodels.formula.api as smf "
      ],
      "metadata": {
        "id": "FdJdLo-cDbLv",
        "colab": {
          "base_uri": "https://localhost:8080/"
        },
        "outputId": "15a68468-eb29-474f-b4c8-a1e9eaa15b4a"
      },
      "execution_count": 31,
      "outputs": [
        {
          "output_type": "stream",
          "name": "stderr",
          "text": [
            "/usr/local/lib/python3.7/dist-packages/statsmodels/tools/_testing.py:19: FutureWarning: pandas.util.testing is deprecated. Use the functions in the public API at pandas.testing instead.\n",
            "  import pandas.util.testing as tm\n"
          ]
        }
      ]
    },
    {
      "cell_type": "code",
      "source": [
        "results = smf.ols('charges ~ age +  sex + bmi + children + smoker + region', data=df1).fit()\n",
        "results.summary()"
      ],
      "metadata": {
        "colab": {
          "base_uri": "https://localhost:8080/",
          "height": 558
        },
        "id": "_SvvdSxZDb9M",
        "outputId": "97eafeea-7140-4e0b-b3eb-c9074e5c2ffe"
      },
      "execution_count": 32,
      "outputs": [
        {
          "output_type": "execute_result",
          "data": {
            "text/html": [
              "<table class=\"simpletable\">\n",
              "<caption>OLS Regression Results</caption>\n",
              "<tr>\n",
              "  <th>Dep. Variable:</th>         <td>charges</td>     <th>  R-squared:         </th> <td>   0.751</td> \n",
              "</tr>\n",
              "<tr>\n",
              "  <th>Model:</th>                   <td>OLS</td>       <th>  Adj. R-squared:    </th> <td>   0.750</td> \n",
              "</tr>\n",
              "<tr>\n",
              "  <th>Method:</th>             <td>Least Squares</td>  <th>  F-statistic:       </th> <td>   668.1</td> \n",
              "</tr>\n",
              "<tr>\n",
              "  <th>Date:</th>             <td>Mon, 14 Feb 2022</td> <th>  Prob (F-statistic):</th>  <td>  0.00</td>  \n",
              "</tr>\n",
              "<tr>\n",
              "  <th>Time:</th>                 <td>04:49:46</td>     <th>  Log-Likelihood:    </th> <td> -13548.</td> \n",
              "</tr>\n",
              "<tr>\n",
              "  <th>No. Observations:</th>      <td>  1338</td>      <th>  AIC:               </th> <td>2.711e+04</td>\n",
              "</tr>\n",
              "<tr>\n",
              "  <th>Df Residuals:</th>          <td>  1331</td>      <th>  BIC:               </th> <td>2.715e+04</td>\n",
              "</tr>\n",
              "<tr>\n",
              "  <th>Df Model:</th>              <td>     6</td>      <th>                     </th>     <td> </td>    \n",
              "</tr>\n",
              "<tr>\n",
              "  <th>Covariance Type:</th>      <td>nonrobust</td>    <th>                     </th>     <td> </td>    \n",
              "</tr>\n",
              "</table>\n",
              "<table class=\"simpletable\">\n",
              "<tr>\n",
              "      <td></td>         <th>coef</th>     <th>std err</th>      <th>t</th>      <th>P>|t|</th>  <th>[0.025</th>    <th>0.975]</th>  \n",
              "</tr>\n",
              "<tr>\n",
              "  <th>Intercept</th> <td>-1.323e+04</td> <td> 1076.023</td> <td>  -12.295</td> <td> 0.000</td> <td>-1.53e+04</td> <td>-1.11e+04</td>\n",
              "</tr>\n",
              "<tr>\n",
              "  <th>age</th>       <td>  257.2881</td> <td>   11.886</td> <td>   21.647</td> <td> 0.000</td> <td>  233.971</td> <td>  280.605</td>\n",
              "</tr>\n",
              "<tr>\n",
              "  <th>sex</th>       <td> -131.1106</td> <td>  332.811</td> <td>   -0.394</td> <td> 0.694</td> <td> -784.001</td> <td>  521.780</td>\n",
              "</tr>\n",
              "<tr>\n",
              "  <th>bmi</th>       <td>  332.5701</td> <td>   27.722</td> <td>   11.997</td> <td> 0.000</td> <td>  278.186</td> <td>  386.954</td>\n",
              "</tr>\n",
              "<tr>\n",
              "  <th>children</th>  <td>  479.3694</td> <td>  137.644</td> <td>    3.483</td> <td> 0.001</td> <td>  209.346</td> <td>  749.393</td>\n",
              "</tr>\n",
              "<tr>\n",
              "  <th>smoker</th>    <td> 2.382e+04</td> <td>  411.843</td> <td>   57.839</td> <td> 0.000</td> <td>  2.3e+04</td> <td> 2.46e+04</td>\n",
              "</tr>\n",
              "<tr>\n",
              "  <th>region</th>    <td>  353.6400</td> <td>  151.927</td> <td>    2.328</td> <td> 0.020</td> <td>   55.598</td> <td>  651.682</td>\n",
              "</tr>\n",
              "</table>\n",
              "<table class=\"simpletable\">\n",
              "<tr>\n",
              "  <th>Omnibus:</th>       <td>299.003</td> <th>  Durbin-Watson:     </th> <td>   2.088</td> \n",
              "</tr>\n",
              "<tr>\n",
              "  <th>Prob(Omnibus):</th> <td> 0.000</td>  <th>  Jarque-Bera (JB):  </th> <td> 713.975</td> \n",
              "</tr>\n",
              "<tr>\n",
              "  <th>Skew:</th>          <td> 1.207</td>  <th>  Prob(JB):          </th> <td>9.17e-156</td>\n",
              "</tr>\n",
              "<tr>\n",
              "  <th>Kurtosis:</th>      <td> 5.642</td>  <th>  Cond. No.          </th> <td>    335.</td> \n",
              "</tr>\n",
              "</table><br/><br/>Warnings:<br/>[1] Standard Errors assume that the covariance matrix of the errors is correctly specified."
            ],
            "text/plain": [
              "<class 'statsmodels.iolib.summary.Summary'>\n",
              "\"\"\"\n",
              "                            OLS Regression Results                            \n",
              "==============================================================================\n",
              "Dep. Variable:                charges   R-squared:                       0.751\n",
              "Model:                            OLS   Adj. R-squared:                  0.750\n",
              "Method:                 Least Squares   F-statistic:                     668.1\n",
              "Date:                Mon, 14 Feb 2022   Prob (F-statistic):               0.00\n",
              "Time:                        04:49:46   Log-Likelihood:                -13548.\n",
              "No. Observations:                1338   AIC:                         2.711e+04\n",
              "Df Residuals:                    1331   BIC:                         2.715e+04\n",
              "Df Model:                           6                                         \n",
              "Covariance Type:            nonrobust                                         \n",
              "==============================================================================\n",
              "                 coef    std err          t      P>|t|      [0.025      0.975]\n",
              "------------------------------------------------------------------------------\n",
              "Intercept  -1.323e+04   1076.023    -12.295      0.000   -1.53e+04   -1.11e+04\n",
              "age          257.2881     11.886     21.647      0.000     233.971     280.605\n",
              "sex         -131.1106    332.811     -0.394      0.694    -784.001     521.780\n",
              "bmi          332.5701     27.722     11.997      0.000     278.186     386.954\n",
              "children     479.3694    137.644      3.483      0.001     209.346     749.393\n",
              "smoker      2.382e+04    411.843     57.839      0.000     2.3e+04    2.46e+04\n",
              "region       353.6400    151.927      2.328      0.020      55.598     651.682\n",
              "==============================================================================\n",
              "Omnibus:                      299.003   Durbin-Watson:                   2.088\n",
              "Prob(Omnibus):                  0.000   Jarque-Bera (JB):              713.975\n",
              "Skew:                           1.207   Prob(JB):                    9.17e-156\n",
              "Kurtosis:                       5.642   Cond. No.                         335.\n",
              "==============================================================================\n",
              "\n",
              "Warnings:\n",
              "[1] Standard Errors assume that the covariance matrix of the errors is correctly specified.\n",
              "\"\"\""
            ]
          },
          "metadata": {},
          "execution_count": 32
        }
      ]
    },
    {
      "cell_type": "markdown",
      "source": [
        "## **Correlation Heatmap**\n",
        "The correlation coefficient has values between -1 to 1:\n",
        "\n",
        "1. A value closer to 0 indicates weaker correlation\n",
        "2. A value closer to 1 indicates stronger positive correlation\n",
        "3. A value closer to -1 indicates stronger negative correlation\n",
        "\n",
        "Note : Exact 0 implying no correlation"
      ],
      "metadata": {
        "id": "-RXy8QGGEcUq"
      }
    },
    {
      "cell_type": "code",
      "source": [
        "multi_df = pd.read_csv(url)"
      ],
      "metadata": {
        "id": "FwUG7E_PDe-S"
      },
      "execution_count": 33,
      "outputs": []
    },
    {
      "cell_type": "code",
      "source": [
        "# Transforming categorical features to numerical values\n",
        "multi_df[\"smoker\"] = multi_df[\"smoker\"].replace([\"yes\",\"no\"], [1,0])\n",
        "multi_df[\"sex\"] = multi_df[\"sex\"].replace([\"male\",\"female\"], [1,0])\n",
        "multi_df1=multi_df.drop('charges',1)\n",
        "multi_df2=multi_df1.drop('region',1)"
      ],
      "metadata": {
        "colab": {
          "base_uri": "https://localhost:8080/"
        },
        "id": "AgVakAnXEo-a",
        "outputId": "ad645799-c263-404f-fb4f-f76940b68c64"
      },
      "execution_count": 34,
      "outputs": [
        {
          "output_type": "stream",
          "name": "stderr",
          "text": [
            "/usr/local/lib/python3.7/dist-packages/ipykernel_launcher.py:4: FutureWarning: In a future version of pandas all arguments of DataFrame.drop except for the argument 'labels' will be keyword-only\n",
            "  after removing the cwd from sys.path.\n",
            "/usr/local/lib/python3.7/dist-packages/ipykernel_launcher.py:5: FutureWarning: In a future version of pandas all arguments of DataFrame.drop except for the argument 'labels' will be keyword-only\n",
            "  \"\"\"\n"
          ]
        }
      ]
    },
    {
      "cell_type": "code",
      "source": [
        "import seaborn as sns\n",
        "import matplotlib.pyplot as plt"
      ],
      "metadata": {
        "id": "rMBHGcqLEqe3"
      },
      "execution_count": 35,
      "outputs": []
    },
    {
      "cell_type": "code",
      "source": [
        "plt.figure(figsize = (10,10))\n",
        "sns.heatmap(multi_df2.corr(), vmin= -1,vmax=1,annot=True);"
      ],
      "metadata": {
        "colab": {
          "base_uri": "https://localhost:8080/",
          "height": 596
        },
        "id": "bnW1o5SWEt4-",
        "outputId": "9b8b6b9e-ea54-4359-fe3d-587b12846990"
      },
      "execution_count": 36,
      "outputs": [
        {
          "output_type": "display_data",
          "data": {
            "image/png": "[encoded data removed]",
            "text/plain": [
              "<Figure size 720x720 with 2 Axes>"
            ]
          },
          "metadata": {
            "needs_background": "light"
          }
        }
      ]
    },
    {
      "cell_type": "markdown",
      "source": [
        "## **Residual Analysis Plot**\n",
        "\n"
      ],
      "metadata": {
        "id": "Xl6uHyhX75FO"
      }
    },
    {
      "cell_type": "code",
      "source": [
        "exa = aml.leader.explain(df_test, include_explanations = \"residual_analysis\")"
      ],
      "metadata": {
        "colab": {
          "base_uri": "https://localhost:8080/",
          "height": 0
        },
        "id": "LLMrHIr38loM",
        "outputId": "4ec53d05-4732-41c1-921d-5287614497f7"
      },
      "execution_count": 37,
      "outputs": [
        {
          "output_type": "display_data",
          "data": {
            "text/markdown": "\n\n# Residual Analysis",
            "text/html": [
              "<h1>Residual Analysis</h1>"
            ],
            "text/plain": [
              "\n",
              "\n",
              "# Residual Analysis"
            ]
          },
          "metadata": {}
        },
        {
          "output_type": "display_data",
          "data": {
            "text/markdown": "\n> Residual Analysis plots the fitted values vs residuals on a test dataset. Ideally, residuals should be randomly distributed. Patterns in this plot can indicate potential problems with the model selection, e.g., using simpler model than necessary, not accounting for heteroscedasticity, autocorrelation, etc. Note that if you see \"striped\" lines of residuals, that is an artifact of having an integer valued (vs a real valued) response variable.",
            "text/html": [
              "<blockquote>Residual Analysis plots the fitted values vs residuals on a test dataset. Ideally, residuals should be randomly distributed. Patterns in this plot can indicate potential problems with the model selection, e.g., using simpler model than necessary, not accounting for heteroscedasticity, autocorrelation, etc. Note that if you see \"striped\" lines of residuals, that is an artifact of having an integer valued (vs a real valued) response variable.</blockquote>"
            ],
            "text/plain": [
              "\n",
              "> Residual Analysis plots the fitted values vs residuals on a test dataset. Ideally, residuals should be randomly distributed. Patterns in this plot can indicate potential problems with the model selection, e.g., using simpler model than necessary, not accounting for heteroscedasticity, autocorrelation, etc. Note that if you see \"striped\" lines of residuals, that is an artifact of having an integer valued (vs a real valued) response variable."
            ]
          },
          "metadata": {}
        },
        {
          "output_type": "display_data",
          "data": {
            "image/png": "[encoded data removed]",
            "text/plain": [
              "<Figure size 1152x648 with 1 Axes>"
            ]
          },
          "metadata": {
            "needs_background": "light"
          }
        },
        {
          "output_type": "stream",
          "name": "stdout",
          "text": [
            "\n",
            "\n"
          ]
        }
      ]
    },
    {
      "cell_type": "markdown",
      "source": [
        "## **Regularization**"
      ],
      "metadata": {
        "id": "Z2j7kNdBhebH"
      }
    },
    {
      "cell_type": "code",
      "source": [
        "from h2o.estimators.glm import H2OGeneralizedLinearEstimator\n",
        "\n",
        "charges_glm = H2OGeneralizedLinearEstimator(family = 'gaussian', lambda_ = 0, compute_p_values = True)\n",
        "\n",
        "\n",
        "charges_glm_regularization = H2OGeneralizedLinearEstimator(family = 'gaussian', lambda_ = .001, alpha = 0)"
      ],
      "metadata": {
        "id": "YhE16MP4k1JR"
      },
      "execution_count": 38,
      "outputs": []
    },
    {
      "cell_type": "code",
      "source": [
        "df_r= df.drop(['children', 'region','sex'], axis = 1)\n",
        "X1=df_r.columns\n",
        "y1='charges'\n",
        "\n",
        "X1.remove(y1)"
      ],
      "metadata": {
        "id": "lWWacRfGEvhB"
      },
      "execution_count": 39,
      "outputs": []
    },
    {
      "cell_type": "code",
      "source": [
        "pct_rows=0.80\n",
        "df1_train,df1_test = df.split_frame([pct_rows])"
      ],
      "metadata": {
        "id": "_NkQNvc9irqJ"
      },
      "execution_count": 40,
      "outputs": []
    },
    {
      "cell_type": "code",
      "source": [
        "charges_glm_regularization.train(x = X, y= y,training_frame = df1_train)"
      ],
      "metadata": {
        "colab": {
          "base_uri": "https://localhost:8080/",
          "height": 882
        },
        "id": "4qmtXG9lk-bl",
        "outputId": "73bcb7ef-d302-46b2-f8d8-142c8b018481"
      },
      "execution_count": 41,
      "outputs": [
        {
          "output_type": "stream",
          "name": "stdout",
          "text": [
            "glm Model Build progress: |██████████████████████████████████████████████████████| (done) 100%\n",
            "Model Details\n",
            "=============\n",
            "H2OGeneralizedLinearEstimator :  Generalized Linear Modeling\n",
            "Model Key:  GLM_model_python_1644813940854_1\n",
            "\n",
            "\n",
            "GLM Model: summary\n"
          ]
        },
        {
          "output_type": "display_data",
          "data": {
            "text/html": [
              "\n",
              "  <div id=\"df-002becb0-7008-4dd5-97c3-0334260678cd\">\n",
              "    <div class=\"colab-df-container\">\n",
              "      <div>\n",
              "<style scoped>\n",
              "    .dataframe tbody tr th:only-of-type {\n",
              "        vertical-align: middle;\n",
              "    }\n",
              "\n",
              "    .dataframe tbody tr th {\n",
              "        vertical-align: top;\n",
              "    }\n",
              "\n",
              "    .dataframe thead th {\n",
              "        text-align: right;\n",
              "    }\n",
              "</style>\n",
              "<table border=\"1\" class=\"dataframe\">\n",
              "  <thead>\n",
              "    <tr style=\"text-align: right;\">\n",
              "      <th></th>\n",
              "      <th></th>\n",
              "      <th>family</th>\n",
              "      <th>link</th>\n",
              "      <th>regularization</th>\n",
              "      <th>number_of_predictors_total</th>\n",
              "      <th>number_of_active_predictors</th>\n",
              "      <th>number_of_iterations</th>\n",
              "      <th>training_frame</th>\n",
              "    </tr>\n",
              "  </thead>\n",
              "  <tbody>\n",
              "    <tr>\n",
              "      <th>0</th>\n",
              "      <td></td>\n",
              "      <td>gaussian</td>\n",
              "      <td>identity</td>\n",
              "      <td>Ridge ( lambda = 0.001 )</td>\n",
              "      <td>6</td>\n",
              "      <td>6</td>\n",
              "      <td>1</td>\n",
              "      <td>py_15_sid_860b</td>\n",
              "    </tr>\n",
              "  </tbody>\n",
              "</table>\n",
              "</div>\n",
              "      <button class=\"colab-df-convert\" onclick=\"convertToInteractive('df-002becb0-7008-4dd5-97c3-0334260678cd')\"\n",
              "              title=\"Convert this dataframe to an interactive table.\"\n",
              "              style=\"display:none;\">\n",
              "        \n",
              "  <svg xmlns=\"http://www.w3.org/2000/svg\" height=\"24px\"viewBox=\"0 0 24 24\"\n",
              "       width=\"24px\">\n",
              "    <path d=\"M0 0h24v24H0V0z\" fill=\"none\"/>\n",
              "    <path d=\"M18.56 5.44l.94 2.06.94-2.06 2.06-.94-2.06-.94-.94-2.06-.94 2.06-2.06.94zm-11 1L8.5 8.5l.94-2.06 2.06-.94-2.06-.94L8.5 2.5l-.94 2.06-2.06.94zm10 10l.94 2.06.94-2.06 2.06-.94-2.06-.94-.94-2.06-.94 2.06-2.06.94z\"/><path d=\"M17.41 7.96l-1.37-1.37c-.4-.4-.92-.59-1.43-.59-.52 0-1.04.2-1.43.59L10.3 9.45l-7.72 7.72c-.78.78-.78 2.05 0 2.83L4 21.41c.39.39.9.59 1.41.59.51 0 1.02-.2 1.41-.59l7.78-7.78 2.81-2.81c.8-.78.8-2.07 0-2.86zM5.41 20L4 18.59l7.72-7.72 1.47 1.35L5.41 20z\"/>\n",
              "  </svg>\n",
              "      </button>\n",
              "      \n",
              "  <style>\n",
              "    .colab-df-container {\n",
              "      display:flex;\n",
              "      flex-wrap:wrap;\n",
              "      gap: 12px;\n",
              "    }\n",
              "\n",
              "    .colab-df-convert {\n",
              "      background-color: #E8F0FE;\n",
              "      border: none;\n",
              "      border-radius: 50%;\n",
              "      cursor: pointer;\n",
              "      display: none;\n",
              "      fill: #1967D2;\n",
              "      height: 32px;\n",
              "      padding: 0 0 0 0;\n",
              "      width: 32px;\n",
              "    }\n",
              "\n",
              "    .colab-df-convert:hover {\n",
              "      background-color: #E2EBFA;\n",
              "      box-shadow: 0px 1px 2px rgba(60, 64, 67, 0.3), 0px 1px 3px 1px rgba(60, 64, 67, 0.15);\n",
              "      fill: #174EA6;\n",
              "    }\n",
              "\n",
              "    [theme=dark] .colab-df-convert {\n",
              "      background-color: #3B4455;\n",
              "      fill: #D2E3FC;\n",
              "    }\n",
              "\n",
              "    [theme=dark] .colab-df-convert:hover {\n",
              "      background-color: #434B5C;\n",
              "      box-shadow: 0px 1px 3px 1px rgba(0, 0, 0, 0.15);\n",
              "      filter: drop-shadow(0px 1px 2px rgba(0, 0, 0, 0.3));\n",
              "      fill: #FFFFFF;\n",
              "    }\n",
              "  </style>\n",
              "\n",
              "      <script>\n",
              "        const buttonEl =\n",
              "          document.querySelector('#df-002becb0-7008-4dd5-97c3-0334260678cd button.colab-df-convert');\n",
              "        buttonEl.style.display =\n",
              "          google.colab.kernel.accessAllowed ? 'block' : 'none';\n",
              "\n",
              "        async function convertToInteractive(key) {\n",
              "          const element = document.querySelector('#df-002becb0-7008-4dd5-97c3-0334260678cd');\n",
              "          const dataTable =\n",
              "            await google.colab.kernel.invokeFunction('convertToInteractive',\n",
              "                                                     [key], {});\n",
              "          if (!dataTable) return;\n",
              "\n",
              "          const docLinkHtml = 'Like what you see? Visit the ' +\n",
              "            '<a target=\"_blank\" href=https://colab.research.google.com/notebooks/data_table.ipynb>data table notebook</a>'\n",
              "            + ' to learn more about interactive tables.';\n",
              "          element.innerHTML = '';\n",
              "          dataTable['output_type'] = 'display_data';\n",
              "          await google.colab.output.renderOutput(dataTable, element);\n",
              "          const docLink = document.createElement('div');\n",
              "          docLink.innerHTML = docLinkHtml;\n",
              "          element.appendChild(docLink);\n",
              "        }\n",
              "      </script>\n",
              "    </div>\n",
              "  </div>\n",
              "  "
            ],
            "text/plain": [
              "       family  ... number_of_iterations  training_frame\n",
              "0    gaussian  ...                    1  py_15_sid_860b\n",
              "\n",
              "[1 rows x 8 columns]"
            ]
          },
          "metadata": {}
        },
        {
          "output_type": "stream",
          "name": "stdout",
          "text": [
            "\n",
            "\n",
            "ModelMetricsRegressionGLM: glm\n",
            "** Reported on train data. **\n",
            "\n",
            "MSE: 37177062.11969134\n",
            "RMSE: 6097.299576016529\n",
            "MAE: 4161.405533417274\n",
            "RMSLE: NaN\n",
            "R^2: 0.7496139308864522\n",
            "Mean Residual Deviance: 37177062.11969134\n",
            "Null degrees of freedom: 1070\n",
            "Residual degrees of freedom: 1064\n",
            "Null deviance: 159020961793.73627\n",
            "Residual deviance: 39816633530.18943\n",
            "AIC: 21724.184236375808\n",
            "\n",
            "Scoring History: \n"
          ]
        },
        {
          "output_type": "display_data",
          "data": {
            "text/html": [
              "\n",
              "  <div id=\"df-a2be9c03-f134-4cb5-a0d7-90c9e7e6724f\">\n",
              "    <div class=\"colab-df-container\">\n",
              "      <div>\n",
              "<style scoped>\n",
              "    .dataframe tbody tr th:only-of-type {\n",
              "        vertical-align: middle;\n",
              "    }\n",
              "\n",
              "    .dataframe tbody tr th {\n",
              "        vertical-align: top;\n",
              "    }\n",
              "\n",
              "    .dataframe thead th {\n",
              "        text-align: right;\n",
              "    }\n",
              "</style>\n",
              "<table border=\"1\" class=\"dataframe\">\n",
              "  <thead>\n",
              "    <tr style=\"text-align: right;\">\n",
              "      <th></th>\n",
              "      <th></th>\n",
              "      <th>timestamp</th>\n",
              "      <th>duration</th>\n",
              "      <th>iterations</th>\n",
              "      <th>negative_log_likelihood</th>\n",
              "      <th>objective</th>\n",
              "      <th>training_rmse</th>\n",
              "      <th>training_deviance</th>\n",
              "      <th>training_mae</th>\n",
              "      <th>training_r2</th>\n",
              "    </tr>\n",
              "  </thead>\n",
              "  <tbody>\n",
              "    <tr>\n",
              "      <th>0</th>\n",
              "      <td></td>\n",
              "      <td>2022-02-14 04:49:48</td>\n",
              "      <td>0.000 sec</td>\n",
              "      <td>0</td>\n",
              "      <td>159020961874.052979</td>\n",
              "      <td>148478955.998182</td>\n",
              "      <td></td>\n",
              "      <td></td>\n",
              "      <td></td>\n",
              "      <td></td>\n",
              "    </tr>\n",
              "    <tr>\n",
              "      <th>1</th>\n",
              "      <td></td>\n",
              "      <td>2022-02-14 04:49:48</td>\n",
              "      <td>0.014 sec</td>\n",
              "      <td>1</td>\n",
              "      <td></td>\n",
              "      <td></td>\n",
              "      <td>6097.299576</td>\n",
              "      <td>37177062.119691</td>\n",
              "      <td>4161.405533</td>\n",
              "      <td>0.749614</td>\n",
              "    </tr>\n",
              "  </tbody>\n",
              "</table>\n",
              "</div>\n",
              "      <button class=\"colab-df-convert\" onclick=\"convertToInteractive('df-a2be9c03-f134-4cb5-a0d7-90c9e7e6724f')\"\n",
              "              title=\"Convert this dataframe to an interactive table.\"\n",
              "              style=\"display:none;\">\n",
              "        \n",
              "  <svg xmlns=\"http://www.w3.org/2000/svg\" height=\"24px\"viewBox=\"0 0 24 24\"\n",
              "       width=\"24px\">\n",
              "    <path d=\"M0 0h24v24H0V0z\" fill=\"none\"/>\n",
              "    <path d=\"M18.56 5.44l.94 2.06.94-2.06 2.06-.94-2.06-.94-.94-2.06-.94 2.06-2.06.94zm-11 1L8.5 8.5l.94-2.06 2.06-.94-2.06-.94L8.5 2.5l-.94 2.06-2.06.94zm10 10l.94 2.06.94-2.06 2.06-.94-2.06-.94-.94-2.06-.94 2.06-2.06.94z\"/><path d=\"M17.41 7.96l-1.37-1.37c-.4-.4-.92-.59-1.43-.59-.52 0-1.04.2-1.43.59L10.3 9.45l-7.72 7.72c-.78.78-.78 2.05 0 2.83L4 21.41c.39.39.9.59 1.41.59.51 0 1.02-.2 1.41-.59l7.78-7.78 2.81-2.81c.8-.78.8-2.07 0-2.86zM5.41 20L4 18.59l7.72-7.72 1.47 1.35L5.41 20z\"/>\n",
              "  </svg>\n",
              "      </button>\n",
              "      \n",
              "  <style>\n",
              "    .colab-df-container {\n",
              "      display:flex;\n",
              "      flex-wrap:wrap;\n",
              "      gap: 12px;\n",
              "    }\n",
              "\n",
              "    .colab-df-convert {\n",
              "      background-color: #E8F0FE;\n",
              "      border: none;\n",
              "      border-radius: 50%;\n",
              "      cursor: pointer;\n",
              "      display: none;\n",
              "      fill: #1967D2;\n",
              "      height: 32px;\n",
              "      padding: 0 0 0 0;\n",
              "      width: 32px;\n",
              "    }\n",
              "\n",
              "    .colab-df-convert:hover {\n",
              "      background-color: #E2EBFA;\n",
              "      box-shadow: 0px 1px 2px rgba(60, 64, 67, 0.3), 0px 1px 3px 1px rgba(60, 64, 67, 0.15);\n",
              "      fill: #174EA6;\n",
              "    }\n",
              "\n",
              "    [theme=dark] .colab-df-convert {\n",
              "      background-color: #3B4455;\n",
              "      fill: #D2E3FC;\n",
              "    }\n",
              "\n",
              "    [theme=dark] .colab-df-convert:hover {\n",
              "      background-color: #434B5C;\n",
              "      box-shadow: 0px 1px 3px 1px rgba(0, 0, 0, 0.15);\n",
              "      filter: drop-shadow(0px 1px 2px rgba(0, 0, 0, 0.3));\n",
              "      fill: #FFFFFF;\n",
              "    }\n",
              "  </style>\n",
              "\n",
              "      <script>\n",
              "        const buttonEl =\n",
              "          document.querySelector('#df-a2be9c03-f134-4cb5-a0d7-90c9e7e6724f button.colab-df-convert');\n",
              "        buttonEl.style.display =\n",
              "          google.colab.kernel.accessAllowed ? 'block' : 'none';\n",
              "\n",
              "        async function convertToInteractive(key) {\n",
              "          const element = document.querySelector('#df-a2be9c03-f134-4cb5-a0d7-90c9e7e6724f');\n",
              "          const dataTable =\n",
              "            await google.colab.kernel.invokeFunction('convertToInteractive',\n",
              "                                                     [key], {});\n",
              "          if (!dataTable) return;\n",
              "\n",
              "          const docLinkHtml = 'Like what you see? Visit the ' +\n",
              "            '<a target=\"_blank\" href=https://colab.research.google.com/notebooks/data_table.ipynb>data table notebook</a>'\n",
              "            + ' to learn more about interactive tables.';\n",
              "          element.innerHTML = '';\n",
              "          dataTable['output_type'] = 'display_data';\n",
              "          await google.colab.output.renderOutput(dataTable, element);\n",
              "          const docLink = document.createElement('div');\n",
              "          docLink.innerHTML = docLinkHtml;\n",
              "          element.appendChild(docLink);\n",
              "        }\n",
              "      </script>\n",
              "    </div>\n",
              "  </div>\n",
              "  "
            ],
            "text/plain": [
              "               timestamp    duration  ...  training_deviance training_mae training_r2\n",
              "0    2022-02-14 04:49:48   0.000 sec  ...                                            \n",
              "1    2022-02-14 04:49:48   0.014 sec  ...    37177062.119691  4161.405533    0.749614\n",
              "\n",
              "[2 rows x 10 columns]"
            ]
          },
          "metadata": {}
        },
        {
          "output_type": "stream",
          "name": "stdout",
          "text": [
            "\n",
            "Variable Importances: \n"
          ]
        },
        {
          "output_type": "display_data",
          "data": {
            "text/html": [
              "\n",
              "  <div id=\"df-ae99c294-21d5-4d7a-9985-a5d2815224bf\">\n",
              "    <div class=\"colab-df-container\">\n",
              "      <div>\n",
              "<style scoped>\n",
              "    .dataframe tbody tr th:only-of-type {\n",
              "        vertical-align: middle;\n",
              "    }\n",
              "\n",
              "    .dataframe tbody tr th {\n",
              "        vertical-align: top;\n",
              "    }\n",
              "\n",
              "    .dataframe thead th {\n",
              "        text-align: right;\n",
              "    }\n",
              "</style>\n",
              "<table border=\"1\" class=\"dataframe\">\n",
              "  <thead>\n",
              "    <tr style=\"text-align: right;\">\n",
              "      <th></th>\n",
              "      <th>variable</th>\n",
              "      <th>relative_importance</th>\n",
              "      <th>scaled_importance</th>\n",
              "      <th>percentage</th>\n",
              "    </tr>\n",
              "  </thead>\n",
              "  <tbody>\n",
              "    <tr>\n",
              "      <th>0</th>\n",
              "      <td>smoker</td>\n",
              "      <td>9610.063477</td>\n",
              "      <td>1.000000</td>\n",
              "      <td>0.591924</td>\n",
              "    </tr>\n",
              "    <tr>\n",
              "      <th>1</th>\n",
              "      <td>age</td>\n",
              "      <td>3589.272949</td>\n",
              "      <td>0.373491</td>\n",
              "      <td>0.221078</td>\n",
              "    </tr>\n",
              "    <tr>\n",
              "      <th>2</th>\n",
              "      <td>bmi</td>\n",
              "      <td>1976.989502</td>\n",
              "      <td>0.205721</td>\n",
              "      <td>0.121771</td>\n",
              "    </tr>\n",
              "    <tr>\n",
              "      <th>3</th>\n",
              "      <td>children</td>\n",
              "      <td>577.744080</td>\n",
              "      <td>0.060119</td>\n",
              "      <td>0.035586</td>\n",
              "    </tr>\n",
              "    <tr>\n",
              "      <th>4</th>\n",
              "      <td>region</td>\n",
              "      <td>384.355988</td>\n",
              "      <td>0.039995</td>\n",
              "      <td>0.023674</td>\n",
              "    </tr>\n",
              "    <tr>\n",
              "      <th>5</th>\n",
              "      <td>sex</td>\n",
              "      <td>96.881668</td>\n",
              "      <td>0.010081</td>\n",
              "      <td>0.005967</td>\n",
              "    </tr>\n",
              "  </tbody>\n",
              "</table>\n",
              "</div>\n",
              "      <button class=\"colab-df-convert\" onclick=\"convertToInteractive('df-ae99c294-21d5-4d7a-9985-a5d2815224bf')\"\n",
              "              title=\"Convert this dataframe to an interactive table.\"\n",
              "              style=\"display:none;\">\n",
              "        \n",
              "  <svg xmlns=\"http://www.w3.org/2000/svg\" height=\"24px\"viewBox=\"0 0 24 24\"\n",
              "       width=\"24px\">\n",
              "    <path d=\"M0 0h24v24H0V0z\" fill=\"none\"/>\n",
              "    <path d=\"M18.56 5.44l.94 2.06.94-2.06 2.06-.94-2.06-.94-.94-2.06-.94 2.06-2.06.94zm-11 1L8.5 8.5l.94-2.06 2.06-.94-2.06-.94L8.5 2.5l-.94 2.06-2.06.94zm10 10l.94 2.06.94-2.06 2.06-.94-2.06-.94-.94-2.06-.94 2.06-2.06.94z\"/><path d=\"M17.41 7.96l-1.37-1.37c-.4-.4-.92-.59-1.43-.59-.52 0-1.04.2-1.43.59L10.3 9.45l-7.72 7.72c-.78.78-.78 2.05 0 2.83L4 21.41c.39.39.9.59 1.41.59.51 0 1.02-.2 1.41-.59l7.78-7.78 2.81-2.81c.8-.78.8-2.07 0-2.86zM5.41 20L4 18.59l7.72-7.72 1.47 1.35L5.41 20z\"/>\n",
              "  </svg>\n",
              "      </button>\n",
              "      \n",
              "  <style>\n",
              "    .colab-df-container {\n",
              "      display:flex;\n",
              "      flex-wrap:wrap;\n",
              "      gap: 12px;\n",
              "    }\n",
              "\n",
              "    .colab-df-convert {\n",
              "      background-color: #E8F0FE;\n",
              "      border: none;\n",
              "      border-radius: 50%;\n",
              "      cursor: pointer;\n",
              "      display: none;\n",
              "      fill: #1967D2;\n",
              "      height: 32px;\n",
              "      padding: 0 0 0 0;\n",
              "      width: 32px;\n",
              "    }\n",
              "\n",
              "    .colab-df-convert:hover {\n",
              "      background-color: #E2EBFA;\n",
              "      box-shadow: 0px 1px 2px rgba(60, 64, 67, 0.3), 0px 1px 3px 1px rgba(60, 64, 67, 0.15);\n",
              "      fill: #174EA6;\n",
              "    }\n",
              "\n",
              "    [theme=dark] .colab-df-convert {\n",
              "      background-color: #3B4455;\n",
              "      fill: #D2E3FC;\n",
              "    }\n",
              "\n",
              "    [theme=dark] .colab-df-convert:hover {\n",
              "      background-color: #434B5C;\n",
              "      box-shadow: 0px 1px 3px 1px rgba(0, 0, 0, 0.15);\n",
              "      filter: drop-shadow(0px 1px 2px rgba(0, 0, 0, 0.3));\n",
              "      fill: #FFFFFF;\n",
              "    }\n",
              "  </style>\n",
              "\n",
              "      <script>\n",
              "        const buttonEl =\n",
              "          document.querySelector('#df-ae99c294-21d5-4d7a-9985-a5d2815224bf button.colab-df-convert');\n",
              "        buttonEl.style.display =\n",
              "          google.colab.kernel.accessAllowed ? 'block' : 'none';\n",
              "\n",
              "        async function convertToInteractive(key) {\n",
              "          const element = document.querySelector('#df-ae99c294-21d5-4d7a-9985-a5d2815224bf');\n",
              "          const dataTable =\n",
              "            await google.colab.kernel.invokeFunction('convertToInteractive',\n",
              "                                                     [key], {});\n",
              "          if (!dataTable) return;\n",
              "\n",
              "          const docLinkHtml = 'Like what you see? Visit the ' +\n",
              "            '<a target=\"_blank\" href=https://colab.research.google.com/notebooks/data_table.ipynb>data table notebook</a>'\n",
              "            + ' to learn more about interactive tables.';\n",
              "          element.innerHTML = '';\n",
              "          dataTable['output_type'] = 'display_data';\n",
              "          await google.colab.output.renderOutput(dataTable, element);\n",
              "          const docLink = document.createElement('div');\n",
              "          docLink.innerHTML = docLinkHtml;\n",
              "          element.appendChild(docLink);\n",
              "        }\n",
              "      </script>\n",
              "    </div>\n",
              "  </div>\n",
              "  "
            ],
            "text/plain": [
              "   variable  relative_importance  scaled_importance  percentage\n",
              "0    smoker          9610.063477           1.000000    0.591924\n",
              "1       age          3589.272949           0.373491    0.221078\n",
              "2       bmi          1976.989502           0.205721    0.121771\n",
              "3  children           577.744080           0.060119    0.035586\n",
              "4    region           384.355988           0.039995    0.023674\n",
              "5       sex            96.881668           0.010081    0.005967"
            ]
          },
          "metadata": {}
        },
        {
          "output_type": "execute_result",
          "data": {
            "text/plain": [
              ""
            ]
          },
          "metadata": {},
          "execution_count": 41
        }
      ]
    },
    {
      "cell_type": "markdown",
      "source": [
        "## **Hyperparameters**"
      ],
      "metadata": {
        "id": "nwFy5pHzMpJT"
      }
    },
    {
      "cell_type": "code",
      "source": [
        "import numpy as np\n",
        "\n",
        "from sklearn.model_selection import train_test_split\n",
        "\n",
        "from sklearn.ensemble import RandomForestClassifier\n",
        "\n",
        "from sklearn.model_selection import RandomizedSearchCV"
      ],
      "metadata": {
        "id": "0Go_9gI8v59Y"
      },
      "execution_count": 42,
      "outputs": []
    },
    {
      "cell_type": "code",
      "source": [
        "dfr = pd.read_csv(url)\n",
        "dfr1=dfr.drop(['children', 'region','sex'],axis=1)"
      ],
      "metadata": {
        "id": "D7OgCB2XM5Mm"
      },
      "execution_count": 43,
      "outputs": []
    },
    {
      "cell_type": "code",
      "source": [
        "m = dfr1['charges']\n",
        "\n",
        "n = dfr1.drop(['charges'], axis = 1)"
      ],
      "metadata": {
        "id": "Me1d-qOkM8TG"
      },
      "execution_count": 44,
      "outputs": []
    },
    {
      "cell_type": "code",
      "source": [
        "n_train, n_test, m_train, m_test = train_test_split (n, m, random_state = 101, test_size = 0.2)"
      ],
      "metadata": {
        "id": "akySZTJGM9VN"
      },
      "execution_count": 45,
      "outputs": []
    },
    {
      "cell_type": "code",
      "source": [
        "from sklearn.model_selection import RandomizedSearchCV\n",
        "\n",
        "from sklearn.ensemble import RandomForestRegressor\n",
        "\n",
        "model = RandomForestRegressor()\n",
        "\n",
        "param_vals = {'max_depth': [200,500], 'n_estimators': [100,200]}\n",
        "\n",
        "random_rf = RandomizedSearchCV(estimator=model, param_distributions=param_vals,\n",
        "\n",
        "n_iter=10, scoring='accuracy', refit=True, n_jobs=-1)"
      ],
      "metadata": {
        "id": "sNnmzrKHNrg9"
      },
      "execution_count": 46,
      "outputs": []
    },
    {
      "cell_type": "code",
      "source": [
        "random_rf.fit(n_train, m_train)\n",
        "\n",
        "preds = random_rf.best_estimator_.predict(n_test)"
      ],
      "metadata": {
        "colab": {
          "base_uri": "https://localhost:8080/"
        },
        "id": "MGxCj3LfNw8E",
        "outputId": "ca19cffd-8a57-4f99-ee82-f73d16c0322a"
      },
      "execution_count": 47,
      "outputs": [
        {
          "output_type": "stream",
          "name": "stderr",
          "text": [
            "/usr/local/lib/python3.7/dist-packages/sklearn/model_selection/_search.py:296: UserWarning: The total space of parameters 4 is smaller than n_iter=10. Running 4 iterations. For exhaustive searches, use GridSearchCV.\n",
            "  UserWarning,\n",
            "/usr/local/lib/python3.7/dist-packages/sklearn/model_selection/_search.py:972: UserWarning: One or more of the test scores are non-finite: [nan nan nan nan]\n",
            "  category=UserWarning,\n"
          ]
        }
      ]
    },
    {
      "cell_type": "code",
      "source": [
        "random_rf.best_params_"
      ],
      "metadata": {
        "colab": {
          "base_uri": "https://localhost:8080/"
        },
        "id": "wHLiU29NN1bg",
        "outputId": "8b65dc92-802c-4ad4-c037-47fa4e068cf2"
      },
      "execution_count": 48,
      "outputs": [
        {
          "output_type": "execute_result",
          "data": {
            "text/plain": [
              "{'max_depth': 200, 'n_estimators': 100}"
            ]
          },
          "metadata": {},
          "execution_count": 48
        }
      ]
    },
    {
      "cell_type": "markdown",
      "source": [
        "## **Questions related to model**\n",
        "\n",
        "**Q1.Is the relationship significant?**\n",
        "\n",
        "To prove significance of predictor variables with target variable, P value is used.  With a value of less than 0.05, the null hypothesis can be rejected. To summarize, if p value is less than 0.05, we can say that the predictor variable has significant effect on the target variable. To demonstrate this, ols regression is used through which, p value is calculated which depicts that Sex predictor variable has p values greater than 0.05 while all the other predictors have p values close to zero. Hence, it can be concluded that all the predictor variables, except for sex will affect the target variable.\n",
        "\n",
        "\n",
        "**Q2. Are any model assumptions violated?**\n",
        "\n",
        "The correlation heatmap asserts that there is low correlation between the predictor variables. Also, the residual analysis plot, plots the fitted values vs residuals on a test dataset which shows homoscedasticity. Additionally, from the Ols regression, the value of 2.08 for Durban - Watson score explains that there is no autocorrelation.\n",
        "\n",
        "\n",
        "**Q3. Is there any multicollinearity?**\n",
        "\n",
        "From the correlation matrix, it can be seen that all the independent variables have low collinearity as all the values are close to zero. \n",
        "\n",
        "**Q4. In the multivariate models are predictor variables independent of all the other predictor variables?**\n",
        "\n",
        "The correlation matrix asserts that none of the independent variables are correlated with each other. \n",
        "\n",
        "**Q5. In in multivariate models rank the most significant predictor variables and exclude insignificant ones from the model**\n",
        "\n",
        "From the OLS regression, the p values of zero for the predictors age, bmi, smoker,children, region states that  the variables are significant. However, the predictor sex has p value which infers they are insignificant.\n",
        "\n",
        "**Q6.Does the model make sense?**\n",
        "\n",
        "The leaderboard depicts that the metrics of the GBM model like mse, rmse and mean residual deviance is better than the other models from\n",
        "the leaderboard. Hence, the model makes sense.\n",
        "\n",
        "**Q7. Does regularization help?**\n",
        "\n",
        "The values of alpha(0.02 to 0.8) and lambda(0.001 to 1) were tuned through regularization. However, this degraded the performance of the model such as mse, rmse and deviance instead of improving it. Hence, regularization did not help.\n",
        "\n",
        "**Q8. Which independent variables are significant?**\n",
        "\n",
        "The p value less than 0.05 illustrates that the variable is not significant. From the OLS regression, the p values are close to zero for all the variables except for the independent variable sex. Hence, the variables _ are significant.\n",
        "\n",
        "**Q9. Which hyperparameters are important?**\n",
        "\n",
        "I used RandomizedSearchCV, which contains a few key hyperparameters like max depth and n_estimators.\n",
        "\n",
        "**max depth:** This specifies the tree's maximum depth. Deeper trees, on the whole, give superior accuracy, but they can also lead to overfitting. As a result, large depth is often reserved for bigger datasets.\n",
        "\n",
        "**n estimators:** The defines number of trees that needs to be calculated. The more the number of trees, the better will be  the performance, but the code becomes slower.\n",
        "\n"
      ],
      "metadata": {
        "id": "62jZ62F7Pke3"
      }
    },
    {
      "cell_type": "markdown",
      "source": [
        "# **Conclusion**\n",
        "\n",
        "With the exception of the predictor variable sex, all of the predictors had a substantial influence on insurance charges in the Medical Cost Personal Dataset, as shown by the methods used above. GLM, the best model chosen, outperformed the other models on the leaderboard, scoring higher on metrics like MSE, RMSE, and MAE. Furthermore, there is no autocorrelation and the correlation between the predictor variables is low. However, after modifying the hyperparameters, the MSE and RSME values did not improve, indicating that more research is needed to find the ideal hyperparameters."
      ],
      "metadata": {
        "id": "dkdrn5ygamK2"
      }
    },
    {
      "cell_type": "markdown",
      "source": [
        "# **References**\n",
        "\n",
        "* Dataset (https://www.kaggle.com/mirichoi0218/insurance)\n",
        "\n",
        "* Github(https://github.com/nikbearbrown/AI_Research_Group/blob/main/Kaggle_Datasets/AutoML/VAI_Churn_H2O_automl.ipynb)\n",
        "\n",
        "* H2O offical documentation (https://docs.h2o.ai/h2o/latest-stable/h2o-docs/welcome.html)\n",
        "\n",
        "* Visualization (https://seaborn.pydata.org/generated/seaborn.heatmap.html)\n",
        "\n",
        "* OLS (https://towardsdatascience.com/understanding-the-ols-method-for-simple-linear-regression-e0a4e8f692cc)\n",
        "\n",
        "* Regularization (https://www.nbshare.io/notebook/391169912/Lasso-and-Ridge-Linear-Regression-Regularization/)\n",
        "\n",
        "* Hyperparameter tuning (https://towardsdatascience.com/hyperparameter-tuning-in-python-21a76794a1f7)\n",
        "\n",
        "\n",
        "\n",
        "MIT License\n",
        "\n",
        "Copyright (c) 2022 Rituja Lolam\n",
        "\n",
        "Permission is hereby granted, free of charge, to any person obtaining a copy\n",
        "of this software and associated documentation files (the \"Software\"), to deal\n",
        "in the Software without restriction, including without limitation the rights\n",
        "to use, copy, modify, merge, publish, distribute, sublicense, and/or sell\n",
        "copies of the Software, and to permit persons to whom the Software is\n",
        "furnished to do so, subject to the following conditions:\n",
        "\n",
        "The above copyright notice and this permission notice shall be included in all\n",
        "copies or substantial portions of the Software.\n",
        "\n",
        "THE SOFTWARE IS PROVIDED \"AS IS\", WITHOUT WARRANTY OF ANY KIND, EXPRESS OR\n",
        "IMPLIED, INCLUDING BUT NOT LIMITED TO THE WARRANTIES OF MERCHANTABILITY,\n",
        "FITNESS FOR A PARTICULAR PURPOSE AND NONINFRINGEMENT. IN NO EVENT SHALL THE\n",
        "AUTHORS OR COPYRIGHT HOLDERS BE LIABLE FOR ANY CLAIM, DAMAGES OR OTHER\n",
        "LIABILITY, WHETHER IN AN ACTION OF CONTRACT, TORT OR OTHERWISE, ARISING FROM,\n",
        "OUT OF OR IN CONNECTION WITH THE SOFTWARE OR THE USE OR OTHER DEALINGS IN THE\n",
        "SOFTWARE."
      ],
      "metadata": {
        "id": "ykiktjrya4S8"
      }
    }
  ]
}