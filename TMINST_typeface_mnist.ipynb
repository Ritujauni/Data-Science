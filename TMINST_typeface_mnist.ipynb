{
  "metadata": {
    "kernelspec": {
      "language": "python",
      "display_name": "Python 3",
      "name": "python3"
    },
    "language_info": {
      "name": "python",
      "version": "3.7.12",
      "mimetype": "text/x-python",
      "codemirror_mode": {
        "name": "ipython",
        "version": 3
      },
      "pygments_lexer": "ipython3",
      "nbconvert_exporter": "python",
      "file_extension": ".py"
    },
    "colab": {
      "name": "TMINST_typeface-mnist.ipynb",
      "provenance": []
    }
  },
  "nbformat_minor": 0,
  "nbformat": 4,
  "cells": [
    {
      "cell_type": "markdown",
      "source": [
        "#**Data Science Engineering Methods and Tools**\n",
        "\n",
        "## **Assignment 5** – Neural Network Type Classification | TMNIST\n",
        "\n",
        "**Name** - Rituja Lolam\n",
        "\n",
        "**Nuid** - 002146428"
      ],
      "metadata": {
        "id": "dZbXgWXBrACk"
      }
    },
    {
      "cell_type": "markdown",
      "source": [
        "# **TMNIST (Typeface MNIST)**\n",
        "\n",
        "Abstract: The purpose of this notebook is to use a Neural Network technique to classify images from the TMNIST dataset. For this, I utilized a simple Convolutional Neural Network algorithm. \n",
        "\n",
        "TMNIST (Typeface based digits MNIST) is a dataset consisting of images representing digits from 0-9 produced using 2,990 google fonts.The dataset contains 299000 examples with labels and font names. The first column represents the name of the font, the second column represents the labels (from 0-9) and the remainining c784 columns represents the grey scale pixel values\n"
      ],
      "metadata": {
        "_uuid": "8f2839f25d086af736a60e9eeb907d3b93b6e0e5",
        "_cell_guid": "b1076dfc-b9ad-4769-8c92-a6c4dae69d19",
        "id": "9VLjSsOHqbW_"
      }
    },
    {
      "cell_type": "code",
      "source": [
        "# This Python 3 environment comes with many helpful analytics libraries installed\n",
        "# It is defined by the kaggle/python Docker image: https://github.com/kaggle/docker-python\n",
        "# For example, here's several helpful packages to load\n",
        "\n",
        "import numpy as np # linear algebra\n",
        "import pandas as pd # data processing, CSV file I/O (e.g. pd.read_csv)\n",
        "\n",
        "# Input data files are available in the read-only \"../input/\" directory\n",
        "# For example, running this (by clicking run or pressing Shift+Enter) will list all files under the input directory\n",
        "\n",
        "import os\n",
        "for dirname, _, filenames in os.walk('/kaggle/input'):\n",
        "    for filename in filenames:\n",
        "        print(os.path.join(dirname, filename))\n",
        "\n",
        "# You can write up to 20GB to the current directory (/kaggle/working/) that gets preserved as output when you create a version using \"Save & Run All\" \n",
        "# You can also write temporary files to /kaggle/temp/, but they won't be saved outside of the current session"
      ],
      "metadata": {
        "execution": {
          "iopub.status.busy": "2022-05-02T00:59:54.643040Z",
          "iopub.execute_input": "2022-05-02T00:59:54.643371Z",
          "iopub.status.idle": "2022-05-02T00:59:54.678703Z",
          "shell.execute_reply.started": "2022-05-02T00:59:54.643280Z",
          "shell.execute_reply": "2022-05-02T00:59:54.677861Z"
        },
        "trusted": true,
        "id": "HtejlUlwqbXF"
      },
      "execution_count": 1,
      "outputs": []
    },
    {
      "cell_type": "markdown",
      "source": [
        "# Importing libraries"
      ],
      "metadata": {
        "id": "xwT0OhBWqbXJ"
      }
    },
    {
      "cell_type": "code",
      "source": [
        "import numpy as np\n",
        "import pandas as pd\n",
        "import os\n",
        "import random\n",
        "import cv2\n",
        "\n",
        "from keras.models import Sequential\n",
        "from keras.layers import Dense\n",
        "from keras.layers import Dropout\n",
        "from keras.layers import Flatten\n",
        "from keras.callbacks import EarlyStopping\n",
        "from keras.layers.convolutional import Conv2D\n",
        "from keras.layers.convolutional import MaxPooling2D\n",
        "from keras.utils import np_utils\n",
        "\n",
        "from sklearn.preprocessing import LabelBinarizer\n",
        "from sklearn.model_selection import train_test_split\n",
        "from sklearn.metrics import accuracy_score\n",
        "import matplotlib.pyplot as plt\n",
        "import seaborn as sns"
      ],
      "metadata": {
        "execution": {
          "iopub.status.busy": "2022-05-02T01:02:22.783745Z",
          "iopub.execute_input": "2022-05-02T01:02:22.784073Z",
          "iopub.status.idle": "2022-05-02T01:02:31.308795Z",
          "shell.execute_reply.started": "2022-05-02T01:02:22.784031Z",
          "shell.execute_reply": "2022-05-02T01:02:31.307804Z"
        },
        "trusted": true,
        "id": "mdRO8yXmqbXL"
      },
      "execution_count": 2,
      "outputs": []
    },
    {
      "cell_type": "markdown",
      "source": [
        "# Loading the TMNIST Typeface data"
      ],
      "metadata": {
        "id": "NizDbMUXqbXN"
      }
    },
    {
      "cell_type": "code",
      "source": [
        "from google.colab import drive\n",
        "\n",
        "drive.mount('/content/drive')"
      ],
      "metadata": {
        "colab": {
          "base_uri": "https://localhost:8080/"
        },
        "id": "K2wreSCkql2B",
        "outputId": "d51101c3-09fe-4f7a-cfc3-921535061919"
      },
      "execution_count": 3,
      "outputs": [
        {
          "output_type": "stream",
          "name": "stdout",
          "text": [
            "Mounted at /content/drive\n"
          ]
        }
      ]
    },
    {
      "cell_type": "code",
      "source": [
        "url = '/content/drive/MyDrive/TMNIST_Data.csv'\n",
        "data = pd.read_csv(url)"
      ],
      "metadata": {
        "execution": {
          "iopub.status.busy": "2022-05-02T01:13:40.137541Z",
          "iopub.execute_input": "2022-05-02T01:13:40.138419Z",
          "iopub.status.idle": "2022-05-02T01:13:42.159131Z",
          "shell.execute_reply.started": "2022-05-02T01:13:40.138366Z",
          "shell.execute_reply": "2022-05-02T01:13:42.157922Z"
        },
        "trusted": true,
        "id": "LRybmBBfqbXO"
      },
      "execution_count": 4,
      "outputs": []
    },
    {
      "cell_type": "code",
      "source": [
        "data.head()"
      ],
      "metadata": {
        "execution": {
          "iopub.status.busy": "2022-05-02T01:13:45.049614Z",
          "iopub.execute_input": "2022-05-02T01:13:45.050171Z",
          "iopub.status.idle": "2022-05-02T01:13:45.069423Z",
          "shell.execute_reply.started": "2022-05-02T01:13:45.050126Z",
          "shell.execute_reply": "2022-05-02T01:13:45.068843Z"
        },
        "trusted": true,
        "colab": {
          "base_uri": "https://localhost:8080/",
          "height": 235
        },
        "id": "nyNDJKPMqbXP",
        "outputId": "687903f6-72b7-433c-e2e6-f544dc101097"
      },
      "execution_count": 5,
      "outputs": [
        {
          "output_type": "execute_result",
          "data": {
            "text/plain": [
              "                        names  labels  1  2  3  4  5  6  7  8  ...  775  776  \\\n",
              "0          GrandHotel-Regular       2  0  0  0  0  0  0  0  0  ...    0    0   \n",
              "1  EncodeSansCondensed-Medium       8  0  0  0  0  0  0  0  0  ...    0    0   \n",
              "2              Varela-Regular       4  0  0  0  0  0  0  0  0  ...    0    0   \n",
              "3              ArefRuqaa-Bold       3  0  0  0  0  0  0  0  0  ...    0    0   \n",
              "4           KulimPark-Regular       1  0  0  0  0  0  0  0  0  ...    0    0   \n",
              "\n",
              "   777  778  779  780  781  782  783  784  \n",
              "0    0    0    0    0    0    0    0    0  \n",
              "1    0    0    0    0    0    0    0    0  \n",
              "2    0    0    0    0    0    0    0    0  \n",
              "3    0    0    0    0    0    0    0    0  \n",
              "4    0    0    0    0    0    0    0    0  \n",
              "\n",
              "[5 rows x 786 columns]"
            ],
            "text/html": [
              "\n",
              "  <div id=\"df-bf411562-0720-42f3-b7b5-cbd463a768c6\">\n",
              "    <div class=\"colab-df-container\">\n",
              "      <div>\n",
              "<style scoped>\n",
              "    .dataframe tbody tr th:only-of-type {\n",
              "        vertical-align: middle;\n",
              "    }\n",
              "\n",
              "    .dataframe tbody tr th {\n",
              "        vertical-align: top;\n",
              "    }\n",
              "\n",
              "    .dataframe thead th {\n",
              "        text-align: right;\n",
              "    }\n",
              "</style>\n",
              "<table border=\"1\" class=\"dataframe\">\n",
              "  <thead>\n",
              "    <tr style=\"text-align: right;\">\n",
              "      <th></th>\n",
              "      <th>names</th>\n",
              "      <th>labels</th>\n",
              "      <th>1</th>\n",
              "      <th>2</th>\n",
              "      <th>3</th>\n",
              "      <th>4</th>\n",
              "      <th>5</th>\n",
              "      <th>6</th>\n",
              "      <th>7</th>\n",
              "      <th>8</th>\n",
              "      <th>...</th>\n",
              "      <th>775</th>\n",
              "      <th>776</th>\n",
              "      <th>777</th>\n",
              "      <th>778</th>\n",
              "      <th>779</th>\n",
              "      <th>780</th>\n",
              "      <th>781</th>\n",
              "      <th>782</th>\n",
              "      <th>783</th>\n",
              "      <th>784</th>\n",
              "    </tr>\n",
              "  </thead>\n",
              "  <tbody>\n",
              "    <tr>\n",
              "      <th>0</th>\n",
              "      <td>GrandHotel-Regular</td>\n",
              "      <td>2</td>\n",
              "      <td>0</td>\n",
              "      <td>0</td>\n",
              "      <td>0</td>\n",
              "      <td>0</td>\n",
              "      <td>0</td>\n",
              "      <td>0</td>\n",
              "      <td>0</td>\n",
              "      <td>0</td>\n",
              "      <td>...</td>\n",
              "      <td>0</td>\n",
              "      <td>0</td>\n",
              "      <td>0</td>\n",
              "      <td>0</td>\n",
              "      <td>0</td>\n",
              "      <td>0</td>\n",
              "      <td>0</td>\n",
              "      <td>0</td>\n",
              "      <td>0</td>\n",
              "      <td>0</td>\n",
              "    </tr>\n",
              "    <tr>\n",
              "      <th>1</th>\n",
              "      <td>EncodeSansCondensed-Medium</td>\n",
              "      <td>8</td>\n",
              "      <td>0</td>\n",
              "      <td>0</td>\n",
              "      <td>0</td>\n",
              "      <td>0</td>\n",
              "      <td>0</td>\n",
              "      <td>0</td>\n",
              "      <td>0</td>\n",
              "      <td>0</td>\n",
              "      <td>...</td>\n",
              "      <td>0</td>\n",
              "      <td>0</td>\n",
              "      <td>0</td>\n",
              "      <td>0</td>\n",
              "      <td>0</td>\n",
              "      <td>0</td>\n",
              "      <td>0</td>\n",
              "      <td>0</td>\n",
              "      <td>0</td>\n",
              "      <td>0</td>\n",
              "    </tr>\n",
              "    <tr>\n",
              "      <th>2</th>\n",
              "      <td>Varela-Regular</td>\n",
              "      <td>4</td>\n",
              "      <td>0</td>\n",
              "      <td>0</td>\n",
              "      <td>0</td>\n",
              "      <td>0</td>\n",
              "      <td>0</td>\n",
              "      <td>0</td>\n",
              "      <td>0</td>\n",
              "      <td>0</td>\n",
              "      <td>...</td>\n",
              "      <td>0</td>\n",
              "      <td>0</td>\n",
              "      <td>0</td>\n",
              "      <td>0</td>\n",
              "      <td>0</td>\n",
              "      <td>0</td>\n",
              "      <td>0</td>\n",
              "      <td>0</td>\n",
              "      <td>0</td>\n",
              "      <td>0</td>\n",
              "    </tr>\n",
              "    <tr>\n",
              "      <th>3</th>\n",
              "      <td>ArefRuqaa-Bold</td>\n",
              "      <td>3</td>\n",
              "      <td>0</td>\n",
              "      <td>0</td>\n",
              "      <td>0</td>\n",
              "      <td>0</td>\n",
              "      <td>0</td>\n",
              "      <td>0</td>\n",
              "      <td>0</td>\n",
              "      <td>0</td>\n",
              "      <td>...</td>\n",
              "      <td>0</td>\n",
              "      <td>0</td>\n",
              "      <td>0</td>\n",
              "      <td>0</td>\n",
              "      <td>0</td>\n",
              "      <td>0</td>\n",
              "      <td>0</td>\n",
              "      <td>0</td>\n",
              "      <td>0</td>\n",
              "      <td>0</td>\n",
              "    </tr>\n",
              "    <tr>\n",
              "      <th>4</th>\n",
              "      <td>KulimPark-Regular</td>\n",
              "      <td>1</td>\n",
              "      <td>0</td>\n",
              "      <td>0</td>\n",
              "      <td>0</td>\n",
              "      <td>0</td>\n",
              "      <td>0</td>\n",
              "      <td>0</td>\n",
              "      <td>0</td>\n",
              "      <td>0</td>\n",
              "      <td>...</td>\n",
              "      <td>0</td>\n",
              "      <td>0</td>\n",
              "      <td>0</td>\n",
              "      <td>0</td>\n",
              "      <td>0</td>\n",
              "      <td>0</td>\n",
              "      <td>0</td>\n",
              "      <td>0</td>\n",
              "      <td>0</td>\n",
              "      <td>0</td>\n",
              "    </tr>\n",
              "  </tbody>\n",
              "</table>\n",
              "<p>5 rows × 786 columns</p>\n",
              "</div>\n",
              "      <button class=\"colab-df-convert\" onclick=\"convertToInteractive('df-bf411562-0720-42f3-b7b5-cbd463a768c6')\"\n",
              "              title=\"Convert this dataframe to an interactive table.\"\n",
              "              style=\"display:none;\">\n",
              "        \n",
              "  <svg xmlns=\"http://www.w3.org/2000/svg\" height=\"24px\"viewBox=\"0 0 24 24\"\n",
              "       width=\"24px\">\n",
              "    <path d=\"M0 0h24v24H0V0z\" fill=\"none\"/>\n",
              "    <path d=\"M18.56 5.44l.94 2.06.94-2.06 2.06-.94-2.06-.94-.94-2.06-.94 2.06-2.06.94zm-11 1L8.5 8.5l.94-2.06 2.06-.94-2.06-.94L8.5 2.5l-.94 2.06-2.06.94zm10 10l.94 2.06.94-2.06 2.06-.94-2.06-.94-.94-2.06-.94 2.06-2.06.94z\"/><path d=\"M17.41 7.96l-1.37-1.37c-.4-.4-.92-.59-1.43-.59-.52 0-1.04.2-1.43.59L10.3 9.45l-7.72 7.72c-.78.78-.78 2.05 0 2.83L4 21.41c.39.39.9.59 1.41.59.51 0 1.02-.2 1.41-.59l7.78-7.78 2.81-2.81c.8-.78.8-2.07 0-2.86zM5.41 20L4 18.59l7.72-7.72 1.47 1.35L5.41 20z\"/>\n",
              "  </svg>\n",
              "      </button>\n",
              "      \n",
              "  <style>\n",
              "    .colab-df-container {\n",
              "      display:flex;\n",
              "      flex-wrap:wrap;\n",
              "      gap: 12px;\n",
              "    }\n",
              "\n",
              "    .colab-df-convert {\n",
              "      background-color: #E8F0FE;\n",
              "      border: none;\n",
              "      border-radius: 50%;\n",
              "      cursor: pointer;\n",
              "      display: none;\n",
              "      fill: #1967D2;\n",
              "      height: 32px;\n",
              "      padding: 0 0 0 0;\n",
              "      width: 32px;\n",
              "    }\n",
              "\n",
              "    .colab-df-convert:hover {\n",
              "      background-color: #E2EBFA;\n",
              "      box-shadow: 0px 1px 2px rgba(60, 64, 67, 0.3), 0px 1px 3px 1px rgba(60, 64, 67, 0.15);\n",
              "      fill: #174EA6;\n",
              "    }\n",
              "\n",
              "    [theme=dark] .colab-df-convert {\n",
              "      background-color: #3B4455;\n",
              "      fill: #D2E3FC;\n",
              "    }\n",
              "\n",
              "    [theme=dark] .colab-df-convert:hover {\n",
              "      background-color: #434B5C;\n",
              "      box-shadow: 0px 1px 3px 1px rgba(0, 0, 0, 0.15);\n",
              "      filter: drop-shadow(0px 1px 2px rgba(0, 0, 0, 0.3));\n",
              "      fill: #FFFFFF;\n",
              "    }\n",
              "  </style>\n",
              "\n",
              "      <script>\n",
              "        const buttonEl =\n",
              "          document.querySelector('#df-bf411562-0720-42f3-b7b5-cbd463a768c6 button.colab-df-convert');\n",
              "        buttonEl.style.display =\n",
              "          google.colab.kernel.accessAllowed ? 'block' : 'none';\n",
              "\n",
              "        async function convertToInteractive(key) {\n",
              "          const element = document.querySelector('#df-bf411562-0720-42f3-b7b5-cbd463a768c6');\n",
              "          const dataTable =\n",
              "            await google.colab.kernel.invokeFunction('convertToInteractive',\n",
              "                                                     [key], {});\n",
              "          if (!dataTable) return;\n",
              "\n",
              "          const docLinkHtml = 'Like what you see? Visit the ' +\n",
              "            '<a target=\"_blank\" href=https://colab.research.google.com/notebooks/data_table.ipynb>data table notebook</a>'\n",
              "            + ' to learn more about interactive tables.';\n",
              "          element.innerHTML = '';\n",
              "          dataTable['output_type'] = 'display_data';\n",
              "          await google.colab.output.renderOutput(dataTable, element);\n",
              "          const docLink = document.createElement('div');\n",
              "          docLink.innerHTML = docLinkHtml;\n",
              "          element.appendChild(docLink);\n",
              "        }\n",
              "      </script>\n",
              "    </div>\n",
              "  </div>\n",
              "  "
            ]
          },
          "metadata": {},
          "execution_count": 5
        }
      ]
    },
    {
      "cell_type": "markdown",
      "source": [
        "# Exploratory Data Analysis"
      ],
      "metadata": {
        "id": "dY2AhyAoqbXR"
      }
    },
    {
      "cell_type": "code",
      "source": [
        "# Shape of the Dataframe\n",
        "print(f\"The Shape of the Dataframe is: {data.shape}\")\n",
        "print(f\"Number of Samples: {data.shape[0]}\")"
      ],
      "metadata": {
        "execution": {
          "iopub.status.busy": "2022-05-02T01:14:37.295942Z",
          "iopub.execute_input": "2022-05-02T01:14:37.296463Z",
          "iopub.status.idle": "2022-05-02T01:14:37.301561Z",
          "shell.execute_reply.started": "2022-05-02T01:14:37.296430Z",
          "shell.execute_reply": "2022-05-02T01:14:37.300934Z"
        },
        "trusted": true,
        "colab": {
          "base_uri": "https://localhost:8080/"
        },
        "id": "Ue6N6hXtqbXS",
        "outputId": "25ed6176-3241-4a80-8eb9-7baa45d18fe2"
      },
      "execution_count": 6,
      "outputs": [
        {
          "output_type": "stream",
          "name": "stdout",
          "text": [
            "The Shape of the Dataframe is: (29900, 786)\n",
            "Number of Samples: 29900\n"
          ]
        }
      ]
    },
    {
      "cell_type": "code",
      "source": [
        "#Finding unique font names\n",
        "print(data['names'].unique())"
      ],
      "metadata": {
        "execution": {
          "iopub.status.busy": "2022-05-02T01:14:49.317548Z",
          "iopub.execute_input": "2022-05-02T01:14:49.318093Z",
          "iopub.status.idle": "2022-05-02T01:14:49.334378Z",
          "shell.execute_reply.started": "2022-05-02T01:14:49.318033Z",
          "shell.execute_reply": "2022-05-02T01:14:49.333318Z"
        },
        "trusted": true,
        "colab": {
          "base_uri": "https://localhost:8080/"
        },
        "id": "TwhYALCKqbXT",
        "outputId": "c62da291-7cca-4670-a4d8-3298363e97e9"
      },
      "execution_count": 7,
      "outputs": [
        {
          "output_type": "stream",
          "name": "stdout",
          "text": [
            "['GrandHotel-Regular' 'EncodeSansCondensed-Medium' 'Varela-Regular' ...\n",
            " 'CourierPrime-Italic' 'Bentham-Regular' 'AveriaSerifLibre-Ligh']\n"
          ]
        }
      ]
    },
    {
      "cell_type": "code",
      "source": [
        "#No. of unique font names\n",
        "print(f\"Number of unique font names:{data['names'].nunique()}\")"
      ],
      "metadata": {
        "execution": {
          "iopub.status.busy": "2022-05-02T01:15:27.841439Z",
          "iopub.execute_input": "2022-05-02T01:15:27.841961Z",
          "iopub.status.idle": "2022-05-02T01:15:27.852304Z",
          "shell.execute_reply.started": "2022-05-02T01:15:27.841902Z",
          "shell.execute_reply": "2022-05-02T01:15:27.851269Z"
        },
        "trusted": true,
        "colab": {
          "base_uri": "https://localhost:8080/"
        },
        "id": "RwTwsK13qbXV",
        "outputId": "c388d051-a948-4109-c015-e332358a99a4"
      },
      "execution_count": 8,
      "outputs": [
        {
          "output_type": "stream",
          "name": "stdout",
          "text": [
            "Number of unique font names:2990\n"
          ]
        }
      ]
    },
    {
      "cell_type": "code",
      "source": [
        "data['names'].value_counts()"
      ],
      "metadata": {
        "execution": {
          "iopub.status.busy": "2022-05-02T01:15:40.102393Z",
          "iopub.execute_input": "2022-05-02T01:15:40.103140Z",
          "iopub.status.idle": "2022-05-02T01:15:40.121902Z",
          "shell.execute_reply.started": "2022-05-02T01:15:40.103091Z",
          "shell.execute_reply": "2022-05-02T01:15:40.120994Z"
        },
        "trusted": true,
        "colab": {
          "base_uri": "https://localhost:8080/"
        },
        "id": "YDYm_OovqbXW",
        "outputId": "034ed22f-cabd-468a-c703-f7309caa194a"
      },
      "execution_count": 9,
      "outputs": [
        {
          "output_type": "execute_result",
          "data": {
            "text/plain": [
              "GrandHotel-Regular          10\n",
              "Laila-Regular               10\n",
              "Tajawal-Medium              10\n",
              "Numans-Regular              10\n",
              "PT_Sans-Web-Italic          10\n",
              "                            ..\n",
              "Thasadith-Bold              10\n",
              "CherryBomb-Regular          10\n",
              "NotoSansOriyaUI-Thin        10\n",
              "Kodchasan-SemiBoldItalic    10\n",
              "AveriaSerifLibre-Ligh       10\n",
              "Name: names, Length: 2990, dtype: int64"
            ]
          },
          "metadata": {},
          "execution_count": 9
        }
      ]
    },
    {
      "cell_type": "code",
      "source": [
        "data.describe()"
      ],
      "metadata": {
        "execution": {
          "iopub.status.busy": "2022-05-02T01:15:50.835330Z",
          "iopub.execute_input": "2022-05-02T01:15:50.835602Z",
          "iopub.status.idle": "2022-05-02T01:15:53.159760Z",
          "shell.execute_reply.started": "2022-05-02T01:15:50.835574Z",
          "shell.execute_reply": "2022-05-02T01:15:53.158701Z"
        },
        "trusted": true,
        "colab": {
          "base_uri": "https://localhost:8080/",
          "height": 393
        },
        "id": "8T2Q-9uqqbXX",
        "outputId": "64835261-be28-42e4-c1ad-4a7098b461cb"
      },
      "execution_count": 10,
      "outputs": [
        {
          "output_type": "execute_result",
          "data": {
            "text/plain": [
              "             labels        1        2        3        4        5        6  \\\n",
              "count  29900.000000  29900.0  29900.0  29900.0  29900.0  29900.0  29900.0   \n",
              "mean       4.500000      0.0      0.0      0.0      0.0      0.0      0.0   \n",
              "std        2.872329      0.0      0.0      0.0      0.0      0.0      0.0   \n",
              "min        0.000000      0.0      0.0      0.0      0.0      0.0      0.0   \n",
              "25%        2.000000      0.0      0.0      0.0      0.0      0.0      0.0   \n",
              "50%        4.500000      0.0      0.0      0.0      0.0      0.0      0.0   \n",
              "75%        7.000000      0.0      0.0      0.0      0.0      0.0      0.0   \n",
              "max        9.000000      0.0      0.0      0.0      0.0      0.0      0.0   \n",
              "\n",
              "             7        8        9  ...           775           776      777  \\\n",
              "count  29900.0  29900.0  29900.0  ...  29900.000000  29900.000000  29900.0   \n",
              "mean       0.0      0.0      0.0  ...      0.003445      0.000033      0.0   \n",
              "std        0.0      0.0      0.0  ...      0.493058      0.005783      0.0   \n",
              "min        0.0      0.0      0.0  ...      0.000000      0.000000      0.0   \n",
              "25%        0.0      0.0      0.0  ...      0.000000      0.000000      0.0   \n",
              "50%        0.0      0.0      0.0  ...      0.000000      0.000000      0.0   \n",
              "75%        0.0      0.0      0.0  ...      0.000000      0.000000      0.0   \n",
              "max        0.0      0.0      0.0  ...     84.000000      1.000000      0.0   \n",
              "\n",
              "           778      779      780      781      782      783      784  \n",
              "count  29900.0  29900.0  29900.0  29900.0  29900.0  29900.0  29900.0  \n",
              "mean       0.0      0.0      0.0      0.0      0.0      0.0      0.0  \n",
              "std        0.0      0.0      0.0      0.0      0.0      0.0      0.0  \n",
              "min        0.0      0.0      0.0      0.0      0.0      0.0      0.0  \n",
              "25%        0.0      0.0      0.0      0.0      0.0      0.0      0.0  \n",
              "50%        0.0      0.0      0.0      0.0      0.0      0.0      0.0  \n",
              "75%        0.0      0.0      0.0      0.0      0.0      0.0      0.0  \n",
              "max        0.0      0.0      0.0      0.0      0.0      0.0      0.0  \n",
              "\n",
              "[8 rows x 785 columns]"
            ],
            "text/html": [
              "\n",
              "  <div id=\"df-515bb1df-a896-4b6b-bb94-17dd988f3389\">\n",
              "    <div class=\"colab-df-container\">\n",
              "      <div>\n",
              "<style scoped>\n",
              "    .dataframe tbody tr th:only-of-type {\n",
              "        vertical-align: middle;\n",
              "    }\n",
              "\n",
              "    .dataframe tbody tr th {\n",
              "        vertical-align: top;\n",
              "    }\n",
              "\n",
              "    .dataframe thead th {\n",
              "        text-align: right;\n",
              "    }\n",
              "</style>\n",
              "<table border=\"1\" class=\"dataframe\">\n",
              "  <thead>\n",
              "    <tr style=\"text-align: right;\">\n",
              "      <th></th>\n",
              "      <th>labels</th>\n",
              "      <th>1</th>\n",
              "      <th>2</th>\n",
              "      <th>3</th>\n",
              "      <th>4</th>\n",
              "      <th>5</th>\n",
              "      <th>6</th>\n",
              "      <th>7</th>\n",
              "      <th>8</th>\n",
              "      <th>9</th>\n",
              "      <th>...</th>\n",
              "      <th>775</th>\n",
              "      <th>776</th>\n",
              "      <th>777</th>\n",
              "      <th>778</th>\n",
              "      <th>779</th>\n",
              "      <th>780</th>\n",
              "      <th>781</th>\n",
              "      <th>782</th>\n",
              "      <th>783</th>\n",
              "      <th>784</th>\n",
              "    </tr>\n",
              "  </thead>\n",
              "  <tbody>\n",
              "    <tr>\n",
              "      <th>count</th>\n",
              "      <td>29900.000000</td>\n",
              "      <td>29900.0</td>\n",
              "      <td>29900.0</td>\n",
              "      <td>29900.0</td>\n",
              "      <td>29900.0</td>\n",
              "      <td>29900.0</td>\n",
              "      <td>29900.0</td>\n",
              "      <td>29900.0</td>\n",
              "      <td>29900.0</td>\n",
              "      <td>29900.0</td>\n",
              "      <td>...</td>\n",
              "      <td>29900.000000</td>\n",
              "      <td>29900.000000</td>\n",
              "      <td>29900.0</td>\n",
              "      <td>29900.0</td>\n",
              "      <td>29900.0</td>\n",
              "      <td>29900.0</td>\n",
              "      <td>29900.0</td>\n",
              "      <td>29900.0</td>\n",
              "      <td>29900.0</td>\n",
              "      <td>29900.0</td>\n",
              "    </tr>\n",
              "    <tr>\n",
              "      <th>mean</th>\n",
              "      <td>4.500000</td>\n",
              "      <td>0.0</td>\n",
              "      <td>0.0</td>\n",
              "      <td>0.0</td>\n",
              "      <td>0.0</td>\n",
              "      <td>0.0</td>\n",
              "      <td>0.0</td>\n",
              "      <td>0.0</td>\n",
              "      <td>0.0</td>\n",
              "      <td>0.0</td>\n",
              "      <td>...</td>\n",
              "      <td>0.003445</td>\n",
              "      <td>0.000033</td>\n",
              "      <td>0.0</td>\n",
              "      <td>0.0</td>\n",
              "      <td>0.0</td>\n",
              "      <td>0.0</td>\n",
              "      <td>0.0</td>\n",
              "      <td>0.0</td>\n",
              "      <td>0.0</td>\n",
              "      <td>0.0</td>\n",
              "    </tr>\n",
              "    <tr>\n",
              "      <th>std</th>\n",
              "      <td>2.872329</td>\n",
              "      <td>0.0</td>\n",
              "      <td>0.0</td>\n",
              "      <td>0.0</td>\n",
              "      <td>0.0</td>\n",
              "      <td>0.0</td>\n",
              "      <td>0.0</td>\n",
              "      <td>0.0</td>\n",
              "      <td>0.0</td>\n",
              "      <td>0.0</td>\n",
              "      <td>...</td>\n",
              "      <td>0.493058</td>\n",
              "      <td>0.005783</td>\n",
              "      <td>0.0</td>\n",
              "      <td>0.0</td>\n",
              "      <td>0.0</td>\n",
              "      <td>0.0</td>\n",
              "      <td>0.0</td>\n",
              "      <td>0.0</td>\n",
              "      <td>0.0</td>\n",
              "      <td>0.0</td>\n",
              "    </tr>\n",
              "    <tr>\n",
              "      <th>min</th>\n",
              "      <td>0.000000</td>\n",
              "      <td>0.0</td>\n",
              "      <td>0.0</td>\n",
              "      <td>0.0</td>\n",
              "      <td>0.0</td>\n",
              "      <td>0.0</td>\n",
              "      <td>0.0</td>\n",
              "      <td>0.0</td>\n",
              "      <td>0.0</td>\n",
              "      <td>0.0</td>\n",
              "      <td>...</td>\n",
              "      <td>0.000000</td>\n",
              "      <td>0.000000</td>\n",
              "      <td>0.0</td>\n",
              "      <td>0.0</td>\n",
              "      <td>0.0</td>\n",
              "      <td>0.0</td>\n",
              "      <td>0.0</td>\n",
              "      <td>0.0</td>\n",
              "      <td>0.0</td>\n",
              "      <td>0.0</td>\n",
              "    </tr>\n",
              "    <tr>\n",
              "      <th>25%</th>\n",
              "      <td>2.000000</td>\n",
              "      <td>0.0</td>\n",
              "      <td>0.0</td>\n",
              "      <td>0.0</td>\n",
              "      <td>0.0</td>\n",
              "      <td>0.0</td>\n",
              "      <td>0.0</td>\n",
              "      <td>0.0</td>\n",
              "      <td>0.0</td>\n",
              "      <td>0.0</td>\n",
              "      <td>...</td>\n",
              "      <td>0.000000</td>\n",
              "      <td>0.000000</td>\n",
              "      <td>0.0</td>\n",
              "      <td>0.0</td>\n",
              "      <td>0.0</td>\n",
              "      <td>0.0</td>\n",
              "      <td>0.0</td>\n",
              "      <td>0.0</td>\n",
              "      <td>0.0</td>\n",
              "      <td>0.0</td>\n",
              "    </tr>\n",
              "    <tr>\n",
              "      <th>50%</th>\n",
              "      <td>4.500000</td>\n",
              "      <td>0.0</td>\n",
              "      <td>0.0</td>\n",
              "      <td>0.0</td>\n",
              "      <td>0.0</td>\n",
              "      <td>0.0</td>\n",
              "      <td>0.0</td>\n",
              "      <td>0.0</td>\n",
              "      <td>0.0</td>\n",
              "      <td>0.0</td>\n",
              "      <td>...</td>\n",
              "      <td>0.000000</td>\n",
              "      <td>0.000000</td>\n",
              "      <td>0.0</td>\n",
              "      <td>0.0</td>\n",
              "      <td>0.0</td>\n",
              "      <td>0.0</td>\n",
              "      <td>0.0</td>\n",
              "      <td>0.0</td>\n",
              "      <td>0.0</td>\n",
              "      <td>0.0</td>\n",
              "    </tr>\n",
              "    <tr>\n",
              "      <th>75%</th>\n",
              "      <td>7.000000</td>\n",
              "      <td>0.0</td>\n",
              "      <td>0.0</td>\n",
              "      <td>0.0</td>\n",
              "      <td>0.0</td>\n",
              "      <td>0.0</td>\n",
              "      <td>0.0</td>\n",
              "      <td>0.0</td>\n",
              "      <td>0.0</td>\n",
              "      <td>0.0</td>\n",
              "      <td>...</td>\n",
              "      <td>0.000000</td>\n",
              "      <td>0.000000</td>\n",
              "      <td>0.0</td>\n",
              "      <td>0.0</td>\n",
              "      <td>0.0</td>\n",
              "      <td>0.0</td>\n",
              "      <td>0.0</td>\n",
              "      <td>0.0</td>\n",
              "      <td>0.0</td>\n",
              "      <td>0.0</td>\n",
              "    </tr>\n",
              "    <tr>\n",
              "      <th>max</th>\n",
              "      <td>9.000000</td>\n",
              "      <td>0.0</td>\n",
              "      <td>0.0</td>\n",
              "      <td>0.0</td>\n",
              "      <td>0.0</td>\n",
              "      <td>0.0</td>\n",
              "      <td>0.0</td>\n",
              "      <td>0.0</td>\n",
              "      <td>0.0</td>\n",
              "      <td>0.0</td>\n",
              "      <td>...</td>\n",
              "      <td>84.000000</td>\n",
              "      <td>1.000000</td>\n",
              "      <td>0.0</td>\n",
              "      <td>0.0</td>\n",
              "      <td>0.0</td>\n",
              "      <td>0.0</td>\n",
              "      <td>0.0</td>\n",
              "      <td>0.0</td>\n",
              "      <td>0.0</td>\n",
              "      <td>0.0</td>\n",
              "    </tr>\n",
              "  </tbody>\n",
              "</table>\n",
              "<p>8 rows × 785 columns</p>\n",
              "</div>\n",
              "      <button class=\"colab-df-convert\" onclick=\"convertToInteractive('df-515bb1df-a896-4b6b-bb94-17dd988f3389')\"\n",
              "              title=\"Convert this dataframe to an interactive table.\"\n",
              "              style=\"display:none;\">\n",
              "        \n",
              "  <svg xmlns=\"http://www.w3.org/2000/svg\" height=\"24px\"viewBox=\"0 0 24 24\"\n",
              "       width=\"24px\">\n",
              "    <path d=\"M0 0h24v24H0V0z\" fill=\"none\"/>\n",
              "    <path d=\"M18.56 5.44l.94 2.06.94-2.06 2.06-.94-2.06-.94-.94-2.06-.94 2.06-2.06.94zm-11 1L8.5 8.5l.94-2.06 2.06-.94-2.06-.94L8.5 2.5l-.94 2.06-2.06.94zm10 10l.94 2.06.94-2.06 2.06-.94-2.06-.94-.94-2.06-.94 2.06-2.06.94z\"/><path d=\"M17.41 7.96l-1.37-1.37c-.4-.4-.92-.59-1.43-.59-.52 0-1.04.2-1.43.59L10.3 9.45l-7.72 7.72c-.78.78-.78 2.05 0 2.83L4 21.41c.39.39.9.59 1.41.59.51 0 1.02-.2 1.41-.59l7.78-7.78 2.81-2.81c.8-.78.8-2.07 0-2.86zM5.41 20L4 18.59l7.72-7.72 1.47 1.35L5.41 20z\"/>\n",
              "  </svg>\n",
              "      </button>\n",
              "      \n",
              "  <style>\n",
              "    .colab-df-container {\n",
              "      display:flex;\n",
              "      flex-wrap:wrap;\n",
              "      gap: 12px;\n",
              "    }\n",
              "\n",
              "    .colab-df-convert {\n",
              "      background-color: #E8F0FE;\n",
              "      border: none;\n",
              "      border-radius: 50%;\n",
              "      cursor: pointer;\n",
              "      display: none;\n",
              "      fill: #1967D2;\n",
              "      height: 32px;\n",
              "      padding: 0 0 0 0;\n",
              "      width: 32px;\n",
              "    }\n",
              "\n",
              "    .colab-df-convert:hover {\n",
              "      background-color: #E2EBFA;\n",
              "      box-shadow: 0px 1px 2px rgba(60, 64, 67, 0.3), 0px 1px 3px 1px rgba(60, 64, 67, 0.15);\n",
              "      fill: #174EA6;\n",
              "    }\n",
              "\n",
              "    [theme=dark] .colab-df-convert {\n",
              "      background-color: #3B4455;\n",
              "      fill: #D2E3FC;\n",
              "    }\n",
              "\n",
              "    [theme=dark] .colab-df-convert:hover {\n",
              "      background-color: #434B5C;\n",
              "      box-shadow: 0px 1px 3px 1px rgba(0, 0, 0, 0.15);\n",
              "      filter: drop-shadow(0px 1px 2px rgba(0, 0, 0, 0.3));\n",
              "      fill: #FFFFFF;\n",
              "    }\n",
              "  </style>\n",
              "\n",
              "      <script>\n",
              "        const buttonEl =\n",
              "          document.querySelector('#df-515bb1df-a896-4b6b-bb94-17dd988f3389 button.colab-df-convert');\n",
              "        buttonEl.style.display =\n",
              "          google.colab.kernel.accessAllowed ? 'block' : 'none';\n",
              "\n",
              "        async function convertToInteractive(key) {\n",
              "          const element = document.querySelector('#df-515bb1df-a896-4b6b-bb94-17dd988f3389');\n",
              "          const dataTable =\n",
              "            await google.colab.kernel.invokeFunction('convertToInteractive',\n",
              "                                                     [key], {});\n",
              "          if (!dataTable) return;\n",
              "\n",
              "          const docLinkHtml = 'Like what you see? Visit the ' +\n",
              "            '<a target=\"_blank\" href=https://colab.research.google.com/notebooks/data_table.ipynb>data table notebook</a>'\n",
              "            + ' to learn more about interactive tables.';\n",
              "          element.innerHTML = '';\n",
              "          dataTable['output_type'] = 'display_data';\n",
              "          await google.colab.output.renderOutput(dataTable, element);\n",
              "          const docLink = document.createElement('div');\n",
              "          docLink.innerHTML = docLinkHtml;\n",
              "          element.appendChild(docLink);\n",
              "        }\n",
              "      </script>\n",
              "    </div>\n",
              "  </div>\n",
              "  "
            ]
          },
          "metadata": {},
          "execution_count": 10
        }
      ]
    },
    {
      "cell_type": "code",
      "source": [
        "N=list(range(len(data)))\n",
        "n=len(data)\n",
        "print(n)\n",
        "random.seed(2021)\n",
        "random.shuffle(N)"
      ],
      "metadata": {
        "execution": {
          "iopub.status.busy": "2022-05-02T01:16:08.143978Z",
          "iopub.execute_input": "2022-05-02T01:16:08.144278Z",
          "iopub.status.idle": "2022-05-02T01:16:08.185135Z",
          "shell.execute_reply.started": "2022-05-02T01:16:08.144248Z",
          "shell.execute_reply": "2022-05-02T01:16:08.184234Z"
        },
        "trusted": true,
        "colab": {
          "base_uri": "https://localhost:8080/"
        },
        "id": "dkkbCyfGqbXY",
        "outputId": "baf9dd8d-6491-4148-d2c0-2337e28e0257"
      },
      "execution_count": 11,
      "outputs": [
        {
          "output_type": "stream",
          "name": "stdout",
          "text": [
            "29900\n"
          ]
        }
      ]
    },
    {
      "cell_type": "code",
      "source": [
        "trainY=data.loc[N[0:(n//4)*3],'labels']\n",
        "testY=data.loc[N[(n//4)*3:],'labels']\n",
        "data1=data.drop(['names','labels'],axis=1)\n",
        "trainX=data1.loc[N[0:(n//4)*3]]\n",
        "testX=data1.loc[N[(n//4)*3:]]"
      ],
      "metadata": {
        "execution": {
          "iopub.status.busy": "2022-05-02T01:16:20.745668Z",
          "iopub.execute_input": "2022-05-02T01:16:20.746522Z",
          "iopub.status.idle": "2022-05-02T01:16:21.037928Z",
          "shell.execute_reply.started": "2022-05-02T01:16:20.746480Z",
          "shell.execute_reply": "2022-05-02T01:16:21.036792Z"
        },
        "trusted": true,
        "id": "uVw7HDkLqbXZ"
      },
      "execution_count": 12,
      "outputs": []
    },
    {
      "cell_type": "code",
      "source": [
        "binencoder = LabelBinarizer()\n",
        "y0 = trainY\n",
        "y = binencoder.fit_transform(y0)\n",
        "y"
      ],
      "metadata": {
        "execution": {
          "iopub.status.busy": "2022-05-02T01:16:29.875167Z",
          "iopub.execute_input": "2022-05-02T01:16:29.875782Z",
          "iopub.status.idle": "2022-05-02T01:16:29.889128Z",
          "shell.execute_reply.started": "2022-05-02T01:16:29.875733Z",
          "shell.execute_reply": "2022-05-02T01:16:29.888295Z"
        },
        "trusted": true,
        "colab": {
          "base_uri": "https://localhost:8080/"
        },
        "id": "hi7AcrFcqbXa",
        "outputId": "7f685393-18a3-4a02-dbc4-73174b9d1f39"
      },
      "execution_count": 13,
      "outputs": [
        {
          "output_type": "execute_result",
          "data": {
            "text/plain": [
              "array([[1, 0, 0, ..., 0, 0, 0],\n",
              "       [0, 0, 0, ..., 0, 0, 0],\n",
              "       [0, 0, 0, ..., 0, 0, 0],\n",
              "       ...,\n",
              "       [0, 0, 0, ..., 0, 0, 0],\n",
              "       [0, 0, 1, ..., 0, 0, 0],\n",
              "       [0, 0, 0, ..., 0, 0, 0]])"
            ]
          },
          "metadata": {},
          "execution_count": 13
        }
      ]
    },
    {
      "cell_type": "code",
      "source": [
        "X_images = trainX.values.reshape(-1,28,28)\n",
        "test_images = testX.values.reshape(-1,28,28)\n",
        "\n",
        "print(X_images.shape)\n",
        "print(test_images.shape)"
      ],
      "metadata": {
        "execution": {
          "iopub.status.busy": "2022-05-02T01:17:40.151689Z",
          "iopub.execute_input": "2022-05-02T01:17:40.151983Z",
          "iopub.status.idle": "2022-05-02T01:17:40.159792Z",
          "shell.execute_reply.started": "2022-05-02T01:17:40.151954Z",
          "shell.execute_reply": "2022-05-02T01:17:40.158526Z"
        },
        "trusted": true,
        "colab": {
          "base_uri": "https://localhost:8080/"
        },
        "id": "rTH7h_SjqbXb",
        "outputId": "7cf601fa-8a08-4241-82d1-c7241fab0e6b"
      },
      "execution_count": 14,
      "outputs": [
        {
          "output_type": "stream",
          "name": "stdout",
          "text": [
            "(22425, 28, 28)\n",
            "(7475, 28, 28)\n"
          ]
        }
      ]
    },
    {
      "cell_type": "markdown",
      "source": [
        "# Plotting random samples from data"
      ],
      "metadata": {
        "id": "slAGliT3qbXc"
      }
    },
    {
      "cell_type": "code",
      "source": [
        "fig,axs = plt.subplots(4,4,figsize=(12,12))\n",
        "for i in range(16):\n",
        "    r=i//4\n",
        "    c=i%4\n",
        "    axs[r][c].set_xticks([])\n",
        "    axs[r][c].set_yticks([])\n",
        "    axs[r][c].imshow(X_images[i])\n",
        "plt.show()"
      ],
      "metadata": {
        "execution": {
          "iopub.status.busy": "2022-05-02T01:17:43.968286Z",
          "iopub.execute_input": "2022-05-02T01:17:43.968990Z",
          "iopub.status.idle": "2022-05-02T01:17:44.544567Z",
          "shell.execute_reply.started": "2022-05-02T01:17:43.968944Z",
          "shell.execute_reply": "2022-05-02T01:17:44.543767Z"
        },
        "trusted": true,
        "colab": {
          "base_uri": "https://localhost:8080/",
          "height": 687
        },
        "id": "60ymbMXgqbXd",
        "outputId": "8a3dfe50-360a-4fa7-e18c-ac1e4d47b97a"
      },
      "execution_count": 15,
      "outputs": [
        {
          "output_type": "display_data",
          "data": {
            "text/plain": [
              "<Figure size 864x864 with 16 Axes>"
            ],
            "image/png": "[encoded data removed]"
          },
          "metadata": {}
        }
      ]
    },
    {
      "cell_type": "markdown",
      "source": [
        "# Splitting the data into train and test set\n",
        "Split the data into 80% train and 20% test data sets\n",
        "\n"
      ],
      "metadata": {
        "id": "2NyiQkQaqbXe"
      }
    },
    {
      "cell_type": "code",
      "source": [
        "X_train, X_test, y_train, y_test = train_test_split(X_images, y, test_size = 0.2, random_state=90)"
      ],
      "metadata": {
        "execution": {
          "iopub.status.busy": "2022-05-02T01:19:29.661227Z",
          "iopub.execute_input": "2022-05-02T01:19:29.661539Z",
          "iopub.status.idle": "2022-05-02T01:19:29.917504Z",
          "shell.execute_reply.started": "2022-05-02T01:19:29.661504Z",
          "shell.execute_reply": "2022-05-02T01:19:29.916536Z"
        },
        "trusted": true,
        "id": "vMZ_y3UYqbXf"
      },
      "execution_count": 16,
      "outputs": []
    },
    {
      "cell_type": "code",
      "source": [
        "#Checking the counts of train and test data\n",
        "print(f\"X train Shape data:{X_train.shape}\")\n",
        "print(f\"X test Shape data:{X_test.shape}\")\n",
        "print(f\"Y train Shape data:{y_train.shape}\")\n",
        "print(f\"Y test Shape data:{y_test.shape}\")"
      ],
      "metadata": {
        "execution": {
          "iopub.status.busy": "2022-05-02T01:19:40.441068Z",
          "iopub.execute_input": "2022-05-02T01:19:40.441364Z",
          "iopub.status.idle": "2022-05-02T01:19:40.447909Z",
          "shell.execute_reply.started": "2022-05-02T01:19:40.441332Z",
          "shell.execute_reply": "2022-05-02T01:19:40.446756Z"
        },
        "trusted": true,
        "colab": {
          "base_uri": "https://localhost:8080/"
        },
        "id": "LtgUPJxCqbXf",
        "outputId": "45657f46-96e4-4f08-87d4-9e7dea944185"
      },
      "execution_count": 17,
      "outputs": [
        {
          "output_type": "stream",
          "name": "stdout",
          "text": [
            "X train Shape data:(17940, 28, 28)\n",
            "X test Shape data:(4485, 28, 28)\n",
            "Y train Shape data:(17940, 10)\n",
            "Y test Shape data:(4485, 10)\n"
          ]
        }
      ]
    },
    {
      "cell_type": "markdown",
      "source": [
        "# Normalizing the data\n",
        "The pixel values range from 0 to 256 , So dividing all the values by 255 will convert it to range from 0 to 1"
      ],
      "metadata": {
        "id": "R6wsnHNTqbXg"
      }
    },
    {
      "cell_type": "code",
      "source": [
        "X_train = X_train/255\n",
        "X_test = X_test/255\n",
        "print(f'Train, Test shapes: {X_train.shape},{X_test.shape}')"
      ],
      "metadata": {
        "execution": {
          "iopub.status.busy": "2022-05-02T01:23:27.703271Z",
          "iopub.execute_input": "2022-05-02T01:23:27.703584Z",
          "iopub.status.idle": "2022-05-02T01:23:27.768913Z",
          "shell.execute_reply.started": "2022-05-02T01:23:27.703550Z",
          "shell.execute_reply": "2022-05-02T01:23:27.768219Z"
        },
        "trusted": true,
        "colab": {
          "base_uri": "https://localhost:8080/"
        },
        "id": "PzhgEjzxqbXh",
        "outputId": "2b248a64-0080-42b1-cebd-aef448d93a6f"
      },
      "execution_count": 18,
      "outputs": [
        {
          "output_type": "stream",
          "name": "stdout",
          "text": [
            "Train, Test shapes: (17940, 28, 28),(4485, 28, 28)\n"
          ]
        }
      ]
    },
    {
      "cell_type": "code",
      "source": [
        "X_train = (X_train).reshape(-1,28,28,1).astype('float32')\n",
        "X_test = (X_test).reshape(-1,28,28,1).astype('float32')"
      ],
      "metadata": {
        "execution": {
          "iopub.status.busy": "2022-05-02T01:23:41.818322Z",
          "iopub.execute_input": "2022-05-02T01:23:41.818764Z",
          "iopub.status.idle": "2022-05-02T01:23:41.853968Z",
          "shell.execute_reply.started": "2022-05-02T01:23:41.818732Z",
          "shell.execute_reply": "2022-05-02T01:23:41.853211Z"
        },
        "trusted": true,
        "id": "OORLZBRWqbXh"
      },
      "execution_count": 19,
      "outputs": []
    },
    {
      "cell_type": "code",
      "source": [
        "test_images = (test_images/255).reshape(-1,28,28,1).astype('float32')"
      ],
      "metadata": {
        "execution": {
          "iopub.status.busy": "2022-05-02T01:23:53.141883Z",
          "iopub.execute_input": "2022-05-02T01:23:53.142300Z",
          "iopub.status.idle": "2022-05-02T01:23:53.174726Z",
          "shell.execute_reply.started": "2022-05-02T01:23:53.142270Z",
          "shell.execute_reply": "2022-05-02T01:23:53.173760Z"
        },
        "trusted": true,
        "id": "jfMYyLg8qbXi"
      },
      "execution_count": 20,
      "outputs": []
    },
    {
      "cell_type": "markdown",
      "source": [
        "# Building the CNN model"
      ],
      "metadata": {
        "id": "vfTxPG2IqbXi"
      }
    },
    {
      "cell_type": "code",
      "source": [
        "# Convolutional layers with Maxpool and Dropout \n",
        "model = Sequential()\n",
        "model.add(Conv2D(32,(4,4),input_shape = (28,28,1),activation = 'relu'))\n",
        "model.add(MaxPooling2D(pool_size=(2,2)))\n",
        "model.add(Conv2D(64,(3,3),activation = 'relu'))\n",
        "model.add(MaxPooling2D(pool_size=(2,2)))\n",
        "model.add(Dropout(0.2))\n",
        "model.add(Flatten())\n",
        "model.add(Dense(128,activation='relu'))\n",
        "model.add(Dense(50, activation='relu'))\n",
        "model.add(Dense(10, activation='softmax'))\n",
        "model.compile(loss='categorical_crossentropy', optimizer='adam',metrics=['accuracy'])"
      ],
      "metadata": {
        "execution": {
          "iopub.status.busy": "2022-05-02T01:24:25.599106Z",
          "iopub.execute_input": "2022-05-02T01:24:25.599383Z",
          "iopub.status.idle": "2022-05-02T01:24:25.785322Z",
          "shell.execute_reply.started": "2022-05-02T01:24:25.599354Z",
          "shell.execute_reply": "2022-05-02T01:24:25.784226Z"
        },
        "trusted": true,
        "id": "4pwb5XAEqbXj"
      },
      "execution_count": 21,
      "outputs": []
    },
    {
      "cell_type": "code",
      "source": [
        "model.summary()"
      ],
      "metadata": {
        "execution": {
          "iopub.status.busy": "2022-05-02T01:24:49.466217Z",
          "iopub.execute_input": "2022-05-02T01:24:49.466768Z",
          "iopub.status.idle": "2022-05-02T01:24:49.478294Z",
          "shell.execute_reply.started": "2022-05-02T01:24:49.466701Z",
          "shell.execute_reply": "2022-05-02T01:24:49.477322Z"
        },
        "trusted": true,
        "colab": {
          "base_uri": "https://localhost:8080/"
        },
        "id": "COZxuRBEqbXk",
        "outputId": "d500ae5e-283f-4b24-f647-bf4665a1b34c"
      },
      "execution_count": 22,
      "outputs": [
        {
          "output_type": "stream",
          "name": "stdout",
          "text": [
            "Model: \"sequential\"\n",
            "_________________________________________________________________\n",
            " Layer (type)                Output Shape              Param #   \n",
            "=================================================================\n",
            " conv2d (Conv2D)             (None, 25, 25, 32)        544       \n",
            "                                                                 \n",
            " max_pooling2d (MaxPooling2D  (None, 12, 12, 32)       0         \n",
            " )                                                               \n",
            "                                                                 \n",
            " conv2d_1 (Conv2D)           (None, 10, 10, 64)        18496     \n",
            "                                                                 \n",
            " max_pooling2d_1 (MaxPooling  (None, 5, 5, 64)         0         \n",
            " 2D)                                                             \n",
            "                                                                 \n",
            " dropout (Dropout)           (None, 5, 5, 64)          0         \n",
            "                                                                 \n",
            " flatten (Flatten)           (None, 1600)              0         \n",
            "                                                                 \n",
            " dense (Dense)               (None, 128)               204928    \n",
            "                                                                 \n",
            " dense_1 (Dense)             (None, 50)                6450      \n",
            "                                                                 \n",
            " dense_2 (Dense)             (None, 10)                510       \n",
            "                                                                 \n",
            "=================================================================\n",
            "Total params: 230,928\n",
            "Trainable params: 230,928\n",
            "Non-trainable params: 0\n",
            "_________________________________________________________________\n"
          ]
        }
      ]
    },
    {
      "cell_type": "code",
      "source": [
        "result = model.fit(X_train, y_train, validation_split=0.2, epochs=20, batch_size=92, verbose=2)\n",
        "result"
      ],
      "metadata": {
        "execution": {
          "iopub.status.busy": "2022-05-02T01:25:01.146051Z",
          "iopub.execute_input": "2022-05-02T01:25:01.146355Z",
          "iopub.status.idle": "2022-05-02T01:26:23.055603Z",
          "shell.execute_reply.started": "2022-05-02T01:25:01.146322Z",
          "shell.execute_reply": "2022-05-02T01:26:23.054756Z"
        },
        "trusted": true,
        "colab": {
          "base_uri": "https://localhost:8080/"
        },
        "id": "u5HWs-n5qbXk",
        "outputId": "701e7b2b-1add-4e40-fe38-8442bd1e6458"
      },
      "execution_count": 23,
      "outputs": [
        {
          "output_type": "stream",
          "name": "stdout",
          "text": [
            "Epoch 1/20\n",
            "156/156 - 12s - loss: 0.3736 - accuracy: 0.8974 - val_loss: 0.0926 - val_accuracy: 0.9749 - 12s/epoch - 77ms/step\n",
            "Epoch 2/20\n",
            "156/156 - 11s - loss: 0.0754 - accuracy: 0.9793 - val_loss: 0.0757 - val_accuracy: 0.9788 - 11s/epoch - 69ms/step\n",
            "Epoch 3/20\n",
            "156/156 - 11s - loss: 0.0536 - accuracy: 0.9845 - val_loss: 0.0689 - val_accuracy: 0.9822 - 11s/epoch - 69ms/step\n",
            "Epoch 4/20\n",
            "156/156 - 14s - loss: 0.0405 - accuracy: 0.9889 - val_loss: 0.0626 - val_accuracy: 0.9847 - 14s/epoch - 89ms/step\n",
            "Epoch 5/20\n",
            "156/156 - 12s - loss: 0.0330 - accuracy: 0.9905 - val_loss: 0.0613 - val_accuracy: 0.9863 - 12s/epoch - 79ms/step\n",
            "Epoch 6/20\n",
            "156/156 - 11s - loss: 0.0269 - accuracy: 0.9911 - val_loss: 0.0652 - val_accuracy: 0.9844 - 11s/epoch - 68ms/step\n",
            "Epoch 7/20\n",
            "156/156 - 11s - loss: 0.0272 - accuracy: 0.9919 - val_loss: 0.0505 - val_accuracy: 0.9858 - 11s/epoch - 69ms/step\n",
            "Epoch 8/20\n",
            "156/156 - 11s - loss: 0.0230 - accuracy: 0.9930 - val_loss: 0.0484 - val_accuracy: 0.9880 - 11s/epoch - 68ms/step\n",
            "Epoch 9/20\n",
            "156/156 - 11s - loss: 0.0165 - accuracy: 0.9951 - val_loss: 0.0639 - val_accuracy: 0.9855 - 11s/epoch - 69ms/step\n",
            "Epoch 10/20\n",
            "156/156 - 11s - loss: 0.0148 - accuracy: 0.9951 - val_loss: 0.0564 - val_accuracy: 0.9863 - 11s/epoch - 69ms/step\n",
            "Epoch 11/20\n",
            "156/156 - 11s - loss: 0.0176 - accuracy: 0.9939 - val_loss: 0.0589 - val_accuracy: 0.9863 - 11s/epoch - 68ms/step\n",
            "Epoch 12/20\n",
            "156/156 - 11s - loss: 0.0124 - accuracy: 0.9960 - val_loss: 0.0539 - val_accuracy: 0.9855 - 11s/epoch - 69ms/step\n",
            "Epoch 13/20\n",
            "156/156 - 11s - loss: 0.0102 - accuracy: 0.9970 - val_loss: 0.0515 - val_accuracy: 0.9872 - 11s/epoch - 69ms/step\n",
            "Epoch 14/20\n",
            "156/156 - 11s - loss: 0.0084 - accuracy: 0.9973 - val_loss: 0.0699 - val_accuracy: 0.9836 - 11s/epoch - 73ms/step\n",
            "Epoch 15/20\n",
            "156/156 - 11s - loss: 0.0112 - accuracy: 0.9964 - val_loss: 0.0572 - val_accuracy: 0.9863 - 11s/epoch - 69ms/step\n",
            "Epoch 16/20\n",
            "156/156 - 11s - loss: 0.0072 - accuracy: 0.9976 - val_loss: 0.0536 - val_accuracy: 0.9883 - 11s/epoch - 68ms/step\n",
            "Epoch 17/20\n",
            "156/156 - 11s - loss: 0.0077 - accuracy: 0.9977 - val_loss: 0.0595 - val_accuracy: 0.9869 - 11s/epoch - 68ms/step\n",
            "Epoch 18/20\n",
            "156/156 - 11s - loss: 0.0095 - accuracy: 0.9967 - val_loss: 0.0476 - val_accuracy: 0.9889 - 11s/epoch - 69ms/step\n",
            "Epoch 19/20\n",
            "156/156 - 11s - loss: 0.0061 - accuracy: 0.9978 - val_loss: 0.0493 - val_accuracy: 0.9889 - 11s/epoch - 69ms/step\n",
            "Epoch 20/20\n",
            "156/156 - 11s - loss: 0.0074 - accuracy: 0.9972 - val_loss: 0.0537 - val_accuracy: 0.9886 - 11s/epoch - 69ms/step\n"
          ]
        },
        {
          "output_type": "execute_result",
          "data": {
            "text/plain": [
              "<keras.callbacks.History at 0x7fa87db92090>"
            ]
          },
          "metadata": {},
          "execution_count": 23
        }
      ]
    },
    {
      "cell_type": "code",
      "source": [
        "his = pd.DataFrame(result.history)\n",
        "his.loc[:, ['accuracy', 'val_accuracy']].plot()\n",
        "his.loc[:, ['loss', 'val_loss']].plot()"
      ],
      "metadata": {
        "execution": {
          "iopub.status.busy": "2022-05-02T01:26:44.060923Z",
          "iopub.execute_input": "2022-05-02T01:26:44.061228Z",
          "iopub.status.idle": "2022-05-02T01:26:44.575201Z",
          "shell.execute_reply.started": "2022-05-02T01:26:44.061197Z",
          "shell.execute_reply": "2022-05-02T01:26:44.574399Z"
        },
        "trusted": true,
        "colab": {
          "base_uri": "https://localhost:8080/",
          "height": 531
        },
        "id": "3aiEywmZqbXl",
        "outputId": "59c4e647-9cf4-47b4-b226-be5bb6a4656d"
      },
      "execution_count": 24,
      "outputs": [
        {
          "output_type": "execute_result",
          "data": {
            "text/plain": [
              "<matplotlib.axes._subplots.AxesSubplot at 0x7fa87da1f7d0>"
            ]
          },
          "metadata": {},
          "execution_count": 24
        },
        {
          "output_type": "display_data",
          "data": {
            "text/plain": [
              "<Figure size 432x288 with 1 Axes>"
            ],
            "image/png": "[encoded data removed]"
          },
          "metadata": {
            "needs_background": "light"
          }
        },
        {
          "output_type": "display_data",
          "data": {
            "text/plain": [
              "<Figure size 432x288 with 1 Axes>"
            ],
            "image/png": "[encoded data removed]"
          },
          "metadata": {
            "needs_background": "light"
          }
        }
      ]
    },
    {
      "cell_type": "markdown",
      "source": [
        "# Model Predictions"
      ],
      "metadata": {
        "id": "0xQKhlpzqbXl"
      }
    },
    {
      "cell_type": "code",
      "source": [
        "y_pred = model.predict(test_images)\n",
        "print(y_pred[0])"
      ],
      "metadata": {
        "execution": {
          "iopub.status.busy": "2022-05-02T01:27:42.279598Z",
          "iopub.execute_input": "2022-05-02T01:27:42.279886Z",
          "iopub.status.idle": "2022-05-02T01:27:43.346258Z",
          "shell.execute_reply.started": "2022-05-02T01:27:42.279857Z",
          "shell.execute_reply": "2022-05-02T01:27:43.344728Z"
        },
        "trusted": true,
        "colab": {
          "base_uri": "https://localhost:8080/"
        },
        "id": "Xc2xKqdAqbXl",
        "outputId": "e947a9a2-e9d1-4db4-834a-23720dab186e"
      },
      "execution_count": 25,
      "outputs": [
        {
          "output_type": "stream",
          "name": "stdout",
          "text": [
            "[7.6235004e-08 1.2781129e-07 5.9121770e-09 9.8719019e-01 6.7051175e-08\n",
            " 1.2769191e-02 9.5627954e-08 5.9187386e-07 3.3187185e-05 6.4611518e-06]\n"
          ]
        }
      ]
    },
    {
      "cell_type": "code",
      "source": [
        "y_pred2=[]\n",
        "for item in y_pred:   \n",
        "    y_pred2+=[np.argmax(item)   ]\n",
        "PRED=np.array(y_pred2)\n",
        "ANS=np.array(testY)\n",
        "print(PRED[0:10])\n",
        "print(ANS[0:10])"
      ],
      "metadata": {
        "execution": {
          "iopub.status.busy": "2022-05-02T01:27:51.356918Z",
          "iopub.execute_input": "2022-05-02T01:27:51.357651Z",
          "iopub.status.idle": "2022-05-02T01:27:51.385598Z",
          "shell.execute_reply.started": "2022-05-02T01:27:51.357615Z",
          "shell.execute_reply": "2022-05-02T01:27:51.384928Z"
        },
        "trusted": true,
        "colab": {
          "base_uri": "https://localhost:8080/"
        },
        "id": "JZcYMxUuqbXm",
        "outputId": "b27bc5b5-8620-47a5-eff1-79acb0477773"
      },
      "execution_count": 26,
      "outputs": [
        {
          "output_type": "stream",
          "name": "stdout",
          "text": [
            "[3 3 1 2 0 2 9 2 8 6]\n",
            "[3 3 1 2 0 2 9 2 8 6]\n"
          ]
        }
      ]
    },
    {
      "cell_type": "code",
      "source": [
        "accuracy_score(ANS,PRED)"
      ],
      "metadata": {
        "execution": {
          "iopub.status.busy": "2022-05-02T01:27:59.915437Z",
          "iopub.execute_input": "2022-05-02T01:27:59.915762Z",
          "iopub.status.idle": "2022-05-02T01:27:59.922362Z",
          "shell.execute_reply.started": "2022-05-02T01:27:59.915694Z",
          "shell.execute_reply": "2022-05-02T01:27:59.921668Z"
        },
        "trusted": true,
        "colab": {
          "base_uri": "https://localhost:8080/"
        },
        "id": "uUQWlXD2qbXn",
        "outputId": "0f39fae1-e418-4b3f-bf1e-0acc6237db24"
      },
      "execution_count": 27,
      "outputs": [
        {
          "output_type": "execute_result",
          "data": {
            "text/plain": [
              "0.991304347826087"
            ]
          },
          "metadata": {},
          "execution_count": 27
        }
      ]
    },
    {
      "cell_type": "markdown",
      "source": [
        "# Visualizing random predictions"
      ],
      "metadata": {
        "id": "ltECc2yqqbXn"
      }
    },
    {
      "cell_type": "code",
      "source": [
        "#Predicting a digits using the trained model\n",
        "idx = 2200\n",
        "plt.imshow(X_test[idx].reshape(28,28))\n",
        "model_prediction = model.predict(X_test[idx].reshape(1, 28, 28, 1))\n",
        "\n",
        "print(\"Model Prediction: \", model_prediction.argmax())"
      ],
      "metadata": {
        "execution": {
          "iopub.status.busy": "2022-05-02T01:28:34.663731Z",
          "iopub.execute_input": "2022-05-02T01:28:34.664388Z",
          "iopub.status.idle": "2022-05-02T01:28:34.935077Z",
          "shell.execute_reply.started": "2022-05-02T01:28:34.664352Z",
          "shell.execute_reply": "2022-05-02T01:28:34.934101Z"
        },
        "trusted": true,
        "colab": {
          "base_uri": "https://localhost:8080/",
          "height": 283
        },
        "id": "CJ37vqBiqbXo",
        "outputId": "3e2ceff0-bb8f-44aa-8470-5b383ca67e17"
      },
      "execution_count": 28,
      "outputs": [
        {
          "output_type": "stream",
          "name": "stdout",
          "text": [
            "Model Prediction:  3\n"
          ]
        },
        {
          "output_type": "display_data",
          "data": {
            "text/plain": [
              "<Figure size 432x288 with 1 Axes>"
            ],
            "image/png": "[encoded data removed]"
          },
          "metadata": {
            "needs_background": "light"
          }
        }
      ]
    },
    {
      "cell_type": "code",
      "source": [
        "#Predicting a digits using the trained model\n",
        "idx = 100\n",
        "plt.imshow(X_test[idx].reshape(28,28))\n",
        "model_prediction = model.predict(X_test[idx].reshape(1, 28, 28, 1))\n",
        "\n",
        "print(\"Model Prediction: \", model_prediction.argmax())"
      ],
      "metadata": {
        "execution": {
          "iopub.status.busy": "2022-05-02T01:28:44.164628Z",
          "iopub.execute_input": "2022-05-02T01:28:44.164926Z",
          "iopub.status.idle": "2022-05-02T01:28:44.427313Z",
          "shell.execute_reply.started": "2022-05-02T01:28:44.164895Z",
          "shell.execute_reply": "2022-05-02T01:28:44.426395Z"
        },
        "trusted": true,
        "colab": {
          "base_uri": "https://localhost:8080/",
          "height": 283
        },
        "id": "-x4uOhZcqbXp",
        "outputId": "0b9ac531-5c84-4836-fa63-81cfe84b2eed"
      },
      "execution_count": 29,
      "outputs": [
        {
          "output_type": "stream",
          "name": "stdout",
          "text": [
            "Model Prediction:  7\n"
          ]
        },
        {
          "output_type": "display_data",
          "data": {
            "text/plain": [
              "<Figure size 432x288 with 1 Axes>"
            ],
            "image/png": "[encoded data removed]"
          },
          "metadata": {
            "needs_background": "light"
          }
        }
      ]
    },
    {
      "cell_type": "code",
      "source": [
        "#Predicting a digits using the trained model\n",
        "idx = 80\n",
        "plt.imshow(X_test[idx].reshape(28,28))\n",
        "model_prediction = model.predict(X_test[idx].reshape(1, 28, 28, 1))\n",
        "\n",
        "print(\"Model Prediction: \", model_prediction.argmax())"
      ],
      "metadata": {
        "execution": {
          "iopub.status.busy": "2022-05-02T01:28:55.903356Z",
          "iopub.execute_input": "2022-05-02T01:28:55.903674Z",
          "iopub.status.idle": "2022-05-02T01:28:56.164337Z",
          "shell.execute_reply.started": "2022-05-02T01:28:55.903623Z",
          "shell.execute_reply": "2022-05-02T01:28:56.163722Z"
        },
        "trusted": true,
        "colab": {
          "base_uri": "https://localhost:8080/",
          "height": 283
        },
        "id": "ls7z9KSCqbXp",
        "outputId": "0a08292f-889f-45b3-e39f-7a4581c0a748"
      },
      "execution_count": 30,
      "outputs": [
        {
          "output_type": "stream",
          "name": "stdout",
          "text": [
            "Model Prediction:  4\n"
          ]
        },
        {
          "output_type": "display_data",
          "data": {
            "text/plain": [
              "<Figure size 432x288 with 1 Axes>"
            ],
            "image/png": "[encoded data removed]"
          },
          "metadata": {
            "needs_background": "light"
          }
        }
      ]
    },
    {
      "cell_type": "markdown",
      "source": [
        "# Conclusion\n",
        "1. The accuracy of our CNN Sequential model on the test data is 99.03% which is pretty good.\n",
        "2. The predictions which we made in the end we also fully accurate ( 3 of 3 images were correctly predicted) \n"
      ],
      "metadata": {
        "id": "nGdlEtrHqbXq"
      }
    },
    {
      "cell_type": "markdown",
      "source": [
        "# References\n",
        "1. Dataset (https://www.kaggle.com/datasets/nimishmagre/tmnist-typeface-mnist)\n",
        "2. CNN (https://www.tensorflow.org/tutorials/images/cnn)\n",
        "3. Visualization (https://matplotlib.org/stable/index.html)"
      ],
      "metadata": {
        "id": "gbYFKkusqbXq"
      }
    },
    {
      "cell_type": "markdown",
      "source": [
        "# License\n",
        "\n",
        "MIT License\n",
        "\n",
        "Copyright (c) 2022 Rituja Lolam\n",
        "\n",
        "Permission is hereby granted, free of charge, to any person obtaining a copy\n",
        "of this software and associated documentation files (the \"Software\"), to deal\n",
        "in the Software without restriction, including without limitation the rights\n",
        "to use, copy, modify, merge, publish, distribute, sublicense, and/or sell\n",
        "copies of the Software, and to permit persons to whom the Software is\n",
        "furnished to do so, subject to the following conditions:\n",
        "\n",
        "The above copyright notice and this permission notice shall be included in all\n",
        "copies or substantial portions of the Software.\n",
        "\n",
        "THE SOFTWARE IS PROVIDED \"AS IS\", WITHOUT WARRANTY OF ANY KIND, EXPRESS OR\n",
        "IMPLIED, INCLUDING BUT NOT LIMITED TO THE WARRANTIES OF MERCHANTABILITY,\n",
        "FITNESS FOR A PARTICULAR PURPOSE AND NONINFRINGEMENT. IN NO EVENT SHALL THE\n",
        "AUTHORS OR COPYRIGHT HOLDERS BE LIABLE FOR ANY CLAIM, DAMAGES OR OTHER\n",
        "LIABILITY, WHETHER IN AN ACTION OF CONTRACT, TORT OR OTHERWISE, ARISING FROM,\n",
        "OUT OF OR IN CONNECTION WITH THE SOFTWARE OR THE USE OR OTHER DEALINGS IN THE\n",
        "SOFTWARE."
      ],
      "metadata": {
        "id": "3oQYUo1yqbXr"
      }
    }
  ]
}